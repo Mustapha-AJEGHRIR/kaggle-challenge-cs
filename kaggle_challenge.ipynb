{
 "cells": [
  {
   "cell_type": "markdown",
   "metadata": {},
   "source": [
    "<center> <font size=6> Kaggle challenge </font> </center>\n",
    "<center> <i> GroudTruth Team </i> </center>"
   ]
  },
  {
   "cell_type": "markdown",
   "metadata": {
    "toc": true
   },
   "source": [
    "<h1>Table of Contents<span class=\"tocSkip\"></span></h1>\n",
    "<div class=\"toc\"><ul class=\"toc-item\"><li><span><a href=\"#Import-modules\" data-toc-modified-id=\"Import-modules-1\"><span class=\"toc-item-num\">1&nbsp;&nbsp;</span>Import modules</a></span></li><li><span><a href=\"#Import-data\" data-toc-modified-id=\"Import-data-2\"><span class=\"toc-item-num\">2&nbsp;&nbsp;</span>Import data</a></span></li><li><span><a href=\"#Information-about-the-dataset\" data-toc-modified-id=\"Information-about-the-dataset-3\"><span class=\"toc-item-num\">3&nbsp;&nbsp;</span>Information about the dataset</a></span><ul class=\"toc-item\"><li><span><a href=\"#Dataset-Features\" data-toc-modified-id=\"Dataset-Features-3.1\"><span class=\"toc-item-num\">3.1&nbsp;&nbsp;</span>Dataset Features</a></span></li><li><span><a href=\"#Class-Labels-(8-Classes)\" data-toc-modified-id=\"Class-Labels-(8-Classes)-3.2\"><span class=\"toc-item-num\">3.2&nbsp;&nbsp;</span>Class Labels (8 Classes)</a></span></li><li><span><a href=\"#Profile-Report\" data-toc-modified-id=\"Profile-Report-3.3\"><span class=\"toc-item-num\">3.3&nbsp;&nbsp;</span>Profile Report</a></span></li></ul></li><li><span><a href=\"#Data-Analysis\" data-toc-modified-id=\"Data-Analysis-4\"><span class=\"toc-item-num\">4&nbsp;&nbsp;</span>Data Analysis</a></span></li><li><span><a href=\"#Preprocessing\" data-toc-modified-id=\"Preprocessing-5\"><span class=\"toc-item-num\">5&nbsp;&nbsp;</span>Preprocessing</a></span><ul class=\"toc-item\"><li><span><a href=\"#NA-Cleaning\" data-toc-modified-id=\"NA-Cleaning-5.1\"><span class=\"toc-item-num\">5.1&nbsp;&nbsp;</span>NA Cleaning</a></span></li><li><span><a href=\"#Date\" data-toc-modified-id=\"Date-5.2\"><span class=\"toc-item-num\">5.2&nbsp;&nbsp;</span>Date</a></span><ul class=\"toc-item\"><li><span><a href=\"#Regex-parsing-for-date-extraction\" data-toc-modified-id=\"Regex-parsing-for-date-extraction-5.2.1\"><span class=\"toc-item-num\">5.2.1&nbsp;&nbsp;</span>Regex parsing for date extraction</a></span></li><li><span><a href=\"#Applying-transformation-to-the-dataset\" data-toc-modified-id=\"Applying-transformation-to-the-dataset-5.2.2\"><span class=\"toc-item-num\">5.2.2&nbsp;&nbsp;</span>Applying transformation to the dataset</a></span></li><li><span><a href=\"#Creating-date-features\" data-toc-modified-id=\"Creating-date-features-5.2.3\"><span class=\"toc-item-num\">5.2.3&nbsp;&nbsp;</span>Creating date features</a></span></li></ul></li><li><span><a href=\"#Categorical-encoding\" data-toc-modified-id=\"Categorical-encoding-5.3\"><span class=\"toc-item-num\">5.3&nbsp;&nbsp;</span>Categorical encoding</a></span><ul class=\"toc-item\"><li><span><a href=\"#weekday--&gt;-One-Hot-Encoding\" data-toc-modified-id=\"weekday-->-One-Hot-Encoding-5.3.1\"><span class=\"toc-item-num\">5.3.1&nbsp;&nbsp;</span>weekday -&gt; One-Hot Encoding</a></span></li></ul></li><li><span><a href=\"#Dropping-classes\" data-toc-modified-id=\"Dropping-classes-5.4\"><span class=\"toc-item-num\">5.4&nbsp;&nbsp;</span>Dropping classes</a></span></li></ul></li><li><span><a href=\"#Final-dataset-overview\" data-toc-modified-id=\"Final-dataset-overview-6\"><span class=\"toc-item-num\">6&nbsp;&nbsp;</span>Final dataset overview</a></span></li><li><span><a href=\"#Model\" data-toc-modified-id=\"Model-7\"><span class=\"toc-item-num\">7&nbsp;&nbsp;</span>Model</a></span><ul class=\"toc-item\"><li><span><a href=\"#For-one-class-first\" data-toc-modified-id=\"For-one-class-first-7.1\"><span class=\"toc-item-num\">7.1&nbsp;&nbsp;</span>For one class first</a></span><ul class=\"toc-item\"><li><span><a href=\"#Splitting-train-/-test\" data-toc-modified-id=\"Splitting-train-/-test-7.1.1\"><span class=\"toc-item-num\">7.1.1&nbsp;&nbsp;</span>Splitting train / test</a></span></li><li><span><a href=\"#Prediction\" data-toc-modified-id=\"Prediction-7.1.2\"><span class=\"toc-item-num\">7.1.2&nbsp;&nbsp;</span>Prediction</a></span></li></ul></li><li><span><a href=\"#GridSearch-for-one-class\" data-toc-modified-id=\"GridSearch-for-one-class-7.2\"><span class=\"toc-item-num\">7.2&nbsp;&nbsp;</span>GridSearch for one class</a></span></li><li><span><a href=\"#For-all-classes\" data-toc-modified-id=\"For-all-classes-7.3\"><span class=\"toc-item-num\">7.3&nbsp;&nbsp;</span>For all classes</a></span></li></ul></li><li><span><a href=\"#Generating-submissions-for-Kaggle\" data-toc-modified-id=\"Generating-submissions-for-Kaggle-8\"><span class=\"toc-item-num\">8&nbsp;&nbsp;</span>Generating submissions for Kaggle</a></span><ul class=\"toc-item\"><li><span><a href=\"#Pipeline-function\" data-toc-modified-id=\"Pipeline-function-8.1\"><span class=\"toc-item-num\">8.1&nbsp;&nbsp;</span>Pipeline function</a></span></li></ul></li></ul></div>"
   ]
  },
  {
   "cell_type": "markdown",
   "metadata": {},
   "source": [
    "# Import modules"
   ]
  },
  {
   "cell_type": "code",
   "execution_count": 1,
   "metadata": {},
   "outputs": [],
   "source": [
    "import os\n",
    "import json\n",
    "\n",
    "import warnings\n",
    "warnings.filterwarnings('ignore')\n",
    "\n",
    "from tqdm.notebook import tqdm\n",
    "\n",
    "import numpy as np\n",
    "\n",
    "import pandas as pd\n",
    "from pandas_profiling import ProfileReport\n",
    "\n",
    "import matplotlib.pyplot as plt\n",
    "import seaborn as sns\n",
    "\n",
    "import re\n",
    "\n",
    "from sklearn.model_selection import train_test_split, GridSearchCV\n",
    "from sklearn.metrics import classification_report, log_loss\n",
    "\n",
    "import xgboost as xgb"
   ]
  },
  {
   "cell_type": "markdown",
   "metadata": {},
   "source": [
    "# Import data"
   ]
  },
  {
   "cell_type": "code",
   "execution_count": 2,
   "metadata": {},
   "outputs": [
    {
     "data": {
      "text/plain": [
       "['submission_tony.csv',\n",
       " 'skeleton_code_ml.py',\n",
       " '.DS_Store',\n",
       " 'LICENSE',\n",
       " 'sample_submission_ml.csv',\n",
       " '2EL1730-ML-Kaggle_Challenge_Description.pdf',\n",
       " 'test_ml.csv',\n",
       " 'models',\n",
       " 'README.md',\n",
       " 'train_ml.csv',\n",
       " '.gitignore',\n",
       " 'XGBClassifier_optimal_parameters.json',\n",
       " '.ipynb_checkpoints',\n",
       " '2EL1730-ML-Kaggle_Challenge_Instructions.pdf',\n",
       " '.git',\n",
       " 'kaggle_challenge.ipynb']"
      ]
     },
     "execution_count": 2,
     "metadata": {},
     "output_type": "execute_result"
    }
   ],
   "source": [
    "os.listdir()"
   ]
  },
  {
   "cell_type": "code",
   "execution_count": 3,
   "metadata": {
    "scrolled": true
   },
   "outputs": [
    {
     "data": {
      "text/html": [
       "<div>\n",
       "<style scoped>\n",
       "    .dataframe tbody tr th:only-of-type {\n",
       "        vertical-align: middle;\n",
       "    }\n",
       "\n",
       "    .dataframe tbody tr th {\n",
       "        vertical-align: top;\n",
       "    }\n",
       "\n",
       "    .dataframe thead th {\n",
       "        text-align: right;\n",
       "    }\n",
       "</style>\n",
       "<table border=\"1\" class=\"dataframe\">\n",
       "  <thead>\n",
       "    <tr style=\"text-align: right;\">\n",
       "      <th></th>\n",
       "      <th>date</th>\n",
       "      <th>org</th>\n",
       "      <th>tld</th>\n",
       "      <th>ccs</th>\n",
       "      <th>bcced</th>\n",
       "      <th>mail_type</th>\n",
       "      <th>images</th>\n",
       "      <th>urls</th>\n",
       "      <th>salutations</th>\n",
       "      <th>designation</th>\n",
       "      <th>chars_in_subject</th>\n",
       "      <th>chars_in_body</th>\n",
       "      <th>updates</th>\n",
       "      <th>personal</th>\n",
       "      <th>promotions</th>\n",
       "      <th>forums</th>\n",
       "      <th>purchases</th>\n",
       "      <th>travel</th>\n",
       "      <th>spam</th>\n",
       "      <th>social</th>\n",
       "    </tr>\n",
       "  </thead>\n",
       "  <tbody>\n",
       "    <tr>\n",
       "      <th>0</th>\n",
       "      <td>Mon, 15 Oct 2018 08:03:09 +0000 (UTC)</td>\n",
       "      <td>researchgatemail</td>\n",
       "      <td>net</td>\n",
       "      <td>0</td>\n",
       "      <td>0</td>\n",
       "      <td>multipart/alternative</td>\n",
       "      <td>4</td>\n",
       "      <td>28</td>\n",
       "      <td>0</td>\n",
       "      <td>1</td>\n",
       "      <td>47.0</td>\n",
       "      <td>25556</td>\n",
       "      <td>0</td>\n",
       "      <td>1</td>\n",
       "      <td>0</td>\n",
       "      <td>0</td>\n",
       "      <td>0</td>\n",
       "      <td>0</td>\n",
       "      <td>0</td>\n",
       "      <td>1</td>\n",
       "    </tr>\n",
       "    <tr>\n",
       "      <th>1</th>\n",
       "      <td>Thu, 17 Apr 2014 09:12:33 -0700 (PDT)</td>\n",
       "      <td>no-ip</td>\n",
       "      <td>com</td>\n",
       "      <td>0</td>\n",
       "      <td>0</td>\n",
       "      <td>multipart/alternative</td>\n",
       "      <td>6</td>\n",
       "      <td>32</td>\n",
       "      <td>0</td>\n",
       "      <td>0</td>\n",
       "      <td>46.0</td>\n",
       "      <td>19930</td>\n",
       "      <td>1</td>\n",
       "      <td>1</td>\n",
       "      <td>0</td>\n",
       "      <td>0</td>\n",
       "      <td>0</td>\n",
       "      <td>0</td>\n",
       "      <td>0</td>\n",
       "      <td>0</td>\n",
       "    </tr>\n",
       "    <tr>\n",
       "      <th>2</th>\n",
       "      <td>Thu, 27 Oct 2016 01:36:28 +0000</td>\n",
       "      <td>mail</td>\n",
       "      <td>goodreads.com</td>\n",
       "      <td>0</td>\n",
       "      <td>0</td>\n",
       "      <td>multipart/mixed</td>\n",
       "      <td>0</td>\n",
       "      <td>0</td>\n",
       "      <td>0</td>\n",
       "      <td>0</td>\n",
       "      <td>21.0</td>\n",
       "      <td>4</td>\n",
       "      <td>0</td>\n",
       "      <td>1</td>\n",
       "      <td>0</td>\n",
       "      <td>0</td>\n",
       "      <td>0</td>\n",
       "      <td>0</td>\n",
       "      <td>0</td>\n",
       "      <td>1</td>\n",
       "    </tr>\n",
       "    <tr>\n",
       "      <th>3</th>\n",
       "      <td>Fri, 16 Oct 2020 08:06:31 +0000 (GMT)</td>\n",
       "      <td>insideapple</td>\n",
       "      <td>apple.com</td>\n",
       "      <td>0</td>\n",
       "      <td>0</td>\n",
       "      <td>multipart/alternative</td>\n",
       "      <td>108</td>\n",
       "      <td>171</td>\n",
       "      <td>0</td>\n",
       "      <td>0</td>\n",
       "      <td>52.0</td>\n",
       "      <td>96568</td>\n",
       "      <td>0</td>\n",
       "      <td>0</td>\n",
       "      <td>1</td>\n",
       "      <td>0</td>\n",
       "      <td>0</td>\n",
       "      <td>0</td>\n",
       "      <td>0</td>\n",
       "      <td>0</td>\n",
       "    </tr>\n",
       "    <tr>\n",
       "      <th>4</th>\n",
       "      <td>Thu, 02 Jul 2015 10:16:46 +0000</td>\n",
       "      <td>twitter</td>\n",
       "      <td>com</td>\n",
       "      <td>0</td>\n",
       "      <td>0</td>\n",
       "      <td>multipart/alternative</td>\n",
       "      <td>20</td>\n",
       "      <td>166</td>\n",
       "      <td>0</td>\n",
       "      <td>0</td>\n",
       "      <td>81.0</td>\n",
       "      <td>95131</td>\n",
       "      <td>0</td>\n",
       "      <td>1</td>\n",
       "      <td>0</td>\n",
       "      <td>0</td>\n",
       "      <td>0</td>\n",
       "      <td>0</td>\n",
       "      <td>0</td>\n",
       "      <td>1</td>\n",
       "    </tr>\n",
       "  </tbody>\n",
       "</table>\n",
       "</div>"
      ],
      "text/plain": [
       "                                    date               org            tld  \\\n",
       "0  Mon, 15 Oct 2018 08:03:09 +0000 (UTC)  researchgatemail            net   \n",
       "1  Thu, 17 Apr 2014 09:12:33 -0700 (PDT)             no-ip            com   \n",
       "2        Thu, 27 Oct 2016 01:36:28 +0000              mail  goodreads.com   \n",
       "3  Fri, 16 Oct 2020 08:06:31 +0000 (GMT)       insideapple      apple.com   \n",
       "4        Thu, 02 Jul 2015 10:16:46 +0000           twitter            com   \n",
       "\n",
       "   ccs  bcced              mail_type  images  urls  salutations  designation  \\\n",
       "0    0      0  multipart/alternative       4    28            0            1   \n",
       "1    0      0  multipart/alternative       6    32            0            0   \n",
       "2    0      0        multipart/mixed       0     0            0            0   \n",
       "3    0      0  multipart/alternative     108   171            0            0   \n",
       "4    0      0  multipart/alternative      20   166            0            0   \n",
       "\n",
       "   chars_in_subject  chars_in_body  updates  personal  promotions  forums  \\\n",
       "0              47.0          25556        0         1           0       0   \n",
       "1              46.0          19930        1         1           0       0   \n",
       "2              21.0              4        0         1           0       0   \n",
       "3              52.0          96568        0         0           1       0   \n",
       "4              81.0          95131        0         1           0       0   \n",
       "\n",
       "   purchases  travel  spam  social  \n",
       "0          0       0     0       1  \n",
       "1          0       0     0       0  \n",
       "2          0       0     0       1  \n",
       "3          0       0     0       0  \n",
       "4          0       0     0       1  "
      ]
     },
     "execution_count": 3,
     "metadata": {},
     "output_type": "execute_result"
    }
   ],
   "source": [
    "df = pd.read_csv('train_ml.csv').drop(columns=['Unnamed: 0'])\n",
    "df_test = pd.read_csv('test_ml.csv').drop(columns=['Unnamed: 0'])\n",
    "\n",
    "df.head()"
   ]
  },
  {
   "cell_type": "code",
   "execution_count": 4,
   "metadata": {},
   "outputs": [
    {
     "name": "stdout",
     "output_type": "stream",
     "text": [
      "<class 'pandas.core.frame.DataFrame'>\n",
      "RangeIndex: 39671 entries, 0 to 39670\n",
      "Data columns (total 20 columns):\n",
      " #   Column            Non-Null Count  Dtype  \n",
      "---  ------            --------------  -----  \n",
      " 0   date              39671 non-null  object \n",
      " 1   org               37994 non-null  object \n",
      " 2   tld               37992 non-null  object \n",
      " 3   ccs               39671 non-null  int64  \n",
      " 4   bcced             39671 non-null  int64  \n",
      " 5   mail_type         39573 non-null  object \n",
      " 6   images            39671 non-null  int64  \n",
      " 7   urls              39671 non-null  int64  \n",
      " 8   salutations       39671 non-null  int64  \n",
      " 9   designation       39671 non-null  int64  \n",
      " 10  chars_in_subject  39660 non-null  float64\n",
      " 11  chars_in_body     39671 non-null  int64  \n",
      " 12  updates           39671 non-null  int64  \n",
      " 13  personal          39671 non-null  int64  \n",
      " 14  promotions        39671 non-null  int64  \n",
      " 15  forums            39671 non-null  int64  \n",
      " 16  purchases         39671 non-null  int64  \n",
      " 17  travel            39671 non-null  int64  \n",
      " 18  spam              39671 non-null  int64  \n",
      " 19  social            39671 non-null  int64  \n",
      "dtypes: float64(1), int64(15), object(4)\n",
      "memory usage: 6.1+ MB\n"
     ]
    }
   ],
   "source": [
    "df.info()"
   ]
  },
  {
   "cell_type": "markdown",
   "metadata": {},
   "source": [
    "# Information about the dataset"
   ]
  },
  {
   "cell_type": "markdown",
   "metadata": {},
   "source": [
    "## Dataset Features\n",
    "\n",
    "- date - unix style date format, date-time on which the email was received, e.g. Sat, 2 Jul 2016 11:02:58 +0530\n",
    "- org - organisation of the sender, e.g. centralesupelec, facebook, and google.\n",
    "- tld - top level domain of the organisation, eg. com, ac.in, fr, and org.\n",
    "- ccs - number of emails cced with this email, e.g. 0, 2, and 10.\n",
    "- bcced - is the receiver bcc'd in the email. Can take two values: 0 or 1.\n",
    "- mail_type - type of the mail body, e.g. text/plain and text/html.\n",
    "- images - number of images in the mail body, e.g. 0, 1, and 100.\n",
    "- urls - number of urls in the mail body, e.g. 0, 1, and 50.\n",
    "- salutations - is salutation used in the email? Either 0 or 1.\n",
    "- designation - is designation of the sender mentioned in the email. Either 0 or 1.\n",
    "- chars_in_subject - number of characters in the mail subject, e.g. 0, 1, and 10.\n",
    "- chars_in_body - number of characters in the mail body, e.g. 10 and 10000.\n",
    "- labels - last eight columns represent eight classes, 0 means that label is not present for this row and 1 means that label is present, multiple label columsn can be 1. Label columns are only present in train.csv. test.csv has features only."
   ]
  },
  {
   "cell_type": "markdown",
   "metadata": {},
   "source": [
    "## Class Labels (8 Classes)\n",
    "- updates\n",
    "- personal\n",
    "- promotions\n",
    "- forums\n",
    "- purchases\n",
    "- travel\n",
    "- spam\n",
    "- social"
   ]
  },
  {
   "cell_type": "code",
   "execution_count": 5,
   "metadata": {
    "scrolled": true
   },
   "outputs": [
    {
     "data": {
      "text/plain": [
       "date                   0\n",
       "org                 1677\n",
       "tld                 1679\n",
       "ccs                    0\n",
       "bcced                  0\n",
       "mail_type             98\n",
       "images                 0\n",
       "urls                   0\n",
       "salutations            0\n",
       "designation            0\n",
       "chars_in_subject      11\n",
       "chars_in_body          0\n",
       "updates                0\n",
       "personal               0\n",
       "promotions             0\n",
       "forums                 0\n",
       "purchases              0\n",
       "travel                 0\n",
       "spam                   0\n",
       "social                 0\n",
       "dtype: int64"
      ]
     },
     "execution_count": 5,
     "metadata": {},
     "output_type": "execute_result"
    }
   ],
   "source": [
    "df.isnull().sum()"
   ]
  },
  {
   "cell_type": "markdown",
   "metadata": {},
   "source": [
    "## Profile Report"
   ]
  },
  {
   "cell_type": "code",
   "execution_count": 6,
   "metadata": {
    "scrolled": false
   },
   "outputs": [],
   "source": [
    "if False: # set to True to generate a new report\n",
    "    profile = ProfileReport(df, title='Profiling Report')\n",
    "    profile.to_file(\"profile_report.html\")"
   ]
  },
  {
   "cell_type": "markdown",
   "metadata": {},
   "source": [
    "# Data Analysis"
   ]
  },
  {
   "cell_type": "code",
   "execution_count": 7,
   "metadata": {},
   "outputs": [
    {
     "data": {
      "text/plain": [
       "Index(['date', 'org', 'tld', 'ccs', 'bcced', 'mail_type', 'images', 'urls',\n",
       "       'salutations', 'designation', 'chars_in_subject', 'chars_in_body',\n",
       "       'updates', 'personal', 'promotions', 'forums', 'purchases', 'travel',\n",
       "       'spam', 'social'],\n",
       "      dtype='object')"
      ]
     },
     "execution_count": 7,
     "metadata": {},
     "output_type": "execute_result"
    }
   ],
   "source": [
    "df.columns"
   ]
  },
  {
   "cell_type": "code",
   "execution_count": 8,
   "metadata": {},
   "outputs": [],
   "source": [
    "list_classes = ['updates', 'personal', 'promotions', 'forums', 'purchases', 'travel',\n",
    "       'spam', 'social']"
   ]
  },
  {
   "cell_type": "code",
   "execution_count": 9,
   "metadata": {},
   "outputs": [
    {
     "data": {
      "text/plain": [
       "personal      21767\n",
       "updates       14377\n",
       "promotions     1747\n",
       "forums         1361\n",
       "social          419\n",
       "dtype: int64"
      ]
     },
     "execution_count": 9,
     "metadata": {},
     "output_type": "execute_result"
    }
   ],
   "source": [
    "df[list_classes].idxmax(axis=1).value_counts()"
   ]
  },
  {
   "cell_type": "code",
   "execution_count": 10,
   "metadata": {},
   "outputs": [
    {
     "data": {
      "image/png": "[encoded data removed]",
      "text/plain": [
       "<Figure size 432x288 with 1 Axes>"
      ]
     },
     "metadata": {
      "needs_background": "light"
     },
     "output_type": "display_data"
    }
   ],
   "source": [
    "df[list_classes].idxmax(axis=1).value_counts().plot.bar();"
   ]
  },
  {
   "cell_type": "code",
   "execution_count": 11,
   "metadata": {
    "scrolled": true
   },
   "outputs": [
    {
     "data": {
      "text/html": [
       "<div>\n",
       "<style scoped>\n",
       "    .dataframe tbody tr th:only-of-type {\n",
       "        vertical-align: middle;\n",
       "    }\n",
       "\n",
       "    .dataframe tbody tr th {\n",
       "        vertical-align: top;\n",
       "    }\n",
       "\n",
       "    .dataframe thead th {\n",
       "        text-align: right;\n",
       "    }\n",
       "</style>\n",
       "<table border=\"1\" class=\"dataframe\">\n",
       "  <thead>\n",
       "    <tr style=\"text-align: right;\">\n",
       "      <th></th>\n",
       "      <th>ccs</th>\n",
       "      <th>images</th>\n",
       "      <th>urls</th>\n",
       "      <th>chars_in_subject</th>\n",
       "      <th>chars_in_body</th>\n",
       "    </tr>\n",
       "  </thead>\n",
       "  <tbody>\n",
       "    <tr>\n",
       "      <th>0</th>\n",
       "      <td>0</td>\n",
       "      <td>4</td>\n",
       "      <td>28</td>\n",
       "      <td>47.0</td>\n",
       "      <td>25556</td>\n",
       "    </tr>\n",
       "    <tr>\n",
       "      <th>1</th>\n",
       "      <td>0</td>\n",
       "      <td>6</td>\n",
       "      <td>32</td>\n",
       "      <td>46.0</td>\n",
       "      <td>19930</td>\n",
       "    </tr>\n",
       "    <tr>\n",
       "      <th>2</th>\n",
       "      <td>0</td>\n",
       "      <td>0</td>\n",
       "      <td>0</td>\n",
       "      <td>21.0</td>\n",
       "      <td>4</td>\n",
       "    </tr>\n",
       "    <tr>\n",
       "      <th>3</th>\n",
       "      <td>0</td>\n",
       "      <td>108</td>\n",
       "      <td>171</td>\n",
       "      <td>52.0</td>\n",
       "      <td>96568</td>\n",
       "    </tr>\n",
       "    <tr>\n",
       "      <th>4</th>\n",
       "      <td>0</td>\n",
       "      <td>20</td>\n",
       "      <td>166</td>\n",
       "      <td>81.0</td>\n",
       "      <td>95131</td>\n",
       "    </tr>\n",
       "    <tr>\n",
       "      <th>...</th>\n",
       "      <td>...</td>\n",
       "      <td>...</td>\n",
       "      <td>...</td>\n",
       "      <td>...</td>\n",
       "      <td>...</td>\n",
       "    </tr>\n",
       "    <tr>\n",
       "      <th>39666</th>\n",
       "      <td>0</td>\n",
       "      <td>11</td>\n",
       "      <td>31</td>\n",
       "      <td>32.0</td>\n",
       "      <td>44952</td>\n",
       "    </tr>\n",
       "    <tr>\n",
       "      <th>39667</th>\n",
       "      <td>0</td>\n",
       "      <td>0</td>\n",
       "      <td>0</td>\n",
       "      <td>57.0</td>\n",
       "      <td>721</td>\n",
       "    </tr>\n",
       "    <tr>\n",
       "      <th>39668</th>\n",
       "      <td>0</td>\n",
       "      <td>0</td>\n",
       "      <td>0</td>\n",
       "      <td>28.0</td>\n",
       "      <td>571</td>\n",
       "    </tr>\n",
       "    <tr>\n",
       "      <th>39669</th>\n",
       "      <td>0</td>\n",
       "      <td>27</td>\n",
       "      <td>136</td>\n",
       "      <td>24.0</td>\n",
       "      <td>92847</td>\n",
       "    </tr>\n",
       "    <tr>\n",
       "      <th>39670</th>\n",
       "      <td>0</td>\n",
       "      <td>0</td>\n",
       "      <td>2</td>\n",
       "      <td>77.0</td>\n",
       "      <td>694</td>\n",
       "    </tr>\n",
       "  </tbody>\n",
       "</table>\n",
       "<p>39671 rows × 5 columns</p>\n",
       "</div>"
      ],
      "text/plain": [
       "       ccs  images  urls  chars_in_subject  chars_in_body\n",
       "0        0       4    28              47.0          25556\n",
       "1        0       6    32              46.0          19930\n",
       "2        0       0     0              21.0              4\n",
       "3        0     108   171              52.0          96568\n",
       "4        0      20   166              81.0          95131\n",
       "...    ...     ...   ...               ...            ...\n",
       "39666    0      11    31              32.0          44952\n",
       "39667    0       0     0              57.0            721\n",
       "39668    0       0     0              28.0            571\n",
       "39669    0      27   136              24.0          92847\n",
       "39670    0       0     2              77.0            694\n",
       "\n",
       "[39671 rows x 5 columns]"
      ]
     },
     "execution_count": 11,
     "metadata": {},
     "output_type": "execute_result"
    }
   ],
   "source": [
    "numerical_features = [\"ccs\", \"images\", \"urls\", \"chars_in_subject\", \"chars_in_body\"]\n",
    "df[numerical_features]"
   ]
  },
  {
   "cell_type": "code",
   "execution_count": 12,
   "metadata": {},
   "outputs": [
    {
     "data": {
      "text/html": [
       "<div>\n",
       "<style scoped>\n",
       "    .dataframe tbody tr th:only-of-type {\n",
       "        vertical-align: middle;\n",
       "    }\n",
       "\n",
       "    .dataframe tbody tr th {\n",
       "        vertical-align: top;\n",
       "    }\n",
       "\n",
       "    .dataframe thead th {\n",
       "        text-align: right;\n",
       "    }\n",
       "</style>\n",
       "<table border=\"1\" class=\"dataframe\">\n",
       "  <thead>\n",
       "    <tr style=\"text-align: right;\">\n",
       "      <th></th>\n",
       "      <th>ccs</th>\n",
       "      <th>images</th>\n",
       "      <th>urls</th>\n",
       "      <th>chars_in_subject</th>\n",
       "      <th>chars_in_body</th>\n",
       "    </tr>\n",
       "  </thead>\n",
       "  <tbody>\n",
       "    <tr>\n",
       "      <th>count</th>\n",
       "      <td>39671.000000</td>\n",
       "      <td>39671.000000</td>\n",
       "      <td>39671.000000</td>\n",
       "      <td>39660.000000</td>\n",
       "      <td>3.967100e+04</td>\n",
       "    </tr>\n",
       "    <tr>\n",
       "      <th>mean</th>\n",
       "      <td>0.378967</td>\n",
       "      <td>9.806332</td>\n",
       "      <td>36.731088</td>\n",
       "      <td>51.442032</td>\n",
       "      <td>2.321781e+05</td>\n",
       "    </tr>\n",
       "    <tr>\n",
       "      <th>std</th>\n",
       "      <td>2.530353</td>\n",
       "      <td>440.393286</td>\n",
       "      <td>144.379127</td>\n",
       "      <td>34.142227</td>\n",
       "      <td>2.251044e+06</td>\n",
       "    </tr>\n",
       "    <tr>\n",
       "      <th>min</th>\n",
       "      <td>0.000000</td>\n",
       "      <td>0.000000</td>\n",
       "      <td>0.000000</td>\n",
       "      <td>0.000000</td>\n",
       "      <td>4.000000e+00</td>\n",
       "    </tr>\n",
       "    <tr>\n",
       "      <th>25%</th>\n",
       "      <td>0.000000</td>\n",
       "      <td>0.000000</td>\n",
       "      <td>4.500000</td>\n",
       "      <td>31.000000</td>\n",
       "      <td>4.903000e+03</td>\n",
       "    </tr>\n",
       "    <tr>\n",
       "      <th>50%</th>\n",
       "      <td>0.000000</td>\n",
       "      <td>2.000000</td>\n",
       "      <td>18.000000</td>\n",
       "      <td>43.000000</td>\n",
       "      <td>2.000500e+04</td>\n",
       "    </tr>\n",
       "    <tr>\n",
       "      <th>75%</th>\n",
       "      <td>0.000000</td>\n",
       "      <td>9.000000</td>\n",
       "      <td>47.000000</td>\n",
       "      <td>63.000000</td>\n",
       "      <td>4.800100e+04</td>\n",
       "    </tr>\n",
       "    <tr>\n",
       "      <th>max</th>\n",
       "      <td>155.000000</td>\n",
       "      <td>83480.000000</td>\n",
       "      <td>21540.000000</td>\n",
       "      <td>528.000000</td>\n",
       "      <td>7.438108e+07</td>\n",
       "    </tr>\n",
       "  </tbody>\n",
       "</table>\n",
       "</div>"
      ],
      "text/plain": [
       "                ccs        images          urls  chars_in_subject  \\\n",
       "count  39671.000000  39671.000000  39671.000000      39660.000000   \n",
       "mean       0.378967      9.806332     36.731088         51.442032   \n",
       "std        2.530353    440.393286    144.379127         34.142227   \n",
       "min        0.000000      0.000000      0.000000          0.000000   \n",
       "25%        0.000000      0.000000      4.500000         31.000000   \n",
       "50%        0.000000      2.000000     18.000000         43.000000   \n",
       "75%        0.000000      9.000000     47.000000         63.000000   \n",
       "max      155.000000  83480.000000  21540.000000        528.000000   \n",
       "\n",
       "       chars_in_body  \n",
       "count   3.967100e+04  \n",
       "mean    2.321781e+05  \n",
       "std     2.251044e+06  \n",
       "min     4.000000e+00  \n",
       "25%     4.903000e+03  \n",
       "50%     2.000500e+04  \n",
       "75%     4.800100e+04  \n",
       "max     7.438108e+07  "
      ]
     },
     "execution_count": 12,
     "metadata": {},
     "output_type": "execute_result"
    }
   ],
   "source": [
    "df[numerical_features].describe()"
   ]
  },
  {
   "cell_type": "code",
   "execution_count": 13,
   "metadata": {},
   "outputs": [
    {
     "data": {
      "image/png": "[encoded data removed]",
      "text/plain": [
       "<Figure size 1080x864 with 6 Axes>"
      ]
     },
     "metadata": {
      "needs_background": "light"
     },
     "output_type": "display_data"
    }
   ],
   "source": [
    "fig, axs = plt.subplots(3, 2, figsize=(15, 12), sharey=False)\n",
    "\n",
    "for idx, (col, ax) in enumerate(zip(numerical_features, axs.ravel())):\n",
    "    df[numerical_features].boxplot(col, ax=ax)"
   ]
  },
  {
   "cell_type": "code",
   "execution_count": 14,
   "metadata": {},
   "outputs": [
    {
     "data": {
      "text/html": [
       "<div>\n",
       "<style scoped>\n",
       "    .dataframe tbody tr th:only-of-type {\n",
       "        vertical-align: middle;\n",
       "    }\n",
       "\n",
       "    .dataframe tbody tr th {\n",
       "        vertical-align: top;\n",
       "    }\n",
       "\n",
       "    .dataframe thead th {\n",
       "        text-align: right;\n",
       "    }\n",
       "</style>\n",
       "<table border=\"1\" class=\"dataframe\">\n",
       "  <thead>\n",
       "    <tr style=\"text-align: right;\">\n",
       "      <th></th>\n",
       "      <th>date</th>\n",
       "      <th>org</th>\n",
       "      <th>tld</th>\n",
       "      <th>ccs</th>\n",
       "      <th>bcced</th>\n",
       "      <th>mail_type</th>\n",
       "      <th>images</th>\n",
       "      <th>urls</th>\n",
       "      <th>salutations</th>\n",
       "      <th>designation</th>\n",
       "      <th>...</th>\n",
       "      <th>chars_in_body</th>\n",
       "      <th>updates</th>\n",
       "      <th>personal</th>\n",
       "      <th>promotions</th>\n",
       "      <th>forums</th>\n",
       "      <th>purchases</th>\n",
       "      <th>travel</th>\n",
       "      <th>spam</th>\n",
       "      <th>social</th>\n",
       "      <th>class</th>\n",
       "    </tr>\n",
       "  </thead>\n",
       "  <tbody>\n",
       "    <tr>\n",
       "      <th>0</th>\n",
       "      <td>Mon, 15 Oct 2018 08:03:09 +0000 (UTC)</td>\n",
       "      <td>researchgatemail</td>\n",
       "      <td>net</td>\n",
       "      <td>0</td>\n",
       "      <td>0</td>\n",
       "      <td>multipart/alternative</td>\n",
       "      <td>4</td>\n",
       "      <td>28</td>\n",
       "      <td>0</td>\n",
       "      <td>1</td>\n",
       "      <td>...</td>\n",
       "      <td>25556</td>\n",
       "      <td>0</td>\n",
       "      <td>1</td>\n",
       "      <td>0</td>\n",
       "      <td>0</td>\n",
       "      <td>0</td>\n",
       "      <td>0</td>\n",
       "      <td>0</td>\n",
       "      <td>1</td>\n",
       "      <td>personal</td>\n",
       "    </tr>\n",
       "    <tr>\n",
       "      <th>1</th>\n",
       "      <td>Thu, 17 Apr 2014 09:12:33 -0700 (PDT)</td>\n",
       "      <td>no-ip</td>\n",
       "      <td>com</td>\n",
       "      <td>0</td>\n",
       "      <td>0</td>\n",
       "      <td>multipart/alternative</td>\n",
       "      <td>6</td>\n",
       "      <td>32</td>\n",
       "      <td>0</td>\n",
       "      <td>0</td>\n",
       "      <td>...</td>\n",
       "      <td>19930</td>\n",
       "      <td>1</td>\n",
       "      <td>1</td>\n",
       "      <td>0</td>\n",
       "      <td>0</td>\n",
       "      <td>0</td>\n",
       "      <td>0</td>\n",
       "      <td>0</td>\n",
       "      <td>0</td>\n",
       "      <td>updates</td>\n",
       "    </tr>\n",
       "    <tr>\n",
       "      <th>2</th>\n",
       "      <td>Thu, 27 Oct 2016 01:36:28 +0000</td>\n",
       "      <td>mail</td>\n",
       "      <td>goodreads.com</td>\n",
       "      <td>0</td>\n",
       "      <td>0</td>\n",
       "      <td>multipart/mixed</td>\n",
       "      <td>0</td>\n",
       "      <td>0</td>\n",
       "      <td>0</td>\n",
       "      <td>0</td>\n",
       "      <td>...</td>\n",
       "      <td>4</td>\n",
       "      <td>0</td>\n",
       "      <td>1</td>\n",
       "      <td>0</td>\n",
       "      <td>0</td>\n",
       "      <td>0</td>\n",
       "      <td>0</td>\n",
       "      <td>0</td>\n",
       "      <td>1</td>\n",
       "      <td>personal</td>\n",
       "    </tr>\n",
       "    <tr>\n",
       "      <th>3</th>\n",
       "      <td>Fri, 16 Oct 2020 08:06:31 +0000 (GMT)</td>\n",
       "      <td>insideapple</td>\n",
       "      <td>apple.com</td>\n",
       "      <td>0</td>\n",
       "      <td>0</td>\n",
       "      <td>multipart/alternative</td>\n",
       "      <td>108</td>\n",
       "      <td>171</td>\n",
       "      <td>0</td>\n",
       "      <td>0</td>\n",
       "      <td>...</td>\n",
       "      <td>96568</td>\n",
       "      <td>0</td>\n",
       "      <td>0</td>\n",
       "      <td>1</td>\n",
       "      <td>0</td>\n",
       "      <td>0</td>\n",
       "      <td>0</td>\n",
       "      <td>0</td>\n",
       "      <td>0</td>\n",
       "      <td>promotions</td>\n",
       "    </tr>\n",
       "    <tr>\n",
       "      <th>4</th>\n",
       "      <td>Thu, 02 Jul 2015 10:16:46 +0000</td>\n",
       "      <td>twitter</td>\n",
       "      <td>com</td>\n",
       "      <td>0</td>\n",
       "      <td>0</td>\n",
       "      <td>multipart/alternative</td>\n",
       "      <td>20</td>\n",
       "      <td>166</td>\n",
       "      <td>0</td>\n",
       "      <td>0</td>\n",
       "      <td>...</td>\n",
       "      <td>95131</td>\n",
       "      <td>0</td>\n",
       "      <td>1</td>\n",
       "      <td>0</td>\n",
       "      <td>0</td>\n",
       "      <td>0</td>\n",
       "      <td>0</td>\n",
       "      <td>0</td>\n",
       "      <td>1</td>\n",
       "      <td>personal</td>\n",
       "    </tr>\n",
       "  </tbody>\n",
       "</table>\n",
       "<p>5 rows × 21 columns</p>\n",
       "</div>"
      ],
      "text/plain": [
       "                                    date               org            tld  \\\n",
       "0  Mon, 15 Oct 2018 08:03:09 +0000 (UTC)  researchgatemail            net   \n",
       "1  Thu, 17 Apr 2014 09:12:33 -0700 (PDT)             no-ip            com   \n",
       "2        Thu, 27 Oct 2016 01:36:28 +0000              mail  goodreads.com   \n",
       "3  Fri, 16 Oct 2020 08:06:31 +0000 (GMT)       insideapple      apple.com   \n",
       "4        Thu, 02 Jul 2015 10:16:46 +0000           twitter            com   \n",
       "\n",
       "   ccs  bcced              mail_type  images  urls  salutations  designation  \\\n",
       "0    0      0  multipart/alternative       4    28            0            1   \n",
       "1    0      0  multipart/alternative       6    32            0            0   \n",
       "2    0      0        multipart/mixed       0     0            0            0   \n",
       "3    0      0  multipart/alternative     108   171            0            0   \n",
       "4    0      0  multipart/alternative      20   166            0            0   \n",
       "\n",
       "   ...  chars_in_body  updates  personal  promotions  forums  purchases  \\\n",
       "0  ...          25556        0         1           0       0          0   \n",
       "1  ...          19930        1         1           0       0          0   \n",
       "2  ...              4        0         1           0       0          0   \n",
       "3  ...          96568        0         0           1       0          0   \n",
       "4  ...          95131        0         1           0       0          0   \n",
       "\n",
       "   travel  spam  social       class  \n",
       "0       0     0       1    personal  \n",
       "1       0     0       0     updates  \n",
       "2       0     0       1    personal  \n",
       "3       0     0       0  promotions  \n",
       "4       0     0       1    personal  \n",
       "\n",
       "[5 rows x 21 columns]"
      ]
     },
     "execution_count": 14,
     "metadata": {},
     "output_type": "execute_result"
    }
   ],
   "source": [
    "df['class'] = df[list_classes].idxmax(axis=1)\n",
    "df.head()"
   ]
  },
  {
   "cell_type": "code",
   "execution_count": 15,
   "metadata": {},
   "outputs": [],
   "source": [
    "if False: # set to True to generate figure\n",
    "    sns.pairplot(df[numerical_features + ['class']], hue='class');"
   ]
  },
  {
   "cell_type": "markdown",
   "metadata": {},
   "source": [
    "# Preprocessing"
   ]
  },
  {
   "cell_type": "markdown",
   "metadata": {},
   "source": [
    "## NA Cleaning"
   ]
  },
  {
   "cell_type": "code",
   "execution_count": 16,
   "metadata": {},
   "outputs": [
    {
     "data": {
      "text/plain": [
       "39671"
      ]
     },
     "execution_count": 16,
     "metadata": {},
     "output_type": "execute_result"
    }
   ],
   "source": [
    "len(df)"
   ]
  },
  {
   "cell_type": "code",
   "execution_count": 17,
   "metadata": {},
   "outputs": [
    {
     "data": {
      "text/plain": [
       "date                   0\n",
       "org                 1677\n",
       "tld                 1679\n",
       "ccs                    0\n",
       "bcced                  0\n",
       "mail_type             98\n",
       "images                 0\n",
       "urls                   0\n",
       "salutations            0\n",
       "designation            0\n",
       "chars_in_subject      11\n",
       "chars_in_body          0\n",
       "updates                0\n",
       "personal               0\n",
       "promotions             0\n",
       "forums                 0\n",
       "purchases              0\n",
       "travel                 0\n",
       "spam                   0\n",
       "social                 0\n",
       "class                  0\n",
       "dtype: int64"
      ]
     },
     "execution_count": 17,
     "metadata": {},
     "output_type": "execute_result"
    }
   ],
   "source": [
    "df.isna().sum()"
   ]
  },
  {
   "cell_type": "code",
   "execution_count": 18,
   "metadata": {},
   "outputs": [
    {
     "data": {
      "text/plain": [
       "37939"
      ]
     },
     "execution_count": 18,
     "metadata": {},
     "output_type": "execute_result"
    }
   ],
   "source": [
    "len(df.dropna(how='any'))"
   ]
  },
  {
   "cell_type": "code",
   "execution_count": 19,
   "metadata": {},
   "outputs": [
    {
     "data": {
      "text/plain": [
       "0.9563409039348643"
      ]
     },
     "execution_count": 19,
     "metadata": {},
     "output_type": "execute_result"
    }
   ],
   "source": [
    "len(df.dropna(how='any')) / len(df)"
   ]
  },
  {
   "cell_type": "code",
   "execution_count": 20,
   "metadata": {},
   "outputs": [
    {
     "data": {
      "text/plain": [
       "date                0\n",
       "org                 0\n",
       "tld                 0\n",
       "ccs                 0\n",
       "bcced               0\n",
       "mail_type           0\n",
       "images              0\n",
       "urls                0\n",
       "salutations         0\n",
       "designation         0\n",
       "chars_in_subject    0\n",
       "chars_in_body       0\n",
       "updates             0\n",
       "personal            0\n",
       "promotions          0\n",
       "forums              0\n",
       "purchases           0\n",
       "travel              0\n",
       "spam                0\n",
       "social              0\n",
       "class               0\n",
       "dtype: int64"
      ]
     },
     "execution_count": 20,
     "metadata": {},
     "output_type": "execute_result"
    }
   ],
   "source": [
    "df = df.dropna(how='any')\n",
    "df.isna().sum()"
   ]
  },
  {
   "cell_type": "markdown",
   "metadata": {},
   "source": [
    "## Date"
   ]
  },
  {
   "cell_type": "markdown",
   "metadata": {},
   "source": [
    "### Regex parsing for date extraction"
   ]
  },
  {
   "cell_type": "markdown",
   "metadata": {},
   "source": [
    "For one example:"
   ]
  },
  {
   "cell_type": "code",
   "execution_count": 21,
   "metadata": {},
   "outputs": [],
   "source": [
    "string = \"Mon, 15 Oct 2018 08:03:09 +0000 (UTC)\"\n",
    "pattern = r'(\\d{1,2}.*\\d{2}:\\d{2}:\\d{2}) ([+-]\\d{2}\\d{2})'\n",
    "ans = re.search(pattern, string)"
   ]
  },
  {
   "cell_type": "code",
   "execution_count": 22,
   "metadata": {},
   "outputs": [
    {
     "data": {
      "text/plain": [
       "'15 Oct 2018 08:03:09+0000'"
      ]
     },
     "execution_count": 22,
     "metadata": {},
     "output_type": "execute_result"
    }
   ],
   "source": [
    "date = ''.join([ans.group(1), ans.group(2)])\n",
    "date"
   ]
  },
  {
   "cell_type": "code",
   "execution_count": 23,
   "metadata": {},
   "outputs": [
    {
     "data": {
      "text/plain": [
       "Timestamp('2018-10-15 08:03:09+0000', tz='UTC')"
      ]
     },
     "execution_count": 23,
     "metadata": {},
     "output_type": "execute_result"
    }
   ],
   "source": [
    "pd.to_datetime(date)"
   ]
  },
  {
   "cell_type": "markdown",
   "metadata": {},
   "source": [
    "### Applying transformation to the dataset"
   ]
  },
  {
   "cell_type": "markdown",
   "metadata": {},
   "source": [
    "Now let's apply the transformation to the dataset:"
   ]
  },
  {
   "cell_type": "code",
   "execution_count": 24,
   "metadata": {},
   "outputs": [],
   "source": [
    "def format_date(row):\n",
    "    pattern = r'(\\d{1,2}.*\\d{2}:\\d{2}:\\d{2}) ([+-]\\d{2}\\d{2})'\n",
    "    \n",
    "    ans = re.search(pattern, string=row)\n",
    "    \n",
    "    if ans:\n",
    "        if ans.group(1)[1] == ' ':\n",
    "            return ''.join(['0', ans.group(1), ans.group(2)])\n",
    "        else:\n",
    "            return ''.join([ans.group(1), ans.group(2)])\n",
    "    else:\n",
    "        return np.nan"
   ]
  },
  {
   "cell_type": "code",
   "execution_count": 25,
   "metadata": {
    "scrolled": false
   },
   "outputs": [
    {
     "data": {
      "text/plain": [
       "0       2018-10-15 08:03:09+00:00\n",
       "1       2014-04-17 16:12:33+00:00\n",
       "2       2016-10-27 01:36:28+00:00\n",
       "3       2020-10-16 08:06:31+00:00\n",
       "4       2015-07-02 10:16:46+00:00\n",
       "                   ...           \n",
       "39665   2019-10-16 06:20:00+00:00\n",
       "39666   2019-10-08 18:58:39+00:00\n",
       "39668   2017-04-03 13:25:47+00:00\n",
       "39669   2018-06-14 00:46:51+00:00\n",
       "39670   2020-04-17 14:06:27+00:00\n",
       "Name: date, Length: 37939, dtype: datetime64[ns, UTC]"
      ]
     },
     "execution_count": 25,
     "metadata": {},
     "output_type": "execute_result"
    }
   ],
   "source": [
    "df['date'] = pd.to_datetime(df['date'].apply(format_date), utc=True)\n",
    "df['date']"
   ]
  },
  {
   "cell_type": "code",
   "execution_count": 26,
   "metadata": {},
   "outputs": [
    {
     "data": {
      "text/plain": [
       "Timestamp('2018-10-15 08:03:09+0000', tz='UTC')"
      ]
     },
     "execution_count": 26,
     "metadata": {},
     "output_type": "execute_result"
    }
   ],
   "source": [
    "df['date'].iloc[0]"
   ]
  },
  {
   "cell_type": "code",
   "execution_count": 27,
   "metadata": {},
   "outputs": [
    {
     "data": {
      "text/html": [
       "<div>\n",
       "<style scoped>\n",
       "    .dataframe tbody tr th:only-of-type {\n",
       "        vertical-align: middle;\n",
       "    }\n",
       "\n",
       "    .dataframe tbody tr th {\n",
       "        vertical-align: top;\n",
       "    }\n",
       "\n",
       "    .dataframe thead th {\n",
       "        text-align: right;\n",
       "    }\n",
       "</style>\n",
       "<table border=\"1\" class=\"dataframe\">\n",
       "  <thead>\n",
       "    <tr style=\"text-align: right;\">\n",
       "      <th></th>\n",
       "      <th>date</th>\n",
       "      <th>org</th>\n",
       "      <th>tld</th>\n",
       "      <th>ccs</th>\n",
       "      <th>bcced</th>\n",
       "      <th>mail_type</th>\n",
       "      <th>images</th>\n",
       "      <th>urls</th>\n",
       "      <th>salutations</th>\n",
       "      <th>designation</th>\n",
       "      <th>...</th>\n",
       "      <th>chars_in_body</th>\n",
       "      <th>updates</th>\n",
       "      <th>personal</th>\n",
       "      <th>promotions</th>\n",
       "      <th>forums</th>\n",
       "      <th>purchases</th>\n",
       "      <th>travel</th>\n",
       "      <th>spam</th>\n",
       "      <th>social</th>\n",
       "      <th>class</th>\n",
       "    </tr>\n",
       "  </thead>\n",
       "  <tbody>\n",
       "    <tr>\n",
       "      <th>0</th>\n",
       "      <td>2018-10-15 08:03:09+00:00</td>\n",
       "      <td>researchgatemail</td>\n",
       "      <td>net</td>\n",
       "      <td>0</td>\n",
       "      <td>0</td>\n",
       "      <td>multipart/alternative</td>\n",
       "      <td>4</td>\n",
       "      <td>28</td>\n",
       "      <td>0</td>\n",
       "      <td>1</td>\n",
       "      <td>...</td>\n",
       "      <td>25556</td>\n",
       "      <td>0</td>\n",
       "      <td>1</td>\n",
       "      <td>0</td>\n",
       "      <td>0</td>\n",
       "      <td>0</td>\n",
       "      <td>0</td>\n",
       "      <td>0</td>\n",
       "      <td>1</td>\n",
       "      <td>personal</td>\n",
       "    </tr>\n",
       "    <tr>\n",
       "      <th>1</th>\n",
       "      <td>2014-04-17 16:12:33+00:00</td>\n",
       "      <td>no-ip</td>\n",
       "      <td>com</td>\n",
       "      <td>0</td>\n",
       "      <td>0</td>\n",
       "      <td>multipart/alternative</td>\n",
       "      <td>6</td>\n",
       "      <td>32</td>\n",
       "      <td>0</td>\n",
       "      <td>0</td>\n",
       "      <td>...</td>\n",
       "      <td>19930</td>\n",
       "      <td>1</td>\n",
       "      <td>1</td>\n",
       "      <td>0</td>\n",
       "      <td>0</td>\n",
       "      <td>0</td>\n",
       "      <td>0</td>\n",
       "      <td>0</td>\n",
       "      <td>0</td>\n",
       "      <td>updates</td>\n",
       "    </tr>\n",
       "    <tr>\n",
       "      <th>2</th>\n",
       "      <td>2016-10-27 01:36:28+00:00</td>\n",
       "      <td>mail</td>\n",
       "      <td>goodreads.com</td>\n",
       "      <td>0</td>\n",
       "      <td>0</td>\n",
       "      <td>multipart/mixed</td>\n",
       "      <td>0</td>\n",
       "      <td>0</td>\n",
       "      <td>0</td>\n",
       "      <td>0</td>\n",
       "      <td>...</td>\n",
       "      <td>4</td>\n",
       "      <td>0</td>\n",
       "      <td>1</td>\n",
       "      <td>0</td>\n",
       "      <td>0</td>\n",
       "      <td>0</td>\n",
       "      <td>0</td>\n",
       "      <td>0</td>\n",
       "      <td>1</td>\n",
       "      <td>personal</td>\n",
       "    </tr>\n",
       "    <tr>\n",
       "      <th>3</th>\n",
       "      <td>2020-10-16 08:06:31+00:00</td>\n",
       "      <td>insideapple</td>\n",
       "      <td>apple.com</td>\n",
       "      <td>0</td>\n",
       "      <td>0</td>\n",
       "      <td>multipart/alternative</td>\n",
       "      <td>108</td>\n",
       "      <td>171</td>\n",
       "      <td>0</td>\n",
       "      <td>0</td>\n",
       "      <td>...</td>\n",
       "      <td>96568</td>\n",
       "      <td>0</td>\n",
       "      <td>0</td>\n",
       "      <td>1</td>\n",
       "      <td>0</td>\n",
       "      <td>0</td>\n",
       "      <td>0</td>\n",
       "      <td>0</td>\n",
       "      <td>0</td>\n",
       "      <td>promotions</td>\n",
       "    </tr>\n",
       "    <tr>\n",
       "      <th>4</th>\n",
       "      <td>2015-07-02 10:16:46+00:00</td>\n",
       "      <td>twitter</td>\n",
       "      <td>com</td>\n",
       "      <td>0</td>\n",
       "      <td>0</td>\n",
       "      <td>multipart/alternative</td>\n",
       "      <td>20</td>\n",
       "      <td>166</td>\n",
       "      <td>0</td>\n",
       "      <td>0</td>\n",
       "      <td>...</td>\n",
       "      <td>95131</td>\n",
       "      <td>0</td>\n",
       "      <td>1</td>\n",
       "      <td>0</td>\n",
       "      <td>0</td>\n",
       "      <td>0</td>\n",
       "      <td>0</td>\n",
       "      <td>0</td>\n",
       "      <td>1</td>\n",
       "      <td>personal</td>\n",
       "    </tr>\n",
       "  </tbody>\n",
       "</table>\n",
       "<p>5 rows × 21 columns</p>\n",
       "</div>"
      ],
      "text/plain": [
       "                       date               org            tld  ccs  bcced  \\\n",
       "0 2018-10-15 08:03:09+00:00  researchgatemail            net    0      0   \n",
       "1 2014-04-17 16:12:33+00:00             no-ip            com    0      0   \n",
       "2 2016-10-27 01:36:28+00:00              mail  goodreads.com    0      0   \n",
       "3 2020-10-16 08:06:31+00:00       insideapple      apple.com    0      0   \n",
       "4 2015-07-02 10:16:46+00:00           twitter            com    0      0   \n",
       "\n",
       "               mail_type  images  urls  salutations  designation  ...  \\\n",
       "0  multipart/alternative       4    28            0            1  ...   \n",
       "1  multipart/alternative       6    32            0            0  ...   \n",
       "2        multipart/mixed       0     0            0            0  ...   \n",
       "3  multipart/alternative     108   171            0            0  ...   \n",
       "4  multipart/alternative      20   166            0            0  ...   \n",
       "\n",
       "   chars_in_body  updates  personal  promotions  forums  purchases  travel  \\\n",
       "0          25556        0         1           0       0          0       0   \n",
       "1          19930        1         1           0       0          0       0   \n",
       "2              4        0         1           0       0          0       0   \n",
       "3          96568        0         0           1       0          0       0   \n",
       "4          95131        0         1           0       0          0       0   \n",
       "\n",
       "   spam  social       class  \n",
       "0     0       1    personal  \n",
       "1     0       0     updates  \n",
       "2     0       1    personal  \n",
       "3     0       0  promotions  \n",
       "4     0       1    personal  \n",
       "\n",
       "[5 rows x 21 columns]"
      ]
     },
     "execution_count": 27,
     "metadata": {},
     "output_type": "execute_result"
    }
   ],
   "source": [
    "df.head()"
   ]
  },
  {
   "cell_type": "markdown",
   "metadata": {},
   "source": [
    "### Creating date features"
   ]
  },
  {
   "cell_type": "code",
   "execution_count": 28,
   "metadata": {},
   "outputs": [
    {
     "data": {
      "text/plain": [
       "0        2018-10-15\n",
       "1        2014-04-17\n",
       "2        2016-10-27\n",
       "3        2020-10-16\n",
       "4        2015-07-02\n",
       "            ...    \n",
       "39665    2019-10-16\n",
       "39666    2019-10-08\n",
       "39668    2017-04-03\n",
       "39669    2018-06-14\n",
       "39670    2020-04-17\n",
       "Name: date_day, Length: 37939, dtype: object"
      ]
     },
     "execution_count": 28,
     "metadata": {},
     "output_type": "execute_result"
    }
   ],
   "source": [
    "df['date_day'] = df['date'].dt.date\n",
    "df['date_day']"
   ]
  },
  {
   "cell_type": "code",
   "execution_count": 29,
   "metadata": {},
   "outputs": [
    {
     "data": {
      "text/plain": [
       "2017-04-07    94\n",
       "2017-04-06    85\n",
       "2016-07-06    71\n",
       "2016-07-08    58\n",
       "2016-07-09    55\n",
       "              ..\n",
       "2013-07-02     1\n",
       "2015-12-27     1\n",
       "2013-03-25     1\n",
       "2012-04-21     1\n",
       "2012-12-16     1\n",
       "Name: date_day, Length: 2847, dtype: int64"
      ]
     },
     "execution_count": 29,
     "metadata": {},
     "output_type": "execute_result"
    }
   ],
   "source": [
    "df['date_day'].value_counts()"
   ]
  },
  {
   "cell_type": "code",
   "execution_count": 30,
   "metadata": {
    "scrolled": false
   },
   "outputs": [
    {
     "data": {
      "image/png": "[encoded data removed]",
      "text/plain": [
       "<Figure size 1440x864 with 1 Axes>"
      ]
     },
     "metadata": {
      "needs_background": "light"
     },
     "output_type": "display_data"
    }
   ],
   "source": [
    "plt.figure(figsize=(20,12))\n",
    "df['date_day'].value_counts().head(40).plot.bar();"
   ]
  },
  {
   "cell_type": "code",
   "execution_count": 31,
   "metadata": {},
   "outputs": [
    {
     "data": {
      "text/plain": [
       "0        10.0\n",
       "1         4.0\n",
       "2        10.0\n",
       "3        10.0\n",
       "4         7.0\n",
       "         ... \n",
       "39665    10.0\n",
       "39666    10.0\n",
       "39668     4.0\n",
       "39669     6.0\n",
       "39670     4.0\n",
       "Name: month, Length: 37939, dtype: float64"
      ]
     },
     "execution_count": 31,
     "metadata": {},
     "output_type": "execute_result"
    }
   ],
   "source": [
    "df['month'] = df['date'].dt.month\n",
    "df['month']"
   ]
  },
  {
   "cell_type": "code",
   "execution_count": 32,
   "metadata": {},
   "outputs": [
    {
     "data": {
      "text/plain": [
       "0        0.0\n",
       "1        3.0\n",
       "2        3.0\n",
       "3        4.0\n",
       "4        3.0\n",
       "        ... \n",
       "39665    2.0\n",
       "39666    1.0\n",
       "39668    0.0\n",
       "39669    3.0\n",
       "39670    4.0\n",
       "Name: weekday, Length: 37939, dtype: float64"
      ]
     },
     "execution_count": 32,
     "metadata": {},
     "output_type": "execute_result"
    }
   ],
   "source": [
    "df['weekday'] = df['date'].dt.weekday\n",
    "df['weekday']"
   ]
  },
  {
   "cell_type": "code",
   "execution_count": 33,
   "metadata": {},
   "outputs": [
    {
     "data": {
      "text/plain": [
       "0         8.0\n",
       "1        16.0\n",
       "2         1.0\n",
       "3         8.0\n",
       "4        10.0\n",
       "         ... \n",
       "39665     6.0\n",
       "39666    18.0\n",
       "39668    13.0\n",
       "39669     0.0\n",
       "39670    14.0\n",
       "Name: hour, Length: 37939, dtype: float64"
      ]
     },
     "execution_count": 33,
     "metadata": {},
     "output_type": "execute_result"
    }
   ],
   "source": [
    "df['hour'] = df['date'].dt.hour\n",
    "df['hour']"
   ]
  },
  {
   "cell_type": "code",
   "execution_count": 34,
   "metadata": {},
   "outputs": [
    {
     "name": "stdout",
     "output_type": "stream",
     "text": [
      "<class 'pandas.core.frame.DataFrame'>\n",
      "Int64Index: 37939 entries, 0 to 39670\n",
      "Data columns (total 25 columns):\n",
      " #   Column            Non-Null Count  Dtype              \n",
      "---  ------            --------------  -----              \n",
      " 0   date              37893 non-null  datetime64[ns, UTC]\n",
      " 1   org               37939 non-null  object             \n",
      " 2   tld               37939 non-null  object             \n",
      " 3   ccs               37939 non-null  int64              \n",
      " 4   bcced             37939 non-null  int64              \n",
      " 5   mail_type         37939 non-null  object             \n",
      " 6   images            37939 non-null  int64              \n",
      " 7   urls              37939 non-null  int64              \n",
      " 8   salutations       37939 non-null  int64              \n",
      " 9   designation       37939 non-null  int64              \n",
      " 10  chars_in_subject  37939 non-null  float64            \n",
      " 11  chars_in_body     37939 non-null  int64              \n",
      " 12  updates           37939 non-null  int64              \n",
      " 13  personal          37939 non-null  int64              \n",
      " 14  promotions        37939 non-null  int64              \n",
      " 15  forums            37939 non-null  int64              \n",
      " 16  purchases         37939 non-null  int64              \n",
      " 17  travel            37939 non-null  int64              \n",
      " 18  spam              37939 non-null  int64              \n",
      " 19  social            37939 non-null  int64              \n",
      " 20  class             37939 non-null  object             \n",
      " 21  date_day          37893 non-null  object             \n",
      " 22  month             37893 non-null  float64            \n",
      " 23  weekday           37893 non-null  float64            \n",
      " 24  hour              37893 non-null  float64            \n",
      "dtypes: datetime64[ns, UTC](1), float64(4), int64(15), object(5)\n",
      "memory usage: 7.5+ MB\n"
     ]
    }
   ],
   "source": [
    "df.info()"
   ]
  },
  {
   "cell_type": "markdown",
   "metadata": {},
   "source": [
    "## Categorical encoding"
   ]
  },
  {
   "cell_type": "markdown",
   "metadata": {},
   "source": [
    "After having tried **target encoding**, we'll now try one-hot encoding for all categorical features."
   ]
  },
  {
   "cell_type": "code",
   "execution_count": 35,
   "metadata": {},
   "outputs": [
    {
     "data": {
      "text/html": [
       "<div>\n",
       "<style scoped>\n",
       "    .dataframe tbody tr th:only-of-type {\n",
       "        vertical-align: middle;\n",
       "    }\n",
       "\n",
       "    .dataframe tbody tr th {\n",
       "        vertical-align: top;\n",
       "    }\n",
       "\n",
       "    .dataframe thead th {\n",
       "        text-align: right;\n",
       "    }\n",
       "</style>\n",
       "<table border=\"1\" class=\"dataframe\">\n",
       "  <thead>\n",
       "    <tr style=\"text-align: right;\">\n",
       "      <th></th>\n",
       "      <th>mail_type__Multipart/Alternative</th>\n",
       "      <th>mail_type__Multipart/Mixed</th>\n",
       "      <th>mail_type__Text/Html</th>\n",
       "      <th>mail_type__multipart/alternative</th>\n",
       "      <th>mail_type__multipart/mixed</th>\n",
       "      <th>mail_type__multipart/related</th>\n",
       "      <th>mail_type__multipart/report</th>\n",
       "      <th>mail_type__multipart/signed</th>\n",
       "      <th>mail_type__text/html</th>\n",
       "      <th>mail_type__text/html</th>\n",
       "      <th>mail_type__text/plain</th>\n",
       "    </tr>\n",
       "  </thead>\n",
       "  <tbody>\n",
       "    <tr>\n",
       "      <th>0</th>\n",
       "      <td>0</td>\n",
       "      <td>0</td>\n",
       "      <td>0</td>\n",
       "      <td>1</td>\n",
       "      <td>0</td>\n",
       "      <td>0</td>\n",
       "      <td>0</td>\n",
       "      <td>0</td>\n",
       "      <td>0</td>\n",
       "      <td>0</td>\n",
       "      <td>0</td>\n",
       "    </tr>\n",
       "    <tr>\n",
       "      <th>1</th>\n",
       "      <td>0</td>\n",
       "      <td>0</td>\n",
       "      <td>0</td>\n",
       "      <td>1</td>\n",
       "      <td>0</td>\n",
       "      <td>0</td>\n",
       "      <td>0</td>\n",
       "      <td>0</td>\n",
       "      <td>0</td>\n",
       "      <td>0</td>\n",
       "      <td>0</td>\n",
       "    </tr>\n",
       "    <tr>\n",
       "      <th>2</th>\n",
       "      <td>0</td>\n",
       "      <td>0</td>\n",
       "      <td>0</td>\n",
       "      <td>0</td>\n",
       "      <td>1</td>\n",
       "      <td>0</td>\n",
       "      <td>0</td>\n",
       "      <td>0</td>\n",
       "      <td>0</td>\n",
       "      <td>0</td>\n",
       "      <td>0</td>\n",
       "    </tr>\n",
       "  </tbody>\n",
       "</table>\n",
       "</div>"
      ],
      "text/plain": [
       "   mail_type__Multipart/Alternative  mail_type__Multipart/Mixed  \\\n",
       "0                                 0                           0   \n",
       "1                                 0                           0   \n",
       "2                                 0                           0   \n",
       "\n",
       "   mail_type__Text/Html  mail_type__multipart/alternative  \\\n",
       "0                     0                                 1   \n",
       "1                     0                                 1   \n",
       "2                     0                                 0   \n",
       "\n",
       "   mail_type__multipart/mixed  mail_type__multipart/related  \\\n",
       "0                           0                             0   \n",
       "1                           0                             0   \n",
       "2                           1                             0   \n",
       "\n",
       "   mail_type__multipart/report  mail_type__multipart/signed  \\\n",
       "0                            0                            0   \n",
       "1                            0                            0   \n",
       "2                            0                            0   \n",
       "\n",
       "   mail_type__text/html  mail_type__text/html   mail_type__text/plain  \n",
       "0                     0                      0                      0  \n",
       "1                     0                      0                      0  \n",
       "2                     0                      0                      0  "
      ]
     },
     "execution_count": 35,
     "metadata": {},
     "output_type": "execute_result"
    }
   ],
   "source": [
    "# Example with mail_types:\n",
    "pd.get_dummies(df['mail_type'], prefix='mail_type_').head(3)"
   ]
  },
  {
   "cell_type": "code",
   "execution_count": 36,
   "metadata": {
    "scrolled": true
   },
   "outputs": [
    {
     "data": {
      "text/html": [
       "<div>\n",
       "<style scoped>\n",
       "    .dataframe tbody tr th:only-of-type {\n",
       "        vertical-align: middle;\n",
       "    }\n",
       "\n",
       "    .dataframe tbody tr th {\n",
       "        vertical-align: top;\n",
       "    }\n",
       "\n",
       "    .dataframe thead th {\n",
       "        text-align: right;\n",
       "    }\n",
       "</style>\n",
       "<table border=\"1\" class=\"dataframe\">\n",
       "  <thead>\n",
       "    <tr style=\"text-align: right;\">\n",
       "      <th></th>\n",
       "      <th>date</th>\n",
       "      <th>ccs</th>\n",
       "      <th>bcced</th>\n",
       "      <th>images</th>\n",
       "      <th>urls</th>\n",
       "      <th>salutations</th>\n",
       "      <th>designation</th>\n",
       "      <th>chars_in_subject</th>\n",
       "      <th>chars_in_body</th>\n",
       "      <th>updates</th>\n",
       "      <th>...</th>\n",
       "      <th>mail_type__Multipart/Mixed</th>\n",
       "      <th>mail_type__Text/Html</th>\n",
       "      <th>mail_type__multipart/alternative</th>\n",
       "      <th>mail_type__multipart/mixed</th>\n",
       "      <th>mail_type__multipart/related</th>\n",
       "      <th>mail_type__multipart/report</th>\n",
       "      <th>mail_type__multipart/signed</th>\n",
       "      <th>mail_type__text/html</th>\n",
       "      <th>mail_type__text/html</th>\n",
       "      <th>mail_type__text/plain</th>\n",
       "    </tr>\n",
       "  </thead>\n",
       "  <tbody>\n",
       "    <tr>\n",
       "      <th>0</th>\n",
       "      <td>2018-10-15 08:03:09+00:00</td>\n",
       "      <td>0</td>\n",
       "      <td>0</td>\n",
       "      <td>4</td>\n",
       "      <td>28</td>\n",
       "      <td>0</td>\n",
       "      <td>1</td>\n",
       "      <td>47.0</td>\n",
       "      <td>25556</td>\n",
       "      <td>0</td>\n",
       "      <td>...</td>\n",
       "      <td>0</td>\n",
       "      <td>0</td>\n",
       "      <td>1</td>\n",
       "      <td>0</td>\n",
       "      <td>0</td>\n",
       "      <td>0</td>\n",
       "      <td>0</td>\n",
       "      <td>0</td>\n",
       "      <td>0</td>\n",
       "      <td>0</td>\n",
       "    </tr>\n",
       "    <tr>\n",
       "      <th>1</th>\n",
       "      <td>2014-04-17 16:12:33+00:00</td>\n",
       "      <td>0</td>\n",
       "      <td>0</td>\n",
       "      <td>6</td>\n",
       "      <td>32</td>\n",
       "      <td>0</td>\n",
       "      <td>0</td>\n",
       "      <td>46.0</td>\n",
       "      <td>19930</td>\n",
       "      <td>1</td>\n",
       "      <td>...</td>\n",
       "      <td>0</td>\n",
       "      <td>0</td>\n",
       "      <td>1</td>\n",
       "      <td>0</td>\n",
       "      <td>0</td>\n",
       "      <td>0</td>\n",
       "      <td>0</td>\n",
       "      <td>0</td>\n",
       "      <td>0</td>\n",
       "      <td>0</td>\n",
       "    </tr>\n",
       "    <tr>\n",
       "      <th>2</th>\n",
       "      <td>2016-10-27 01:36:28+00:00</td>\n",
       "      <td>0</td>\n",
       "      <td>0</td>\n",
       "      <td>0</td>\n",
       "      <td>0</td>\n",
       "      <td>0</td>\n",
       "      <td>0</td>\n",
       "      <td>21.0</td>\n",
       "      <td>4</td>\n",
       "      <td>0</td>\n",
       "      <td>...</td>\n",
       "      <td>0</td>\n",
       "      <td>0</td>\n",
       "      <td>0</td>\n",
       "      <td>1</td>\n",
       "      <td>0</td>\n",
       "      <td>0</td>\n",
       "      <td>0</td>\n",
       "      <td>0</td>\n",
       "      <td>0</td>\n",
       "      <td>0</td>\n",
       "    </tr>\n",
       "  </tbody>\n",
       "</table>\n",
       "<p>3 rows × 1265 columns</p>\n",
       "</div>"
      ],
      "text/plain": [
       "                       date  ccs  bcced  images  urls  salutations  \\\n",
       "0 2018-10-15 08:03:09+00:00    0      0       4    28            0   \n",
       "1 2014-04-17 16:12:33+00:00    0      0       6    32            0   \n",
       "2 2016-10-27 01:36:28+00:00    0      0       0     0            0   \n",
       "\n",
       "   designation  chars_in_subject  chars_in_body  updates  ...  \\\n",
       "0            1              47.0          25556        0  ...   \n",
       "1            0              46.0          19930        1  ...   \n",
       "2            0              21.0              4        0  ...   \n",
       "\n",
       "   mail_type__Multipart/Mixed  mail_type__Text/Html  \\\n",
       "0                           0                     0   \n",
       "1                           0                     0   \n",
       "2                           0                     0   \n",
       "\n",
       "   mail_type__multipart/alternative  mail_type__multipart/mixed  \\\n",
       "0                                 1                           0   \n",
       "1                                 1                           0   \n",
       "2                                 0                           1   \n",
       "\n",
       "   mail_type__multipart/related  mail_type__multipart/report  \\\n",
       "0                             0                            0   \n",
       "1                             0                            0   \n",
       "2                             0                            0   \n",
       "\n",
       "   mail_type__multipart/signed mail_type__text/html mail_type__text/html   \\\n",
       "0                            0                    0                     0   \n",
       "1                            0                    0                     0   \n",
       "2                            0                    0                     0   \n",
       "\n",
       "   mail_type__text/plain  \n",
       "0                      0  \n",
       "1                      0  \n",
       "2                      0  \n",
       "\n",
       "[3 rows x 1265 columns]"
      ]
     },
     "execution_count": 36,
     "metadata": {},
     "output_type": "execute_result"
    }
   ],
   "source": [
    "list_categorical_cols = [\"org\", \"tld\", \"mail_type\"]\n",
    "\n",
    "for col in list_categorical_cols:\n",
    "    df = pd.concat([df, pd.get_dummies(df[col], prefix=f'{col}_')], axis=1).drop(columns=[col])\n",
    "\n",
    "df.head(3)"
   ]
  },
  {
   "cell_type": "markdown",
   "metadata": {},
   "source": [
    "### weekday -> One-Hot Encoding"
   ]
  },
  {
   "cell_type": "code",
   "execution_count": 37,
   "metadata": {},
   "outputs": [
    {
     "data": {
      "text/plain": [
       "1.0    6536\n",
       "3.0    6399\n",
       "4.0    6028\n",
       "0.0    5814\n",
       "2.0    5799\n",
       "5.0    4103\n",
       "6.0    3214\n",
       "Name: weekday, dtype: int64"
      ]
     },
     "execution_count": 37,
     "metadata": {},
     "output_type": "execute_result"
    }
   ],
   "source": [
    "df['weekday'].value_counts()"
   ]
  },
  {
   "cell_type": "code",
   "execution_count": 38,
   "metadata": {},
   "outputs": [
    {
     "data": {
      "text/html": [
       "<div>\n",
       "<style scoped>\n",
       "    .dataframe tbody tr th:only-of-type {\n",
       "        vertical-align: middle;\n",
       "    }\n",
       "\n",
       "    .dataframe tbody tr th {\n",
       "        vertical-align: top;\n",
       "    }\n",
       "\n",
       "    .dataframe thead th {\n",
       "        text-align: right;\n",
       "    }\n",
       "</style>\n",
       "<table border=\"1\" class=\"dataframe\">\n",
       "  <thead>\n",
       "    <tr style=\"text-align: right;\">\n",
       "      <th></th>\n",
       "      <th>weekday__0.0</th>\n",
       "      <th>weekday__1.0</th>\n",
       "      <th>weekday__2.0</th>\n",
       "      <th>weekday__3.0</th>\n",
       "      <th>weekday__4.0</th>\n",
       "      <th>weekday__5.0</th>\n",
       "      <th>weekday__6.0</th>\n",
       "    </tr>\n",
       "  </thead>\n",
       "  <tbody>\n",
       "    <tr>\n",
       "      <th>0</th>\n",
       "      <td>1</td>\n",
       "      <td>0</td>\n",
       "      <td>0</td>\n",
       "      <td>0</td>\n",
       "      <td>0</td>\n",
       "      <td>0</td>\n",
       "      <td>0</td>\n",
       "    </tr>\n",
       "    <tr>\n",
       "      <th>1</th>\n",
       "      <td>0</td>\n",
       "      <td>0</td>\n",
       "      <td>0</td>\n",
       "      <td>1</td>\n",
       "      <td>0</td>\n",
       "      <td>0</td>\n",
       "      <td>0</td>\n",
       "    </tr>\n",
       "    <tr>\n",
       "      <th>2</th>\n",
       "      <td>0</td>\n",
       "      <td>0</td>\n",
       "      <td>0</td>\n",
       "      <td>1</td>\n",
       "      <td>0</td>\n",
       "      <td>0</td>\n",
       "      <td>0</td>\n",
       "    </tr>\n",
       "  </tbody>\n",
       "</table>\n",
       "</div>"
      ],
      "text/plain": [
       "   weekday__0.0  weekday__1.0  weekday__2.0  weekday__3.0  weekday__4.0  \\\n",
       "0             1             0             0             0             0   \n",
       "1             0             0             0             1             0   \n",
       "2             0             0             0             1             0   \n",
       "\n",
       "   weekday__5.0  weekday__6.0  \n",
       "0             0             0  \n",
       "1             0             0  \n",
       "2             0             0  "
      ]
     },
     "execution_count": 38,
     "metadata": {},
     "output_type": "execute_result"
    }
   ],
   "source": [
    "pd.get_dummies(df['weekday'], prefix='weekday_').head(3)"
   ]
  },
  {
   "cell_type": "code",
   "execution_count": 39,
   "metadata": {
    "scrolled": true
   },
   "outputs": [
    {
     "data": {
      "text/html": [
       "<div>\n",
       "<style scoped>\n",
       "    .dataframe tbody tr th:only-of-type {\n",
       "        vertical-align: middle;\n",
       "    }\n",
       "\n",
       "    .dataframe tbody tr th {\n",
       "        vertical-align: top;\n",
       "    }\n",
       "\n",
       "    .dataframe thead th {\n",
       "        text-align: right;\n",
       "    }\n",
       "</style>\n",
       "<table border=\"1\" class=\"dataframe\">\n",
       "  <thead>\n",
       "    <tr style=\"text-align: right;\">\n",
       "      <th></th>\n",
       "      <th>date</th>\n",
       "      <th>ccs</th>\n",
       "      <th>bcced</th>\n",
       "      <th>images</th>\n",
       "      <th>urls</th>\n",
       "      <th>salutations</th>\n",
       "      <th>designation</th>\n",
       "      <th>chars_in_subject</th>\n",
       "      <th>chars_in_body</th>\n",
       "      <th>updates</th>\n",
       "      <th>...</th>\n",
       "      <th>mail_type__text/html</th>\n",
       "      <th>mail_type__text/html</th>\n",
       "      <th>mail_type__text/plain</th>\n",
       "      <th>weekday_0.0</th>\n",
       "      <th>weekday_1.0</th>\n",
       "      <th>weekday_2.0</th>\n",
       "      <th>weekday_3.0</th>\n",
       "      <th>weekday_4.0</th>\n",
       "      <th>weekday_5.0</th>\n",
       "      <th>weekday_6.0</th>\n",
       "    </tr>\n",
       "  </thead>\n",
       "  <tbody>\n",
       "    <tr>\n",
       "      <th>0</th>\n",
       "      <td>2018-10-15 08:03:09+00:00</td>\n",
       "      <td>0</td>\n",
       "      <td>0</td>\n",
       "      <td>4</td>\n",
       "      <td>28</td>\n",
       "      <td>0</td>\n",
       "      <td>1</td>\n",
       "      <td>47.0</td>\n",
       "      <td>25556</td>\n",
       "      <td>0</td>\n",
       "      <td>...</td>\n",
       "      <td>0</td>\n",
       "      <td>0</td>\n",
       "      <td>0</td>\n",
       "      <td>1</td>\n",
       "      <td>0</td>\n",
       "      <td>0</td>\n",
       "      <td>0</td>\n",
       "      <td>0</td>\n",
       "      <td>0</td>\n",
       "      <td>0</td>\n",
       "    </tr>\n",
       "    <tr>\n",
       "      <th>1</th>\n",
       "      <td>2014-04-17 16:12:33+00:00</td>\n",
       "      <td>0</td>\n",
       "      <td>0</td>\n",
       "      <td>6</td>\n",
       "      <td>32</td>\n",
       "      <td>0</td>\n",
       "      <td>0</td>\n",
       "      <td>46.0</td>\n",
       "      <td>19930</td>\n",
       "      <td>1</td>\n",
       "      <td>...</td>\n",
       "      <td>0</td>\n",
       "      <td>0</td>\n",
       "      <td>0</td>\n",
       "      <td>0</td>\n",
       "      <td>0</td>\n",
       "      <td>0</td>\n",
       "      <td>1</td>\n",
       "      <td>0</td>\n",
       "      <td>0</td>\n",
       "      <td>0</td>\n",
       "    </tr>\n",
       "    <tr>\n",
       "      <th>2</th>\n",
       "      <td>2016-10-27 01:36:28+00:00</td>\n",
       "      <td>0</td>\n",
       "      <td>0</td>\n",
       "      <td>0</td>\n",
       "      <td>0</td>\n",
       "      <td>0</td>\n",
       "      <td>0</td>\n",
       "      <td>21.0</td>\n",
       "      <td>4</td>\n",
       "      <td>0</td>\n",
       "      <td>...</td>\n",
       "      <td>0</td>\n",
       "      <td>0</td>\n",
       "      <td>0</td>\n",
       "      <td>0</td>\n",
       "      <td>0</td>\n",
       "      <td>0</td>\n",
       "      <td>1</td>\n",
       "      <td>0</td>\n",
       "      <td>0</td>\n",
       "      <td>0</td>\n",
       "    </tr>\n",
       "  </tbody>\n",
       "</table>\n",
       "<p>3 rows × 1271 columns</p>\n",
       "</div>"
      ],
      "text/plain": [
       "                       date  ccs  bcced  images  urls  salutations  \\\n",
       "0 2018-10-15 08:03:09+00:00    0      0       4    28            0   \n",
       "1 2014-04-17 16:12:33+00:00    0      0       6    32            0   \n",
       "2 2016-10-27 01:36:28+00:00    0      0       0     0            0   \n",
       "\n",
       "   designation  chars_in_subject  chars_in_body  updates  ...  \\\n",
       "0            1              47.0          25556        0  ...   \n",
       "1            0              46.0          19930        1  ...   \n",
       "2            0              21.0              4        0  ...   \n",
       "\n",
       "   mail_type__text/html  mail_type__text/html   mail_type__text/plain  \\\n",
       "0                     0                      0                      0   \n",
       "1                     0                      0                      0   \n",
       "2                     0                      0                      0   \n",
       "\n",
       "   weekday_0.0  weekday_1.0  weekday_2.0  weekday_3.0 weekday_4.0 weekday_5.0  \\\n",
       "0            1            0            0            0           0           0   \n",
       "1            0            0            0            1           0           0   \n",
       "2            0            0            0            1           0           0   \n",
       "\n",
       "   weekday_6.0  \n",
       "0            0  \n",
       "1            0  \n",
       "2            0  \n",
       "\n",
       "[3 rows x 1271 columns]"
      ]
     },
     "execution_count": 39,
     "metadata": {},
     "output_type": "execute_result"
    }
   ],
   "source": [
    "df = pd.concat([df, pd.get_dummies(df['weekday'], prefix='weekday')], axis=1).drop(columns=['weekday'])\n",
    "df.head(3)"
   ]
  },
  {
   "cell_type": "markdown",
   "metadata": {},
   "source": [
    "## Dropping classes"
   ]
  },
  {
   "cell_type": "code",
   "execution_count": 40,
   "metadata": {},
   "outputs": [],
   "source": [
    "cols_to_drop = [\"date\", \"date_day\", \"class\"]\n",
    "\n",
    "df = df.drop(columns=cols_to_drop)"
   ]
  },
  {
   "cell_type": "markdown",
   "metadata": {},
   "source": [
    "# Final dataset overview"
   ]
  },
  {
   "cell_type": "code",
   "execution_count": 41,
   "metadata": {
    "scrolled": false
   },
   "outputs": [
    {
     "data": {
      "text/html": [
       "<div>\n",
       "<style scoped>\n",
       "    .dataframe tbody tr th:only-of-type {\n",
       "        vertical-align: middle;\n",
       "    }\n",
       "\n",
       "    .dataframe tbody tr th {\n",
       "        vertical-align: top;\n",
       "    }\n",
       "\n",
       "    .dataframe thead th {\n",
       "        text-align: right;\n",
       "    }\n",
       "</style>\n",
       "<table border=\"1\" class=\"dataframe\">\n",
       "  <thead>\n",
       "    <tr style=\"text-align: right;\">\n",
       "      <th></th>\n",
       "      <th>0</th>\n",
       "      <th>1</th>\n",
       "      <th>2</th>\n",
       "    </tr>\n",
       "  </thead>\n",
       "  <tbody>\n",
       "    <tr>\n",
       "      <th>ccs</th>\n",
       "      <td>0.0</td>\n",
       "      <td>0.0</td>\n",
       "      <td>0.0</td>\n",
       "    </tr>\n",
       "    <tr>\n",
       "      <th>bcced</th>\n",
       "      <td>0.0</td>\n",
       "      <td>0.0</td>\n",
       "      <td>0.0</td>\n",
       "    </tr>\n",
       "    <tr>\n",
       "      <th>images</th>\n",
       "      <td>4.0</td>\n",
       "      <td>6.0</td>\n",
       "      <td>0.0</td>\n",
       "    </tr>\n",
       "    <tr>\n",
       "      <th>urls</th>\n",
       "      <td>28.0</td>\n",
       "      <td>32.0</td>\n",
       "      <td>0.0</td>\n",
       "    </tr>\n",
       "    <tr>\n",
       "      <th>salutations</th>\n",
       "      <td>0.0</td>\n",
       "      <td>0.0</td>\n",
       "      <td>0.0</td>\n",
       "    </tr>\n",
       "    <tr>\n",
       "      <th>...</th>\n",
       "      <td>...</td>\n",
       "      <td>...</td>\n",
       "      <td>...</td>\n",
       "    </tr>\n",
       "    <tr>\n",
       "      <th>weekday_2.0</th>\n",
       "      <td>0.0</td>\n",
       "      <td>0.0</td>\n",
       "      <td>0.0</td>\n",
       "    </tr>\n",
       "    <tr>\n",
       "      <th>weekday_3.0</th>\n",
       "      <td>0.0</td>\n",
       "      <td>1.0</td>\n",
       "      <td>1.0</td>\n",
       "    </tr>\n",
       "    <tr>\n",
       "      <th>weekday_4.0</th>\n",
       "      <td>0.0</td>\n",
       "      <td>0.0</td>\n",
       "      <td>0.0</td>\n",
       "    </tr>\n",
       "    <tr>\n",
       "      <th>weekday_5.0</th>\n",
       "      <td>0.0</td>\n",
       "      <td>0.0</td>\n",
       "      <td>0.0</td>\n",
       "    </tr>\n",
       "    <tr>\n",
       "      <th>weekday_6.0</th>\n",
       "      <td>0.0</td>\n",
       "      <td>0.0</td>\n",
       "      <td>0.0</td>\n",
       "    </tr>\n",
       "  </tbody>\n",
       "</table>\n",
       "<p>1268 rows × 3 columns</p>\n",
       "</div>"
      ],
      "text/plain": [
       "                0     1    2\n",
       "ccs           0.0   0.0  0.0\n",
       "bcced         0.0   0.0  0.0\n",
       "images        4.0   6.0  0.0\n",
       "urls         28.0  32.0  0.0\n",
       "salutations   0.0   0.0  0.0\n",
       "...           ...   ...  ...\n",
       "weekday_2.0   0.0   0.0  0.0\n",
       "weekday_3.0   0.0   1.0  1.0\n",
       "weekday_4.0   0.0   0.0  0.0\n",
       "weekday_5.0   0.0   0.0  0.0\n",
       "weekday_6.0   0.0   0.0  0.0\n",
       "\n",
       "[1268 rows x 3 columns]"
      ]
     },
     "execution_count": 41,
     "metadata": {},
     "output_type": "execute_result"
    }
   ],
   "source": [
    "df.head(3).T"
   ]
  },
  {
   "cell_type": "code",
   "execution_count": 42,
   "metadata": {},
   "outputs": [
    {
     "name": "stdout",
     "output_type": "stream",
     "text": [
      "<class 'pandas.core.frame.DataFrame'>\n",
      "Int64Index: 37939 entries, 0 to 39670\n",
      "Columns: 1268 entries, ccs to weekday_6.0\n",
      "dtypes: float64(3), int64(15), uint8(1250)\n",
      "memory usage: 50.7 MB\n"
     ]
    }
   ],
   "source": [
    "df.info()"
   ]
  },
  {
   "cell_type": "markdown",
   "metadata": {},
   "source": [
    "# Model"
   ]
  },
  {
   "cell_type": "markdown",
   "metadata": {},
   "source": [
    "## For one class first"
   ]
  },
  {
   "cell_type": "code",
   "execution_count": 43,
   "metadata": {},
   "outputs": [
    {
     "name": "stdout",
     "output_type": "stream",
     "text": [
      "Current class: updates\n"
     ]
    }
   ],
   "source": [
    "k = 0\n",
    "print(f\"Current class: {list_classes[k]}\")"
   ]
  },
  {
   "cell_type": "markdown",
   "metadata": {},
   "source": [
    "### Splitting train / test"
   ]
  },
  {
   "cell_type": "code",
   "execution_count": 44,
   "metadata": {},
   "outputs": [],
   "source": [
    "X = df.drop(columns=list_classes)\n",
    "y = df[list_classes[k]]"
   ]
  },
  {
   "cell_type": "code",
   "execution_count": 45,
   "metadata": {},
   "outputs": [
    {
     "data": {
      "text/plain": [
       "0        0\n",
       "1        1\n",
       "2        0\n",
       "3        0\n",
       "4        0\n",
       "        ..\n",
       "39665    1\n",
       "39666    0\n",
       "39668    0\n",
       "39669    1\n",
       "39670    1\n",
       "Name: updates, Length: 37939, dtype: int64"
      ]
     },
     "execution_count": 45,
     "metadata": {},
     "output_type": "execute_result"
    }
   ],
   "source": [
    "y"
   ]
  },
  {
   "cell_type": "code",
   "execution_count": 46,
   "metadata": {},
   "outputs": [],
   "source": [
    "X_train, X_test, y_train, y_test = train_test_split(\n",
    "    X, y, test_size=0.2, random_state=0, stratify=y)"
   ]
  },
  {
   "cell_type": "markdown",
   "metadata": {},
   "source": [
    "Quick check:"
   ]
  },
  {
   "cell_type": "code",
   "execution_count": 47,
   "metadata": {},
   "outputs": [
    {
     "data": {
      "text/plain": [
       "0.2"
      ]
     },
     "execution_count": 47,
     "metadata": {},
     "output_type": "execute_result"
    }
   ],
   "source": [
    "y_test.sum(axis=0) / (y_train.sum(axis=0) + y_test.sum(axis=0))"
   ]
  },
  {
   "cell_type": "markdown",
   "metadata": {},
   "source": [
    "### Prediction"
   ]
  },
  {
   "cell_type": "code",
   "execution_count": 48,
   "metadata": {},
   "outputs": [
    {
     "name": "stdout",
     "output_type": "stream",
     "text": [
      "[10:56:34] WARNING: /Users/runner/miniforge3/conda-bld/xgboost_1607604592557/work/src/learner.cc:1061: Starting in XGBoost 1.3.0, the default evaluation metric used with the objective 'binary:logistic' was changed from 'error' to 'logloss'. Explicitly set eval_metric if you'd like to restore the old behavior.\n"
     ]
    },
    {
     "data": {
      "text/plain": [
       "XGBClassifier(base_score=0.5, booster='gbtree', colsample_bylevel=1,\n",
       "              colsample_bynode=1, colsample_bytree=1, gamma=0, gpu_id=-1,\n",
       "              importance_type='gain', interaction_constraints='',\n",
       "              learning_rate=0.300000012, max_delta_step=0, max_depth=6,\n",
       "              min_child_weight=1, missing=nan, monotone_constraints='()',\n",
       "              n_estimators=100, n_jobs=8, num_parallel_tree=1, random_state=0,\n",
       "              reg_alpha=0, reg_lambda=1, scale_pos_weight=1, subsample=1,\n",
       "              tree_method='exact', validate_parameters=1, verbosity=None)"
      ]
     },
     "execution_count": 48,
     "metadata": {},
     "output_type": "execute_result"
    }
   ],
   "source": [
    "model = xgb.XGBClassifier(n_estimators=100, random_state=0)\n",
    "\n",
    "\n",
    "model.fit(X_train, y_train, verbose=0)"
   ]
  },
  {
   "cell_type": "code",
   "execution_count": 49,
   "metadata": {},
   "outputs": [],
   "source": [
    "y_preds = model.predict_proba(X_test)"
   ]
  },
  {
   "cell_type": "code",
   "execution_count": 50,
   "metadata": {},
   "outputs": [
    {
     "data": {
      "text/plain": [
       "0.22401514056549063"
      ]
     },
     "execution_count": 50,
     "metadata": {},
     "output_type": "execute_result"
    }
   ],
   "source": [
    "log_loss(y_test, y_preds)"
   ]
  },
  {
   "cell_type": "code",
   "execution_count": 51,
   "metadata": {
    "scrolled": false
   },
   "outputs": [
    {
     "name": "stdout",
     "output_type": "stream",
     "text": [
      "              precision    recall  f1-score   support\n",
      "\n",
      "           0       0.94      0.93      0.93      4984\n",
      "           1       0.87      0.88      0.87      2604\n",
      "\n",
      "    accuracy                           0.91      7588\n",
      "   macro avg       0.90      0.90      0.90      7588\n",
      "weighted avg       0.91      0.91      0.91      7588\n",
      "\n"
     ]
    }
   ],
   "source": [
    "print(classification_report(y_test, model.predict(X_test)))"
   ]
  },
  {
   "cell_type": "markdown",
   "metadata": {},
   "source": [
    "## GridSearch for one class"
   ]
  },
  {
   "cell_type": "code",
   "execution_count": 52,
   "metadata": {
    "scrolled": false
   },
   "outputs": [],
   "source": [
    "if False:\n",
    "    # A parameter grid for XGBoost\n",
    "    params = {\n",
    "            'min_child_weight': [1, 5, 10],\n",
    "            'gamma': [0.5, 1, 1.5, 2, 5],\n",
    "            'subsample': [0.6, 0.8, 1.0],\n",
    "            'colsample_bytree': [0.6, 0.8, 1.0],\n",
    "            'max_depth': [3, 4, 5]\n",
    "            }\n",
    "\n",
    "    # It's more efficient to use parallelization for GridSearch so we set n_jobs=1:\n",
    "    clf = xgb.XGBClassifier(n_estimators=100, n_jobs=-1, verbosity = 0) \n",
    "\n",
    "    grid = GridSearchCV(\n",
    "        clf,\n",
    "        params,\n",
    "        n_jobs=1,  # -1 means using all processors\n",
    "        scoring=\"f1\",\n",
    "        cv=3,\n",
    "        refit=True,\n",
    "        verbose=2)\n",
    "\n",
    "    grid.fit(X, y, verbose=0)\n",
    "\n",
    "    model = grid.best_estimator_\n",
    "\n",
    "    # Save the optimal hyperparameters\n",
    "    with open('XGBClassifier_optimal_parameters.json', \"w\") as f:  \n",
    "        json.dump(grid.best_params_, f)"
   ]
  },
  {
   "cell_type": "markdown",
   "metadata": {},
   "source": [
    "In case we haven't recomputed GridSearch, we'll load the last saved model:"
   ]
  },
  {
   "cell_type": "code",
   "execution_count": 53,
   "metadata": {},
   "outputs": [
    {
     "data": {
      "text/plain": [
       "{'colsample_bytree': 1.0,\n",
       " 'gamma': 0.5,\n",
       " 'max_depth': 5,\n",
       " 'min_child_weight': 1,\n",
       " 'subsample': 0.8}"
      ]
     },
     "execution_count": 53,
     "metadata": {},
     "output_type": "execute_result"
    }
   ],
   "source": [
    "with open('XGBClassifier_optimal_parameters.json') as f:\n",
    "    params_optimal = json.load(f)\n",
    "\n",
    "params_optimal"
   ]
  },
  {
   "cell_type": "code",
   "execution_count": 54,
   "metadata": {},
   "outputs": [
    {
     "name": "stdout",
     "output_type": "stream",
     "text": [
      "[10:57:05] WARNING: /Users/runner/miniforge3/conda-bld/xgboost_1607604592557/work/src/learner.cc:1061: Starting in XGBoost 1.3.0, the default evaluation metric used with the objective 'binary:logistic' was changed from 'error' to 'logloss'. Explicitly set eval_metric if you'd like to restore the old behavior.\n",
      "logloss: 0.22734474075126243\n",
      "\n",
      "\n",
      "              precision    recall  f1-score   support\n",
      "\n",
      "           0       0.94      0.93      0.93      4984\n",
      "           1       0.87      0.88      0.87      2604\n",
      "\n",
      "    accuracy                           0.91      7588\n",
      "   macro avg       0.90      0.90      0.90      7588\n",
      "weighted avg       0.91      0.91      0.91      7588\n",
      "\n"
     ]
    }
   ],
   "source": [
    "model = xgb.XGBClassifier(random_state=0)\n",
    "model.set_params(**params_optimal)\n",
    "\n",
    "model.fit(X_train, y_train, verbose=0)\n",
    "\n",
    "y_preds = model.predict_proba(X_test)\n",
    "print(f\"logloss: {log_loss(y_test, y_preds)}\")\n",
    "print(\"\\n\")\n",
    "print(classification_report(y_test, model.predict(X_test)))"
   ]
  },
  {
   "cell_type": "markdown",
   "metadata": {},
   "source": [
    "## For all classes"
   ]
  },
  {
   "cell_type": "code",
   "execution_count": 58,
   "metadata": {
    "scrolled": false
   },
   "outputs": [
    {
     "data": {
      "application/vnd.jupyter.widget-view+json": {
       "model_id": "c3fafa952df74e7e8f9a7b184a319e65",
       "version_major": 2,
       "version_minor": 0
      },
      "text/plain": [
       "  0%|          | 0/8 [00:00<?, ?it/s]"
      ]
     },
     "metadata": {},
     "output_type": "display_data"
    },
    {
     "name": "stdout",
     "output_type": "stream",
     "text": [
      "logloss: 0.22590890219781876\n",
      "\n",
      "\n",
      "For \"updates\" class:\n",
      "              precision    recall  f1-score   support\n",
      "\n",
      "           0       0.94      0.93      0.94      7476\n",
      "           1       0.87      0.89      0.88      3906\n",
      "\n",
      "    accuracy                           0.92     11382\n",
      "   macro avg       0.91      0.91      0.91     11382\n",
      "weighted avg       0.92      0.92      0.92     11382\n",
      "\n",
      "-------------------------------------------------------------------\n",
      "\n",
      "logloss: 0.219187936129489\n",
      "\n",
      "\n",
      "For \"personal\" class:\n",
      "              precision    recall  f1-score   support\n",
      "\n",
      "           0       0.91      0.66      0.76      2216\n",
      "           1       0.92      0.98      0.95      9166\n",
      "\n",
      "    accuracy                           0.92     11382\n",
      "   macro avg       0.92      0.82      0.86     11382\n",
      "weighted avg       0.92      0.92      0.92     11382\n",
      "\n",
      "-------------------------------------------------------------------\n",
      "\n",
      "logloss: 0.17965341499972162\n",
      "\n",
      "\n",
      "For \"promotions\" class:\n",
      "              precision    recall  f1-score   support\n",
      "\n",
      "           0       0.95      0.97      0.96      9011\n",
      "           1       0.87      0.79      0.83      2371\n",
      "\n",
      "    accuracy                           0.93     11382\n",
      "   macro avg       0.91      0.88      0.89     11382\n",
      "weighted avg       0.93      0.93      0.93     11382\n",
      "\n",
      "-------------------------------------------------------------------\n",
      "\n",
      "logloss: 0.11341185553280239\n",
      "\n",
      "\n",
      "For \"forums\" class:\n",
      "              precision    recall  f1-score   support\n",
      "\n",
      "           0       0.97      0.97      0.97      9560\n",
      "           1       0.86      0.85      0.85      1822\n",
      "\n",
      "    accuracy                           0.95     11382\n",
      "   macro avg       0.91      0.91      0.91     11382\n",
      "weighted avg       0.95      0.95      0.95     11382\n",
      "\n",
      "-------------------------------------------------------------------\n",
      "\n",
      "logloss: 0.010003042619355645\n",
      "\n",
      "\n",
      "For \"purchases\" class:\n",
      "              precision    recall  f1-score   support\n",
      "\n",
      "           0       1.00      1.00      1.00     11297\n",
      "           1       0.88      0.67      0.76        85\n",
      "\n",
      "    accuracy                           1.00     11382\n",
      "   macro avg       0.94      0.83      0.88     11382\n",
      "weighted avg       1.00      1.00      1.00     11382\n",
      "\n",
      "-------------------------------------------------------------------\n",
      "\n",
      "logloss: 0.008252369862601664\n",
      "\n",
      "\n",
      "For \"travel\" class:\n",
      "              precision    recall  f1-score   support\n",
      "\n",
      "           0       1.00      1.00      1.00     11362\n",
      "           1       0.75      0.30      0.43        20\n",
      "\n",
      "    accuracy                           1.00     11382\n",
      "   macro avg       0.87      0.65      0.71     11382\n",
      "weighted avg       1.00      1.00      1.00     11382\n",
      "\n",
      "-------------------------------------------------------------------\n",
      "\n",
      "logloss: 0.00820500752702739\n",
      "\n",
      "\n",
      "For \"spam\" class:\n",
      "              precision    recall  f1-score   support\n",
      "\n",
      "           0       1.00      1.00      1.00     11337\n",
      "           1       0.92      0.53      0.68        45\n",
      "\n",
      "    accuracy                           1.00     11382\n",
      "   macro avg       0.96      0.77      0.84     11382\n",
      "weighted avg       1.00      1.00      1.00     11382\n",
      "\n",
      "-------------------------------------------------------------------\n",
      "\n",
      "logloss: 0.015995422919671622\n",
      "\n",
      "\n",
      "For \"social\" class:\n",
      "              precision    recall  f1-score   support\n",
      "\n",
      "           0       1.00      1.00      1.00     10180\n",
      "           1       0.98      0.98      0.98      1202\n",
      "\n",
      "    accuracy                           1.00     11382\n",
      "   macro avg       0.99      0.99      0.99     11382\n",
      "weighted avg       1.00      1.00      1.00     11382\n",
      "\n",
      "-------------------------------------------------------------------\n",
      "\n"
     ]
    }
   ],
   "source": [
    "dic_preds = dict()\n",
    "\n",
    "\n",
    "pbar = tqdm(list_classes)\n",
    "\n",
    "for current_class in pbar:\n",
    "    pbar.set_description(f'Processing \"{current_class}\" class\"')\n",
    "    \n",
    "    X = df.drop(columns=list_classes)\n",
    "    y = df[current_class]\n",
    "    X_train, X_test, y_train, y_test = train_test_split(\n",
    "        X, y, test_size=0.2, random_state=0, stratify=y)\n",
    "    \n",
    "    model = xgb.XGBClassifier(random_state=0)\n",
    "    model.set_params(**params_optimal)\n",
    "    \n",
    "    model.fit(X_train, y_train, verbose=False, eval_metric='logloss')\n",
    "    model.save_model(f\"models/{current_class}_clf.model\")\n",
    "    \n",
    "    dic_preds[current_class] = model.predict_proba(X_test)\n",
    "    \n",
    "    print(f\"logloss: {log_loss(y_test, dic_preds[current_class])}\")\n",
    "    print(\"\\n\")\n",
    "    \n",
    "    print(f'For \"{current_class}\" class:')\n",
    "    print(classification_report(y_test, model.predict(X_test)))\n",
    "    \n",
    "    print(\"-------------------------------------------------------------------\\n\")"
   ]
  },
  {
   "cell_type": "markdown",
   "metadata": {},
   "source": [
    "# Generating submissions for Kaggle"
   ]
  },
  {
   "cell_type": "markdown",
   "metadata": {},
   "source": [
    "## Pipeline function"
   ]
  },
  {
   "cell_type": "code",
   "execution_count": 59,
   "metadata": {},
   "outputs": [],
   "source": [
    "def format_date(row):\n",
    "    pattern = r'(\\d{1,2}.*\\d{2}:\\d{2}:\\d{2}) ([+-]\\d{2}\\d{2})'\n",
    "    \n",
    "    ans = re.search(pattern, string=row)\n",
    "    \n",
    "    if ans:\n",
    "        if ans.group(1)[1] == ' ':\n",
    "            return ''.join(['0', ans.group(1), ans.group(2)])\n",
    "        else:\n",
    "            return ''.join([ans.group(1), ans.group(2)])\n",
    "    else:\n",
    "        return np.nan\n",
    "\n",
    "    \n",
    "def calc_smooth_mean(df, by, on, m):\n",
    "    # Compute the global mean\n",
    "    mean = df[on].mean()\n",
    "\n",
    "    # Compute the number of values and the mean of each group\n",
    "    agg = df.groupby(by)[on].agg(['count', 'mean'])\n",
    "    counts = agg['count']\n",
    "    means = agg['mean']\n",
    "\n",
    "    # Compute the \"smoothed\" means\n",
    "    smooth = (counts * means + m * mean) / (counts + m)\n",
    "\n",
    "    # Replace each value by the according smoothed mean\n",
    "    return df[by].map(smooth)\n",
    "\n",
    "\n",
    "    \n",
    "\n",
    "    \n",
    "def proprocess(df):\n",
    "    df_train = pd.read_csv(\"train_ml.csv\")\n",
    "    \n",
    "    # Drop NA only for training set since we'll assume there is no NA is test set\n",
    "    df_train = df_train.dropna(how='any')\n",
    "    \n",
    "    \n",
    "    list_df = [df_train, df]\n",
    "    \n",
    "    \n",
    "    for idx, cur_df in enumerate(list_df):\n",
    "        ## Date features\n",
    "        list_df[idx]['date'] = pd.to_datetime(list_df[idx]['date'].apply(format_date), utc=True)\n",
    "        \n",
    "        list_df[idx]['date_day'] = list_df[idx]['date'].dt.date\n",
    "        list_df[idx]['month'] = list_df[idx]['date'].dt.month\n",
    "        list_df[idx]['weekday'] = list_df[idx]['date'].dt.weekday\n",
    "        list_df[idx]['hour'] = list_df[idx]['date'].dt.hour\n",
    "    \n",
    "    # Update DataFrames\n",
    "    df_train = list_df[0]\n",
    "    df = list_df[1]\n",
    "    \n",
    "    \n",
    "    ## Categorical features to one-hot encode:\n",
    "    list_categorical_cols = [\"org\", \"tld\", \"mail_type\"]\n",
    "\n",
    "    for col in list_categorical_cols:\n",
    "        df = pd.concat([df, pd.get_dummies(df[col], prefix=f'{col}_')], axis=1).drop(columns=[col])\n",
    "    \n",
    "    \n",
    "    \n",
    "    ## weekday -> One-Hot Encoding\n",
    "    df = pd.concat([df, pd.get_dummies(df['weekday'], prefix='weekday')], axis=1).drop(columns=['weekday'])\n",
    "    \n",
    "    \n",
    "    ## Dropping classes\n",
    "    cols_to_drop = [\"date\", \"date_day\"]\n",
    "    df = df.drop(columns=cols_to_drop)\n",
    "    \n",
    "    \n",
    "    ## Loading optimal hyperparameters\n",
    "    with open('XGBClassifier_optimal_parameters.json') as f:\n",
    "        params_optimal = json.load(f)\n",
    "    \n",
    "    \n",
    "    ## Predictions\n",
    "    dic_preds = dict()\n",
    "\n",
    "\n",
    "    pbar = tqdm(list_classes)\n",
    "\n",
    "    for current_class in pbar:\n",
    "        pbar.set_description(f'Processing \"{current_class}\" class\"')\n",
    "\n",
    "        X = df # Here there is no labels at hand...\n",
    "\n",
    "        model = xgb.XGBClassifier(random_state=0)\n",
    "        model.set_params(**params_optimal)\n",
    "\n",
    "        model.load_model(f\"models/{current_class}_clf.model\")\n",
    "        \n",
    "        # We only keep the probability of the positive classification:\n",
    "        dic_preds[current_class] = model.predict_proba(X)[:,1]\n",
    "    \n",
    "    \n",
    "    ans = pd.DataFrame(dic_preds)\n",
    "    \n",
    "    return ans"
   ]
  },
  {
   "cell_type": "code",
   "execution_count": 60,
   "metadata": {},
   "outputs": [
    {
     "data": {
      "application/vnd.jupyter.widget-view+json": {
       "model_id": "ff2741caeca141b2b2e54ef6aad1a74d",
       "version_major": 2,
       "version_minor": 0
      },
      "text/plain": [
       "  0%|          | 0/8 [00:00<?, ?it/s]"
      ]
     },
     "metadata": {},
     "output_type": "display_data"
    },
    {
     "data": {
      "text/html": [
       "<div>\n",
       "<style scoped>\n",
       "    .dataframe tbody tr th:only-of-type {\n",
       "        vertical-align: middle;\n",
       "    }\n",
       "\n",
       "    .dataframe tbody tr th {\n",
       "        vertical-align: top;\n",
       "    }\n",
       "\n",
       "    .dataframe thead th {\n",
       "        text-align: right;\n",
       "    }\n",
       "</style>\n",
       "<table border=\"1\" class=\"dataframe\">\n",
       "  <thead>\n",
       "    <tr style=\"text-align: right;\">\n",
       "      <th></th>\n",
       "      <th>updates</th>\n",
       "      <th>personal</th>\n",
       "      <th>promotions</th>\n",
       "      <th>forums</th>\n",
       "      <th>purchases</th>\n",
       "      <th>travel</th>\n",
       "      <th>spam</th>\n",
       "      <th>social</th>\n",
       "    </tr>\n",
       "  </thead>\n",
       "  <tbody>\n",
       "    <tr>\n",
       "      <th>0</th>\n",
       "      <td>0.438919</td>\n",
       "      <td>0.979653</td>\n",
       "      <td>0.102133</td>\n",
       "      <td>0.042938</td>\n",
       "      <td>0.000015</td>\n",
       "      <td>0.000012</td>\n",
       "      <td>0.000465</td>\n",
       "      <td>0.000207</td>\n",
       "    </tr>\n",
       "    <tr>\n",
       "      <th>1</th>\n",
       "      <td>0.390854</td>\n",
       "      <td>0.969219</td>\n",
       "      <td>0.002862</td>\n",
       "      <td>0.011977</td>\n",
       "      <td>0.000018</td>\n",
       "      <td>0.000005</td>\n",
       "      <td>0.000055</td>\n",
       "      <td>0.000116</td>\n",
       "    </tr>\n",
       "    <tr>\n",
       "      <th>2</th>\n",
       "      <td>0.019660</td>\n",
       "      <td>0.986041</td>\n",
       "      <td>0.012752</td>\n",
       "      <td>0.013099</td>\n",
       "      <td>0.000003</td>\n",
       "      <td>0.000003</td>\n",
       "      <td>0.000033</td>\n",
       "      <td>0.000082</td>\n",
       "    </tr>\n",
       "    <tr>\n",
       "      <th>3</th>\n",
       "      <td>0.072055</td>\n",
       "      <td>0.979653</td>\n",
       "      <td>0.045122</td>\n",
       "      <td>0.224457</td>\n",
       "      <td>0.000009</td>\n",
       "      <td>0.000008</td>\n",
       "      <td>0.000229</td>\n",
       "      <td>0.000079</td>\n",
       "    </tr>\n",
       "    <tr>\n",
       "      <th>4</th>\n",
       "      <td>0.019660</td>\n",
       "      <td>0.989469</td>\n",
       "      <td>0.017982</td>\n",
       "      <td>0.017465</td>\n",
       "      <td>0.000005</td>\n",
       "      <td>0.000003</td>\n",
       "      <td>0.000155</td>\n",
       "      <td>0.000166</td>\n",
       "    </tr>\n",
       "  </tbody>\n",
       "</table>\n",
       "</div>"
      ],
      "text/plain": [
       "    updates  personal  promotions    forums  purchases    travel      spam  \\\n",
       "0  0.438919  0.979653    0.102133  0.042938   0.000015  0.000012  0.000465   \n",
       "1  0.390854  0.969219    0.002862  0.011977   0.000018  0.000005  0.000055   \n",
       "2  0.019660  0.986041    0.012752  0.013099   0.000003  0.000003  0.000033   \n",
       "3  0.072055  0.979653    0.045122  0.224457   0.000009  0.000008  0.000229   \n",
       "4  0.019660  0.989469    0.017982  0.017465   0.000005  0.000003  0.000155   \n",
       "\n",
       "     social  \n",
       "0  0.000207  \n",
       "1  0.000116  \n",
       "2  0.000082  \n",
       "3  0.000079  \n",
       "4  0.000166  "
      ]
     },
     "execution_count": 60,
     "metadata": {},
     "output_type": "execute_result"
    }
   ],
   "source": [
    "df_test = pd.read_csv(\"test_ml.csv\")\n",
    "ans = proprocess(df_test)\n",
    "\n",
    "ans.to_csv('submission_tony.csv', index_label='Id')\n",
    "ans.head()"
   ]
  },
  {
   "cell_type": "code",
   "execution_count": 61,
   "metadata": {},
   "outputs": [
    {
     "data": {
      "text/html": [
       "<div>\n",
       "<style scoped>\n",
       "    .dataframe tbody tr th:only-of-type {\n",
       "        vertical-align: middle;\n",
       "    }\n",
       "\n",
       "    .dataframe tbody tr th {\n",
       "        vertical-align: top;\n",
       "    }\n",
       "\n",
       "    .dataframe thead th {\n",
       "        text-align: right;\n",
       "    }\n",
       "</style>\n",
       "<table border=\"1\" class=\"dataframe\">\n",
       "  <thead>\n",
       "    <tr style=\"text-align: right;\">\n",
       "      <th></th>\n",
       "      <th>Id</th>\n",
       "      <th>updates</th>\n",
       "      <th>personal</th>\n",
       "      <th>promotions</th>\n",
       "      <th>forums</th>\n",
       "      <th>purchases</th>\n",
       "      <th>travel</th>\n",
       "      <th>spam</th>\n",
       "      <th>social</th>\n",
       "    </tr>\n",
       "  </thead>\n",
       "  <tbody>\n",
       "    <tr>\n",
       "      <th>0</th>\n",
       "      <td>0</td>\n",
       "      <td>0.438919</td>\n",
       "      <td>0.979653</td>\n",
       "      <td>0.102134</td>\n",
       "      <td>0.042938</td>\n",
       "      <td>0.000015</td>\n",
       "      <td>0.000012</td>\n",
       "      <td>0.000465</td>\n",
       "      <td>0.000207</td>\n",
       "    </tr>\n",
       "    <tr>\n",
       "      <th>1</th>\n",
       "      <td>1</td>\n",
       "      <td>0.390854</td>\n",
       "      <td>0.969219</td>\n",
       "      <td>0.002862</td>\n",
       "      <td>0.011977</td>\n",
       "      <td>0.000018</td>\n",
       "      <td>0.000005</td>\n",
       "      <td>0.000055</td>\n",
       "      <td>0.000116</td>\n",
       "    </tr>\n",
       "    <tr>\n",
       "      <th>2</th>\n",
       "      <td>2</td>\n",
       "      <td>0.019660</td>\n",
       "      <td>0.986041</td>\n",
       "      <td>0.012752</td>\n",
       "      <td>0.013099</td>\n",
       "      <td>0.000003</td>\n",
       "      <td>0.000003</td>\n",
       "      <td>0.000033</td>\n",
       "      <td>0.000082</td>\n",
       "    </tr>\n",
       "    <tr>\n",
       "      <th>3</th>\n",
       "      <td>3</td>\n",
       "      <td>0.072055</td>\n",
       "      <td>0.979653</td>\n",
       "      <td>0.045122</td>\n",
       "      <td>0.224457</td>\n",
       "      <td>0.000009</td>\n",
       "      <td>0.000008</td>\n",
       "      <td>0.000229</td>\n",
       "      <td>0.000079</td>\n",
       "    </tr>\n",
       "    <tr>\n",
       "      <th>4</th>\n",
       "      <td>4</td>\n",
       "      <td>0.019660</td>\n",
       "      <td>0.989469</td>\n",
       "      <td>0.017982</td>\n",
       "      <td>0.017465</td>\n",
       "      <td>0.000005</td>\n",
       "      <td>0.000003</td>\n",
       "      <td>0.000155</td>\n",
       "      <td>0.000166</td>\n",
       "    </tr>\n",
       "    <tr>\n",
       "      <th>...</th>\n",
       "      <td>...</td>\n",
       "      <td>...</td>\n",
       "      <td>...</td>\n",
       "      <td>...</td>\n",
       "      <td>...</td>\n",
       "      <td>...</td>\n",
       "      <td>...</td>\n",
       "      <td>...</td>\n",
       "      <td>...</td>\n",
       "    </tr>\n",
       "    <tr>\n",
       "      <th>16997</th>\n",
       "      <td>16997</td>\n",
       "      <td>0.017808</td>\n",
       "      <td>0.991212</td>\n",
       "      <td>0.012752</td>\n",
       "      <td>0.014832</td>\n",
       "      <td>0.000009</td>\n",
       "      <td>0.000003</td>\n",
       "      <td>0.000047</td>\n",
       "      <td>0.000068</td>\n",
       "    </tr>\n",
       "    <tr>\n",
       "      <th>16998</th>\n",
       "      <td>16998</td>\n",
       "      <td>0.032523</td>\n",
       "      <td>0.979998</td>\n",
       "      <td>0.015631</td>\n",
       "      <td>0.009689</td>\n",
       "      <td>0.000022</td>\n",
       "      <td>0.000007</td>\n",
       "      <td>0.000077</td>\n",
       "      <td>0.000137</td>\n",
       "    </tr>\n",
       "    <tr>\n",
       "      <th>16999</th>\n",
       "      <td>16999</td>\n",
       "      <td>0.032822</td>\n",
       "      <td>0.990824</td>\n",
       "      <td>0.016991</td>\n",
       "      <td>0.000897</td>\n",
       "      <td>0.000013</td>\n",
       "      <td>0.000003</td>\n",
       "      <td>0.000043</td>\n",
       "      <td>0.000198</td>\n",
       "    </tr>\n",
       "    <tr>\n",
       "      <th>17000</th>\n",
       "      <td>17000</td>\n",
       "      <td>0.102484</td>\n",
       "      <td>0.992642</td>\n",
       "      <td>0.026567</td>\n",
       "      <td>0.004428</td>\n",
       "      <td>0.000004</td>\n",
       "      <td>0.000002</td>\n",
       "      <td>0.000050</td>\n",
       "      <td>0.000082</td>\n",
       "    </tr>\n",
       "    <tr>\n",
       "      <th>17001</th>\n",
       "      <td>17001</td>\n",
       "      <td>0.032523</td>\n",
       "      <td>0.988006</td>\n",
       "      <td>0.012045</td>\n",
       "      <td>0.000893</td>\n",
       "      <td>0.000007</td>\n",
       "      <td>0.000005</td>\n",
       "      <td>0.000040</td>\n",
       "      <td>0.000097</td>\n",
       "    </tr>\n",
       "  </tbody>\n",
       "</table>\n",
       "<p>17002 rows × 9 columns</p>\n",
       "</div>"
      ],
      "text/plain": [
       "          Id   updates  personal  promotions    forums  purchases    travel  \\\n",
       "0          0  0.438919  0.979653    0.102134  0.042938   0.000015  0.000012   \n",
       "1          1  0.390854  0.969219    0.002862  0.011977   0.000018  0.000005   \n",
       "2          2  0.019660  0.986041    0.012752  0.013099   0.000003  0.000003   \n",
       "3          3  0.072055  0.979653    0.045122  0.224457   0.000009  0.000008   \n",
       "4          4  0.019660  0.989469    0.017982  0.017465   0.000005  0.000003   \n",
       "...      ...       ...       ...         ...       ...        ...       ...   \n",
       "16997  16997  0.017808  0.991212    0.012752  0.014832   0.000009  0.000003   \n",
       "16998  16998  0.032523  0.979998    0.015631  0.009689   0.000022  0.000007   \n",
       "16999  16999  0.032822  0.990824    0.016991  0.000897   0.000013  0.000003   \n",
       "17000  17000  0.102484  0.992642    0.026567  0.004428   0.000004  0.000002   \n",
       "17001  17001  0.032523  0.988006    0.012045  0.000893   0.000007  0.000005   \n",
       "\n",
       "           spam    social  \n",
       "0      0.000465  0.000207  \n",
       "1      0.000055  0.000116  \n",
       "2      0.000033  0.000082  \n",
       "3      0.000229  0.000079  \n",
       "4      0.000155  0.000166  \n",
       "...         ...       ...  \n",
       "16997  0.000047  0.000068  \n",
       "16998  0.000077  0.000137  \n",
       "16999  0.000043  0.000198  \n",
       "17000  0.000050  0.000082  \n",
       "17001  0.000040  0.000097  \n",
       "\n",
       "[17002 rows x 9 columns]"
      ]
     },
     "execution_count": 61,
     "metadata": {},
     "output_type": "execute_result"
    }
   ],
   "source": [
    "pd.read_csv('submission_tony.csv')"
   ]
  },
  {
   "cell_type": "code",
   "execution_count": null,
   "metadata": {},
   "outputs": [],
   "source": []
  }
 ],
 "metadata": {
  "kernelspec": {
   "display_name": "Python 3",
   "language": "python",
   "name": "python3"
  },
  "language_info": {
   "codemirror_mode": {
    "name": "ipython",
    "version": 3
   },
   "file_extension": ".py",
   "mimetype": "text/x-python",
   "name": "python",
   "nbconvert_exporter": "python",
   "pygments_lexer": "ipython3",
   "version": "3.8.5"
  },
  "toc": {
   "base_numbering": 1,
   "nav_menu": {},
   "number_sections": true,
   "sideBar": true,
   "skip_h1_title": false,
   "title_cell": "Table of Contents",
   "title_sidebar": "Contents",
   "toc_cell": true,
   "toc_position": {
    "height": "calc(100% - 180px)",
    "left": "10px",
    "top": "150px",
    "width": "256px"
   },
   "toc_section_display": true,
   "toc_window_display": true
  },
  "varInspector": {
   "cols": {
    "lenName": 16,
    "lenType": 16,
    "lenVar": 40
   },
   "kernels_config": {
    "python": {
     "delete_cmd_postfix": "",
     "delete_cmd_prefix": "del ",
     "library": "var_list.py",
     "varRefreshCmd": "print(var_dic_list())"
    },
    "r": {
     "delete_cmd_postfix": ") ",
     "delete_cmd_prefix": "rm(",
     "library": "var_list.r",
     "varRefreshCmd": "cat(var_dic_list()) "
    }
   },
   "types_to_exclude": [
    "module",
    "function",
    "builtin_function_or_method",
    "instance",
    "_Feature"
   ],
   "window_display": false
  }
 },
 "nbformat": 4,
 "nbformat_minor": 4
}
