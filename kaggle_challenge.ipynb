{
 "cells": [
  {
   "cell_type": "markdown",
   "metadata": {},
   "source": [
    "<center> <font size=6> Kaggle challenge </font> </center>\n",
    "<center> <i> GroudTruth Team </i> </center>"
   ]
  },
  {
   "cell_type": "markdown",
   "metadata": {
    "toc": true
   },
   "source": [
    "<h1>Table of Contents<span class=\"tocSkip\"></span></h1>\n",
    "<div class=\"toc\"><ul class=\"toc-item\"><li><span><a href=\"#Import-modules\" data-toc-modified-id=\"Import-modules-1\"><span class=\"toc-item-num\">1&nbsp;&nbsp;</span>Import modules</a></span></li><li><span><a href=\"#Import-data\" data-toc-modified-id=\"Import-data-2\"><span class=\"toc-item-num\">2&nbsp;&nbsp;</span>Import data</a></span></li><li><span><a href=\"#Information-about-the-dataset\" data-toc-modified-id=\"Information-about-the-dataset-3\"><span class=\"toc-item-num\">3&nbsp;&nbsp;</span>Information about the dataset</a></span><ul class=\"toc-item\"><li><span><a href=\"#Dataset-Features\" data-toc-modified-id=\"Dataset-Features-3.1\"><span class=\"toc-item-num\">3.1&nbsp;&nbsp;</span>Dataset Features</a></span></li><li><span><a href=\"#Class-Labels-(8-Classes)\" data-toc-modified-id=\"Class-Labels-(8-Classes)-3.2\"><span class=\"toc-item-num\">3.2&nbsp;&nbsp;</span>Class Labels (8 Classes)</a></span></li><li><span><a href=\"#Profile-Report\" data-toc-modified-id=\"Profile-Report-3.3\"><span class=\"toc-item-num\">3.3&nbsp;&nbsp;</span>Profile Report</a></span></li></ul></li><li><span><a href=\"#Data-Analysis\" data-toc-modified-id=\"Data-Analysis-4\"><span class=\"toc-item-num\">4&nbsp;&nbsp;</span>Data Analysis</a></span></li><li><span><a href=\"#Preprocessing\" data-toc-modified-id=\"Preprocessing-5\"><span class=\"toc-item-num\">5&nbsp;&nbsp;</span>Preprocessing</a></span><ul class=\"toc-item\"><li><span><a href=\"#NA-Cleaning\" data-toc-modified-id=\"NA-Cleaning-5.1\"><span class=\"toc-item-num\">5.1&nbsp;&nbsp;</span>NA Cleaning</a></span></li><li><span><a href=\"#Date\" data-toc-modified-id=\"Date-5.2\"><span class=\"toc-item-num\">5.2&nbsp;&nbsp;</span>Date</a></span><ul class=\"toc-item\"><li><span><a href=\"#Regex-parsing-for-date-extraction\" data-toc-modified-id=\"Regex-parsing-for-date-extraction-5.2.1\"><span class=\"toc-item-num\">5.2.1&nbsp;&nbsp;</span>Regex parsing for date extraction</a></span></li><li><span><a href=\"#Applying-transformation-to-the-dataset\" data-toc-modified-id=\"Applying-transformation-to-the-dataset-5.2.2\"><span class=\"toc-item-num\">5.2.2&nbsp;&nbsp;</span>Applying transformation to the dataset</a></span></li><li><span><a href=\"#Creating-date-features\" data-toc-modified-id=\"Creating-date-features-5.2.3\"><span class=\"toc-item-num\">5.2.3&nbsp;&nbsp;</span>Creating date features</a></span></li></ul></li><li><span><a href=\"#Categorical-encoding\" data-toc-modified-id=\"Categorical-encoding-5.3\"><span class=\"toc-item-num\">5.3&nbsp;&nbsp;</span>Categorical encoding</a></span><ul class=\"toc-item\"><li><span><a href=\"#org--&gt;-Target-Encoding\" data-toc-modified-id=\"org-->-Target-Encoding-5.3.1\"><span class=\"toc-item-num\">5.3.1&nbsp;&nbsp;</span>org -&gt; Target Encoding</a></span></li><li><span><a href=\"#tld--&gt;-Target-Encoding\" data-toc-modified-id=\"tld-->-Target-Encoding-5.3.2\"><span class=\"toc-item-num\">5.3.2&nbsp;&nbsp;</span>tld -&gt; Target Encoding</a></span></li><li><span><a href=\"#mail_type--&gt;-One-Hot-Encoding\" data-toc-modified-id=\"mail_type-->-One-Hot-Encoding-5.3.3\"><span class=\"toc-item-num\">5.3.3&nbsp;&nbsp;</span>mail_type -&gt; One-Hot Encoding</a></span></li></ul></li><li><span><a href=\"#Dropping-classes\" data-toc-modified-id=\"Dropping-classes-5.4\"><span class=\"toc-item-num\">5.4&nbsp;&nbsp;</span>Dropping classes</a></span></li></ul></li><li><span><a href=\"#Final-dataset-overview\" data-toc-modified-id=\"Final-dataset-overview-6\"><span class=\"toc-item-num\">6&nbsp;&nbsp;</span>Final dataset overview</a></span></li><li><span><a href=\"#Model\" data-toc-modified-id=\"Model-7\"><span class=\"toc-item-num\">7&nbsp;&nbsp;</span>Model</a></span><ul class=\"toc-item\"><li><span><a href=\"#For-one-class-first\" data-toc-modified-id=\"For-one-class-first-7.1\"><span class=\"toc-item-num\">7.1&nbsp;&nbsp;</span>For one class first</a></span><ul class=\"toc-item\"><li><span><a href=\"#Splitting-train-/-test\" data-toc-modified-id=\"Splitting-train-/-test-7.1.1\"><span class=\"toc-item-num\">7.1.1&nbsp;&nbsp;</span>Splitting train / test</a></span></li><li><span><a href=\"#Prediction\" data-toc-modified-id=\"Prediction-7.1.2\"><span class=\"toc-item-num\">7.1.2&nbsp;&nbsp;</span>Prediction</a></span></li></ul></li></ul></li></ul></div>"
   ]
  },
  {
   "cell_type": "markdown",
   "metadata": {},
   "source": [
    "# Import modules"
   ]
  },
  {
   "cell_type": "code",
   "execution_count": 65,
   "metadata": {},
   "outputs": [],
   "source": [
    "import os\n",
    "\n",
    "import numpy as np\n",
    "\n",
    "import pandas as pd\n",
    "from pandas_profiling import ProfileReport\n",
    "\n",
    "import matplotlib.pyplot as plt\n",
    "import seaborn as sns\n",
    "\n",
    "import re\n",
    "\n",
    "from sklearn.model_selection import train_test_split\n",
    "from sklearn.metrics import classification_report\n",
    "\n",
    "import xgboost as xgb"
   ]
  },
  {
   "cell_type": "markdown",
   "metadata": {},
   "source": [
    "# Import data"
   ]
  },
  {
   "cell_type": "code",
   "execution_count": 2,
   "metadata": {},
   "outputs": [
    {
     "data": {
      "text/plain": [
       "['skeleton_code_ml.py',\n",
       " 'LICENSE',\n",
       " 'profile_report.html',\n",
       " 'sample_submission_ml.csv',\n",
       " '2EL1730-ML-Kaggle_Challenge_Description.pdf',\n",
       " 'test_ml.csv',\n",
       " 'README.md',\n",
       " 'train_ml.csv',\n",
       " '.gitignore',\n",
       " '.ipynb_checkpoints',\n",
       " '2EL1730-ML-Kaggle_Challenge_Instructions.pdf',\n",
       " '.git',\n",
       " 'kaggle_challenge.ipynb']"
      ]
     },
     "execution_count": 2,
     "metadata": {},
     "output_type": "execute_result"
    }
   ],
   "source": [
    "os.listdir()"
   ]
  },
  {
   "cell_type": "code",
   "execution_count": 3,
   "metadata": {
    "scrolled": true
   },
   "outputs": [
    {
     "data": {
      "text/html": [
       "<div>\n",
       "<style scoped>\n",
       "    .dataframe tbody tr th:only-of-type {\n",
       "        vertical-align: middle;\n",
       "    }\n",
       "\n",
       "    .dataframe tbody tr th {\n",
       "        vertical-align: top;\n",
       "    }\n",
       "\n",
       "    .dataframe thead th {\n",
       "        text-align: right;\n",
       "    }\n",
       "</style>\n",
       "<table border=\"1\" class=\"dataframe\">\n",
       "  <thead>\n",
       "    <tr style=\"text-align: right;\">\n",
       "      <th></th>\n",
       "      <th>date</th>\n",
       "      <th>org</th>\n",
       "      <th>tld</th>\n",
       "      <th>ccs</th>\n",
       "      <th>bcced</th>\n",
       "      <th>mail_type</th>\n",
       "      <th>images</th>\n",
       "      <th>urls</th>\n",
       "      <th>salutations</th>\n",
       "      <th>designation</th>\n",
       "      <th>chars_in_subject</th>\n",
       "      <th>chars_in_body</th>\n",
       "      <th>updates</th>\n",
       "      <th>personal</th>\n",
       "      <th>promotions</th>\n",
       "      <th>forums</th>\n",
       "      <th>purchases</th>\n",
       "      <th>travel</th>\n",
       "      <th>spam</th>\n",
       "      <th>social</th>\n",
       "    </tr>\n",
       "  </thead>\n",
       "  <tbody>\n",
       "    <tr>\n",
       "      <th>0</th>\n",
       "      <td>Mon, 15 Oct 2018 08:03:09 +0000 (UTC)</td>\n",
       "      <td>researchgatemail</td>\n",
       "      <td>net</td>\n",
       "      <td>0</td>\n",
       "      <td>0</td>\n",
       "      <td>multipart/alternative</td>\n",
       "      <td>4</td>\n",
       "      <td>28</td>\n",
       "      <td>0</td>\n",
       "      <td>1</td>\n",
       "      <td>47.0</td>\n",
       "      <td>25556</td>\n",
       "      <td>0</td>\n",
       "      <td>1</td>\n",
       "      <td>0</td>\n",
       "      <td>0</td>\n",
       "      <td>0</td>\n",
       "      <td>0</td>\n",
       "      <td>0</td>\n",
       "      <td>1</td>\n",
       "    </tr>\n",
       "    <tr>\n",
       "      <th>1</th>\n",
       "      <td>Thu, 17 Apr 2014 09:12:33 -0700 (PDT)</td>\n",
       "      <td>no-ip</td>\n",
       "      <td>com</td>\n",
       "      <td>0</td>\n",
       "      <td>0</td>\n",
       "      <td>multipart/alternative</td>\n",
       "      <td>6</td>\n",
       "      <td>32</td>\n",
       "      <td>0</td>\n",
       "      <td>0</td>\n",
       "      <td>46.0</td>\n",
       "      <td>19930</td>\n",
       "      <td>1</td>\n",
       "      <td>1</td>\n",
       "      <td>0</td>\n",
       "      <td>0</td>\n",
       "      <td>0</td>\n",
       "      <td>0</td>\n",
       "      <td>0</td>\n",
       "      <td>0</td>\n",
       "    </tr>\n",
       "    <tr>\n",
       "      <th>2</th>\n",
       "      <td>Thu, 27 Oct 2016 01:36:28 +0000</td>\n",
       "      <td>mail</td>\n",
       "      <td>goodreads.com</td>\n",
       "      <td>0</td>\n",
       "      <td>0</td>\n",
       "      <td>multipart/mixed</td>\n",
       "      <td>0</td>\n",
       "      <td>0</td>\n",
       "      <td>0</td>\n",
       "      <td>0</td>\n",
       "      <td>21.0</td>\n",
       "      <td>4</td>\n",
       "      <td>0</td>\n",
       "      <td>1</td>\n",
       "      <td>0</td>\n",
       "      <td>0</td>\n",
       "      <td>0</td>\n",
       "      <td>0</td>\n",
       "      <td>0</td>\n",
       "      <td>1</td>\n",
       "    </tr>\n",
       "    <tr>\n",
       "      <th>3</th>\n",
       "      <td>Fri, 16 Oct 2020 08:06:31 +0000 (GMT)</td>\n",
       "      <td>insideapple</td>\n",
       "      <td>apple.com</td>\n",
       "      <td>0</td>\n",
       "      <td>0</td>\n",
       "      <td>multipart/alternative</td>\n",
       "      <td>108</td>\n",
       "      <td>171</td>\n",
       "      <td>0</td>\n",
       "      <td>0</td>\n",
       "      <td>52.0</td>\n",
       "      <td>96568</td>\n",
       "      <td>0</td>\n",
       "      <td>0</td>\n",
       "      <td>1</td>\n",
       "      <td>0</td>\n",
       "      <td>0</td>\n",
       "      <td>0</td>\n",
       "      <td>0</td>\n",
       "      <td>0</td>\n",
       "    </tr>\n",
       "    <tr>\n",
       "      <th>4</th>\n",
       "      <td>Thu, 02 Jul 2015 10:16:46 +0000</td>\n",
       "      <td>twitter</td>\n",
       "      <td>com</td>\n",
       "      <td>0</td>\n",
       "      <td>0</td>\n",
       "      <td>multipart/alternative</td>\n",
       "      <td>20</td>\n",
       "      <td>166</td>\n",
       "      <td>0</td>\n",
       "      <td>0</td>\n",
       "      <td>81.0</td>\n",
       "      <td>95131</td>\n",
       "      <td>0</td>\n",
       "      <td>1</td>\n",
       "      <td>0</td>\n",
       "      <td>0</td>\n",
       "      <td>0</td>\n",
       "      <td>0</td>\n",
       "      <td>0</td>\n",
       "      <td>1</td>\n",
       "    </tr>\n",
       "  </tbody>\n",
       "</table>\n",
       "</div>"
      ],
      "text/plain": [
       "                                    date               org            tld  \\\n",
       "0  Mon, 15 Oct 2018 08:03:09 +0000 (UTC)  researchgatemail            net   \n",
       "1  Thu, 17 Apr 2014 09:12:33 -0700 (PDT)             no-ip            com   \n",
       "2        Thu, 27 Oct 2016 01:36:28 +0000              mail  goodreads.com   \n",
       "3  Fri, 16 Oct 2020 08:06:31 +0000 (GMT)       insideapple      apple.com   \n",
       "4        Thu, 02 Jul 2015 10:16:46 +0000           twitter            com   \n",
       "\n",
       "   ccs  bcced              mail_type  images  urls  salutations  designation  \\\n",
       "0    0      0  multipart/alternative       4    28            0            1   \n",
       "1    0      0  multipart/alternative       6    32            0            0   \n",
       "2    0      0        multipart/mixed       0     0            0            0   \n",
       "3    0      0  multipart/alternative     108   171            0            0   \n",
       "4    0      0  multipart/alternative      20   166            0            0   \n",
       "\n",
       "   chars_in_subject  chars_in_body  updates  personal  promotions  forums  \\\n",
       "0              47.0          25556        0         1           0       0   \n",
       "1              46.0          19930        1         1           0       0   \n",
       "2              21.0              4        0         1           0       0   \n",
       "3              52.0          96568        0         0           1       0   \n",
       "4              81.0          95131        0         1           0       0   \n",
       "\n",
       "   purchases  travel  spam  social  \n",
       "0          0       0     0       1  \n",
       "1          0       0     0       0  \n",
       "2          0       0     0       1  \n",
       "3          0       0     0       0  \n",
       "4          0       0     0       1  "
      ]
     },
     "execution_count": 3,
     "metadata": {},
     "output_type": "execute_result"
    }
   ],
   "source": [
    "df = pd.read_csv('train_ml.csv').drop(columns=['Unnamed: 0'])\n",
    "df_test = pd.read_csv('test_ml.csv').drop(columns=['Unnamed: 0'])\n",
    "\n",
    "df.head()"
   ]
  },
  {
   "cell_type": "code",
   "execution_count": 4,
   "metadata": {},
   "outputs": [
    {
     "name": "stdout",
     "output_type": "stream",
     "text": [
      "<class 'pandas.core.frame.DataFrame'>\n",
      "RangeIndex: 39671 entries, 0 to 39670\n",
      "Data columns (total 20 columns):\n",
      " #   Column            Non-Null Count  Dtype  \n",
      "---  ------            --------------  -----  \n",
      " 0   date              39671 non-null  object \n",
      " 1   org               37994 non-null  object \n",
      " 2   tld               37992 non-null  object \n",
      " 3   ccs               39671 non-null  int64  \n",
      " 4   bcced             39671 non-null  int64  \n",
      " 5   mail_type         39573 non-null  object \n",
      " 6   images            39671 non-null  int64  \n",
      " 7   urls              39671 non-null  int64  \n",
      " 8   salutations       39671 non-null  int64  \n",
      " 9   designation       39671 non-null  int64  \n",
      " 10  chars_in_subject  39660 non-null  float64\n",
      " 11  chars_in_body     39671 non-null  int64  \n",
      " 12  updates           39671 non-null  int64  \n",
      " 13  personal          39671 non-null  int64  \n",
      " 14  promotions        39671 non-null  int64  \n",
      " 15  forums            39671 non-null  int64  \n",
      " 16  purchases         39671 non-null  int64  \n",
      " 17  travel            39671 non-null  int64  \n",
      " 18  spam              39671 non-null  int64  \n",
      " 19  social            39671 non-null  int64  \n",
      "dtypes: float64(1), int64(15), object(4)\n",
      "memory usage: 6.1+ MB\n"
     ]
    }
   ],
   "source": [
    "df.info()"
   ]
  },
  {
   "cell_type": "markdown",
   "metadata": {},
   "source": [
    "# Information about the dataset"
   ]
  },
  {
   "cell_type": "markdown",
   "metadata": {},
   "source": [
    "## Dataset Features\n",
    "\n",
    "- date - unix style date format, date-time on which the email was received, e.g. Sat, 2 Jul 2016 11:02:58 +0530\n",
    "- org - organisation of the sender, e.g. centralesupelec, facebook, and google.\n",
    "- tld - top level domain of the organisation, eg. com, ac.in, fr, and org.\n",
    "- ccs - number of emails cced with this email, e.g. 0, 2, and 10.\n",
    "- bcced - is the receiver bcc'd in the email. Can take two values: 0 or 1.\n",
    "- mail_type - type of the mail body, e.g. text/plain and text/html.\n",
    "- images - number of images in the mail body, e.g. 0, 1, and 100.\n",
    "- urls - number of urls in the mail body, e.g. 0, 1, and 50.\n",
    "- salutations - is salutation used in the email? Either 0 or 1.\n",
    "- designation - is designation of the sender mentioned in the email. Either 0 or 1.\n",
    "- chars_in_subject - number of characters in the mail subject, e.g. 0, 1, and 10.\n",
    "- chars_in_body - number of characters in the mail body, e.g. 10 and 10000.\n",
    "- labels - last eight columns represent eight classes, 0 means that label is not present for this row and 1 means that label is present, multiple label columsn can be 1. Label columns are only present in train.csv. test.csv has features only."
   ]
  },
  {
   "cell_type": "markdown",
   "metadata": {},
   "source": [
    "## Class Labels (8 Classes)\n",
    "- updates\n",
    "- personal\n",
    "- promotions\n",
    "- forums\n",
    "- purchases\n",
    "- travel\n",
    "- spam\n",
    "- social"
   ]
  },
  {
   "cell_type": "code",
   "execution_count": 5,
   "metadata": {
    "scrolled": true
   },
   "outputs": [
    {
     "data": {
      "text/plain": [
       "date                   0\n",
       "org                 1677\n",
       "tld                 1679\n",
       "ccs                    0\n",
       "bcced                  0\n",
       "mail_type             98\n",
       "images                 0\n",
       "urls                   0\n",
       "salutations            0\n",
       "designation            0\n",
       "chars_in_subject      11\n",
       "chars_in_body          0\n",
       "updates                0\n",
       "personal               0\n",
       "promotions             0\n",
       "forums                 0\n",
       "purchases              0\n",
       "travel                 0\n",
       "spam                   0\n",
       "social                 0\n",
       "dtype: int64"
      ]
     },
     "execution_count": 5,
     "metadata": {},
     "output_type": "execute_result"
    }
   ],
   "source": [
    "df.isnull().sum()"
   ]
  },
  {
   "cell_type": "markdown",
   "metadata": {},
   "source": [
    "## Profile Report"
   ]
  },
  {
   "cell_type": "code",
   "execution_count": 6,
   "metadata": {
    "scrolled": false
   },
   "outputs": [],
   "source": [
    "if False: # set to True to generate a new report\n",
    "    profile = ProfileReport(df, title='Profiling Report')\n",
    "    profile.to_file(\"profile_report.html\")"
   ]
  },
  {
   "cell_type": "markdown",
   "metadata": {},
   "source": [
    "# Data Analysis"
   ]
  },
  {
   "cell_type": "code",
   "execution_count": 7,
   "metadata": {},
   "outputs": [
    {
     "data": {
      "text/plain": [
       "Index(['date', 'org', 'tld', 'ccs', 'bcced', 'mail_type', 'images', 'urls',\n",
       "       'salutations', 'designation', 'chars_in_subject', 'chars_in_body',\n",
       "       'updates', 'personal', 'promotions', 'forums', 'purchases', 'travel',\n",
       "       'spam', 'social'],\n",
       "      dtype='object')"
      ]
     },
     "execution_count": 7,
     "metadata": {},
     "output_type": "execute_result"
    }
   ],
   "source": [
    "df.columns"
   ]
  },
  {
   "cell_type": "code",
   "execution_count": 8,
   "metadata": {},
   "outputs": [],
   "source": [
    "list_classes = ['updates', 'personal', 'promotions', 'forums', 'purchases', 'travel',\n",
    "       'spam', 'social']"
   ]
  },
  {
   "cell_type": "code",
   "execution_count": 9,
   "metadata": {},
   "outputs": [
    {
     "data": {
      "text/plain": [
       "personal      21767\n",
       "updates       14377\n",
       "promotions     1747\n",
       "forums         1361\n",
       "social          419\n",
       "dtype: int64"
      ]
     },
     "execution_count": 9,
     "metadata": {},
     "output_type": "execute_result"
    }
   ],
   "source": [
    "df[list_classes].idxmax(axis=1).value_counts()"
   ]
  },
  {
   "cell_type": "code",
   "execution_count": 10,
   "metadata": {},
   "outputs": [
    {
     "data": {
      "image/png": "[encoded data removed]",
      "text/plain": [
       "<Figure size 432x288 with 1 Axes>"
      ]
     },
     "metadata": {
      "needs_background": "light"
     },
     "output_type": "display_data"
    }
   ],
   "source": [
    "df[list_classes].idxmax(axis=1).value_counts().plot.bar();"
   ]
  },
  {
   "cell_type": "code",
   "execution_count": 11,
   "metadata": {
    "scrolled": true
   },
   "outputs": [
    {
     "data": {
      "text/html": [
       "<div>\n",
       "<style scoped>\n",
       "    .dataframe tbody tr th:only-of-type {\n",
       "        vertical-align: middle;\n",
       "    }\n",
       "\n",
       "    .dataframe tbody tr th {\n",
       "        vertical-align: top;\n",
       "    }\n",
       "\n",
       "    .dataframe thead th {\n",
       "        text-align: right;\n",
       "    }\n",
       "</style>\n",
       "<table border=\"1\" class=\"dataframe\">\n",
       "  <thead>\n",
       "    <tr style=\"text-align: right;\">\n",
       "      <th></th>\n",
       "      <th>ccs</th>\n",
       "      <th>images</th>\n",
       "      <th>urls</th>\n",
       "      <th>chars_in_subject</th>\n",
       "      <th>chars_in_body</th>\n",
       "    </tr>\n",
       "  </thead>\n",
       "  <tbody>\n",
       "    <tr>\n",
       "      <th>0</th>\n",
       "      <td>0</td>\n",
       "      <td>4</td>\n",
       "      <td>28</td>\n",
       "      <td>47.0</td>\n",
       "      <td>25556</td>\n",
       "    </tr>\n",
       "    <tr>\n",
       "      <th>1</th>\n",
       "      <td>0</td>\n",
       "      <td>6</td>\n",
       "      <td>32</td>\n",
       "      <td>46.0</td>\n",
       "      <td>19930</td>\n",
       "    </tr>\n",
       "    <tr>\n",
       "      <th>2</th>\n",
       "      <td>0</td>\n",
       "      <td>0</td>\n",
       "      <td>0</td>\n",
       "      <td>21.0</td>\n",
       "      <td>4</td>\n",
       "    </tr>\n",
       "    <tr>\n",
       "      <th>3</th>\n",
       "      <td>0</td>\n",
       "      <td>108</td>\n",
       "      <td>171</td>\n",
       "      <td>52.0</td>\n",
       "      <td>96568</td>\n",
       "    </tr>\n",
       "    <tr>\n",
       "      <th>4</th>\n",
       "      <td>0</td>\n",
       "      <td>20</td>\n",
       "      <td>166</td>\n",
       "      <td>81.0</td>\n",
       "      <td>95131</td>\n",
       "    </tr>\n",
       "    <tr>\n",
       "      <th>...</th>\n",
       "      <td>...</td>\n",
       "      <td>...</td>\n",
       "      <td>...</td>\n",
       "      <td>...</td>\n",
       "      <td>...</td>\n",
       "    </tr>\n",
       "    <tr>\n",
       "      <th>39666</th>\n",
       "      <td>0</td>\n",
       "      <td>11</td>\n",
       "      <td>31</td>\n",
       "      <td>32.0</td>\n",
       "      <td>44952</td>\n",
       "    </tr>\n",
       "    <tr>\n",
       "      <th>39667</th>\n",
       "      <td>0</td>\n",
       "      <td>0</td>\n",
       "      <td>0</td>\n",
       "      <td>57.0</td>\n",
       "      <td>721</td>\n",
       "    </tr>\n",
       "    <tr>\n",
       "      <th>39668</th>\n",
       "      <td>0</td>\n",
       "      <td>0</td>\n",
       "      <td>0</td>\n",
       "      <td>28.0</td>\n",
       "      <td>571</td>\n",
       "    </tr>\n",
       "    <tr>\n",
       "      <th>39669</th>\n",
       "      <td>0</td>\n",
       "      <td>27</td>\n",
       "      <td>136</td>\n",
       "      <td>24.0</td>\n",
       "      <td>92847</td>\n",
       "    </tr>\n",
       "    <tr>\n",
       "      <th>39670</th>\n",
       "      <td>0</td>\n",
       "      <td>0</td>\n",
       "      <td>2</td>\n",
       "      <td>77.0</td>\n",
       "      <td>694</td>\n",
       "    </tr>\n",
       "  </tbody>\n",
       "</table>\n",
       "<p>39671 rows × 5 columns</p>\n",
       "</div>"
      ],
      "text/plain": [
       "       ccs  images  urls  chars_in_subject  chars_in_body\n",
       "0        0       4    28              47.0          25556\n",
       "1        0       6    32              46.0          19930\n",
       "2        0       0     0              21.0              4\n",
       "3        0     108   171              52.0          96568\n",
       "4        0      20   166              81.0          95131\n",
       "...    ...     ...   ...               ...            ...\n",
       "39666    0      11    31              32.0          44952\n",
       "39667    0       0     0              57.0            721\n",
       "39668    0       0     0              28.0            571\n",
       "39669    0      27   136              24.0          92847\n",
       "39670    0       0     2              77.0            694\n",
       "\n",
       "[39671 rows x 5 columns]"
      ]
     },
     "execution_count": 11,
     "metadata": {},
     "output_type": "execute_result"
    }
   ],
   "source": [
    "numerical_features = [\"ccs\", \"images\", \"urls\", \"chars_in_subject\", \"chars_in_body\"]\n",
    "df[numerical_features]"
   ]
  },
  {
   "cell_type": "code",
   "execution_count": 12,
   "metadata": {},
   "outputs": [
    {
     "data": {
      "text/html": [
       "<div>\n",
       "<style scoped>\n",
       "    .dataframe tbody tr th:only-of-type {\n",
       "        vertical-align: middle;\n",
       "    }\n",
       "\n",
       "    .dataframe tbody tr th {\n",
       "        vertical-align: top;\n",
       "    }\n",
       "\n",
       "    .dataframe thead th {\n",
       "        text-align: right;\n",
       "    }\n",
       "</style>\n",
       "<table border=\"1\" class=\"dataframe\">\n",
       "  <thead>\n",
       "    <tr style=\"text-align: right;\">\n",
       "      <th></th>\n",
       "      <th>ccs</th>\n",
       "      <th>images</th>\n",
       "      <th>urls</th>\n",
       "      <th>chars_in_subject</th>\n",
       "      <th>chars_in_body</th>\n",
       "    </tr>\n",
       "  </thead>\n",
       "  <tbody>\n",
       "    <tr>\n",
       "      <th>count</th>\n",
       "      <td>39671.000000</td>\n",
       "      <td>39671.000000</td>\n",
       "      <td>39671.000000</td>\n",
       "      <td>39660.000000</td>\n",
       "      <td>3.967100e+04</td>\n",
       "    </tr>\n",
       "    <tr>\n",
       "      <th>mean</th>\n",
       "      <td>0.378967</td>\n",
       "      <td>9.806332</td>\n",
       "      <td>36.731088</td>\n",
       "      <td>51.442032</td>\n",
       "      <td>2.321781e+05</td>\n",
       "    </tr>\n",
       "    <tr>\n",
       "      <th>std</th>\n",
       "      <td>2.530353</td>\n",
       "      <td>440.393286</td>\n",
       "      <td>144.379127</td>\n",
       "      <td>34.142227</td>\n",
       "      <td>2.251044e+06</td>\n",
       "    </tr>\n",
       "    <tr>\n",
       "      <th>min</th>\n",
       "      <td>0.000000</td>\n",
       "      <td>0.000000</td>\n",
       "      <td>0.000000</td>\n",
       "      <td>0.000000</td>\n",
       "      <td>4.000000e+00</td>\n",
       "    </tr>\n",
       "    <tr>\n",
       "      <th>25%</th>\n",
       "      <td>0.000000</td>\n",
       "      <td>0.000000</td>\n",
       "      <td>4.500000</td>\n",
       "      <td>31.000000</td>\n",
       "      <td>4.903000e+03</td>\n",
       "    </tr>\n",
       "    <tr>\n",
       "      <th>50%</th>\n",
       "      <td>0.000000</td>\n",
       "      <td>2.000000</td>\n",
       "      <td>18.000000</td>\n",
       "      <td>43.000000</td>\n",
       "      <td>2.000500e+04</td>\n",
       "    </tr>\n",
       "    <tr>\n",
       "      <th>75%</th>\n",
       "      <td>0.000000</td>\n",
       "      <td>9.000000</td>\n",
       "      <td>47.000000</td>\n",
       "      <td>63.000000</td>\n",
       "      <td>4.800100e+04</td>\n",
       "    </tr>\n",
       "    <tr>\n",
       "      <th>max</th>\n",
       "      <td>155.000000</td>\n",
       "      <td>83480.000000</td>\n",
       "      <td>21540.000000</td>\n",
       "      <td>528.000000</td>\n",
       "      <td>7.438108e+07</td>\n",
       "    </tr>\n",
       "  </tbody>\n",
       "</table>\n",
       "</div>"
      ],
      "text/plain": [
       "                ccs        images          urls  chars_in_subject  \\\n",
       "count  39671.000000  39671.000000  39671.000000      39660.000000   \n",
       "mean       0.378967      9.806332     36.731088         51.442032   \n",
       "std        2.530353    440.393286    144.379127         34.142227   \n",
       "min        0.000000      0.000000      0.000000          0.000000   \n",
       "25%        0.000000      0.000000      4.500000         31.000000   \n",
       "50%        0.000000      2.000000     18.000000         43.000000   \n",
       "75%        0.000000      9.000000     47.000000         63.000000   \n",
       "max      155.000000  83480.000000  21540.000000        528.000000   \n",
       "\n",
       "       chars_in_body  \n",
       "count   3.967100e+04  \n",
       "mean    2.321781e+05  \n",
       "std     2.251044e+06  \n",
       "min     4.000000e+00  \n",
       "25%     4.903000e+03  \n",
       "50%     2.000500e+04  \n",
       "75%     4.800100e+04  \n",
       "max     7.438108e+07  "
      ]
     },
     "execution_count": 12,
     "metadata": {},
     "output_type": "execute_result"
    }
   ],
   "source": [
    "df[numerical_features].describe()"
   ]
  },
  {
   "cell_type": "code",
   "execution_count": 13,
   "metadata": {},
   "outputs": [
    {
     "data": {
      "image/png": "[encoded data removed]",
      "text/plain": [
       "<Figure size 1080x864 with 6 Axes>"
      ]
     },
     "metadata": {
      "needs_background": "light"
     },
     "output_type": "display_data"
    }
   ],
   "source": [
    "fig, axs = plt.subplots(3, 2, figsize=(15, 12), sharey=False)\n",
    "\n",
    "for idx, (col, ax) in enumerate(zip(numerical_features, axs.ravel())):\n",
    "    df[numerical_features].boxplot(col, ax=ax)"
   ]
  },
  {
   "cell_type": "code",
   "execution_count": 14,
   "metadata": {},
   "outputs": [
    {
     "data": {
      "text/html": [
       "<div>\n",
       "<style scoped>\n",
       "    .dataframe tbody tr th:only-of-type {\n",
       "        vertical-align: middle;\n",
       "    }\n",
       "\n",
       "    .dataframe tbody tr th {\n",
       "        vertical-align: top;\n",
       "    }\n",
       "\n",
       "    .dataframe thead th {\n",
       "        text-align: right;\n",
       "    }\n",
       "</style>\n",
       "<table border=\"1\" class=\"dataframe\">\n",
       "  <thead>\n",
       "    <tr style=\"text-align: right;\">\n",
       "      <th></th>\n",
       "      <th>date</th>\n",
       "      <th>org</th>\n",
       "      <th>tld</th>\n",
       "      <th>ccs</th>\n",
       "      <th>bcced</th>\n",
       "      <th>mail_type</th>\n",
       "      <th>images</th>\n",
       "      <th>urls</th>\n",
       "      <th>salutations</th>\n",
       "      <th>designation</th>\n",
       "      <th>...</th>\n",
       "      <th>chars_in_body</th>\n",
       "      <th>updates</th>\n",
       "      <th>personal</th>\n",
       "      <th>promotions</th>\n",
       "      <th>forums</th>\n",
       "      <th>purchases</th>\n",
       "      <th>travel</th>\n",
       "      <th>spam</th>\n",
       "      <th>social</th>\n",
       "      <th>class</th>\n",
       "    </tr>\n",
       "  </thead>\n",
       "  <tbody>\n",
       "    <tr>\n",
       "      <th>0</th>\n",
       "      <td>Mon, 15 Oct 2018 08:03:09 +0000 (UTC)</td>\n",
       "      <td>researchgatemail</td>\n",
       "      <td>net</td>\n",
       "      <td>0</td>\n",
       "      <td>0</td>\n",
       "      <td>multipart/alternative</td>\n",
       "      <td>4</td>\n",
       "      <td>28</td>\n",
       "      <td>0</td>\n",
       "      <td>1</td>\n",
       "      <td>...</td>\n",
       "      <td>25556</td>\n",
       "      <td>0</td>\n",
       "      <td>1</td>\n",
       "      <td>0</td>\n",
       "      <td>0</td>\n",
       "      <td>0</td>\n",
       "      <td>0</td>\n",
       "      <td>0</td>\n",
       "      <td>1</td>\n",
       "      <td>personal</td>\n",
       "    </tr>\n",
       "    <tr>\n",
       "      <th>1</th>\n",
       "      <td>Thu, 17 Apr 2014 09:12:33 -0700 (PDT)</td>\n",
       "      <td>no-ip</td>\n",
       "      <td>com</td>\n",
       "      <td>0</td>\n",
       "      <td>0</td>\n",
       "      <td>multipart/alternative</td>\n",
       "      <td>6</td>\n",
       "      <td>32</td>\n",
       "      <td>0</td>\n",
       "      <td>0</td>\n",
       "      <td>...</td>\n",
       "      <td>19930</td>\n",
       "      <td>1</td>\n",
       "      <td>1</td>\n",
       "      <td>0</td>\n",
       "      <td>0</td>\n",
       "      <td>0</td>\n",
       "      <td>0</td>\n",
       "      <td>0</td>\n",
       "      <td>0</td>\n",
       "      <td>updates</td>\n",
       "    </tr>\n",
       "    <tr>\n",
       "      <th>2</th>\n",
       "      <td>Thu, 27 Oct 2016 01:36:28 +0000</td>\n",
       "      <td>mail</td>\n",
       "      <td>goodreads.com</td>\n",
       "      <td>0</td>\n",
       "      <td>0</td>\n",
       "      <td>multipart/mixed</td>\n",
       "      <td>0</td>\n",
       "      <td>0</td>\n",
       "      <td>0</td>\n",
       "      <td>0</td>\n",
       "      <td>...</td>\n",
       "      <td>4</td>\n",
       "      <td>0</td>\n",
       "      <td>1</td>\n",
       "      <td>0</td>\n",
       "      <td>0</td>\n",
       "      <td>0</td>\n",
       "      <td>0</td>\n",
       "      <td>0</td>\n",
       "      <td>1</td>\n",
       "      <td>personal</td>\n",
       "    </tr>\n",
       "    <tr>\n",
       "      <th>3</th>\n",
       "      <td>Fri, 16 Oct 2020 08:06:31 +0000 (GMT)</td>\n",
       "      <td>insideapple</td>\n",
       "      <td>apple.com</td>\n",
       "      <td>0</td>\n",
       "      <td>0</td>\n",
       "      <td>multipart/alternative</td>\n",
       "      <td>108</td>\n",
       "      <td>171</td>\n",
       "      <td>0</td>\n",
       "      <td>0</td>\n",
       "      <td>...</td>\n",
       "      <td>96568</td>\n",
       "      <td>0</td>\n",
       "      <td>0</td>\n",
       "      <td>1</td>\n",
       "      <td>0</td>\n",
       "      <td>0</td>\n",
       "      <td>0</td>\n",
       "      <td>0</td>\n",
       "      <td>0</td>\n",
       "      <td>promotions</td>\n",
       "    </tr>\n",
       "    <tr>\n",
       "      <th>4</th>\n",
       "      <td>Thu, 02 Jul 2015 10:16:46 +0000</td>\n",
       "      <td>twitter</td>\n",
       "      <td>com</td>\n",
       "      <td>0</td>\n",
       "      <td>0</td>\n",
       "      <td>multipart/alternative</td>\n",
       "      <td>20</td>\n",
       "      <td>166</td>\n",
       "      <td>0</td>\n",
       "      <td>0</td>\n",
       "      <td>...</td>\n",
       "      <td>95131</td>\n",
       "      <td>0</td>\n",
       "      <td>1</td>\n",
       "      <td>0</td>\n",
       "      <td>0</td>\n",
       "      <td>0</td>\n",
       "      <td>0</td>\n",
       "      <td>0</td>\n",
       "      <td>1</td>\n",
       "      <td>personal</td>\n",
       "    </tr>\n",
       "  </tbody>\n",
       "</table>\n",
       "<p>5 rows × 21 columns</p>\n",
       "</div>"
      ],
      "text/plain": [
       "                                    date               org            tld  \\\n",
       "0  Mon, 15 Oct 2018 08:03:09 +0000 (UTC)  researchgatemail            net   \n",
       "1  Thu, 17 Apr 2014 09:12:33 -0700 (PDT)             no-ip            com   \n",
       "2        Thu, 27 Oct 2016 01:36:28 +0000              mail  goodreads.com   \n",
       "3  Fri, 16 Oct 2020 08:06:31 +0000 (GMT)       insideapple      apple.com   \n",
       "4        Thu, 02 Jul 2015 10:16:46 +0000           twitter            com   \n",
       "\n",
       "   ccs  bcced              mail_type  images  urls  salutations  designation  \\\n",
       "0    0      0  multipart/alternative       4    28            0            1   \n",
       "1    0      0  multipart/alternative       6    32            0            0   \n",
       "2    0      0        multipart/mixed       0     0            0            0   \n",
       "3    0      0  multipart/alternative     108   171            0            0   \n",
       "4    0      0  multipart/alternative      20   166            0            0   \n",
       "\n",
       "   ...  chars_in_body  updates  personal  promotions  forums  purchases  \\\n",
       "0  ...          25556        0         1           0       0          0   \n",
       "1  ...          19930        1         1           0       0          0   \n",
       "2  ...              4        0         1           0       0          0   \n",
       "3  ...          96568        0         0           1       0          0   \n",
       "4  ...          95131        0         1           0       0          0   \n",
       "\n",
       "   travel  spam  social       class  \n",
       "0       0     0       1    personal  \n",
       "1       0     0       0     updates  \n",
       "2       0     0       1    personal  \n",
       "3       0     0       0  promotions  \n",
       "4       0     0       1    personal  \n",
       "\n",
       "[5 rows x 21 columns]"
      ]
     },
     "execution_count": 14,
     "metadata": {},
     "output_type": "execute_result"
    }
   ],
   "source": [
    "df['class'] = df[list_classes].idxmax(axis=1)\n",
    "df.head()"
   ]
  },
  {
   "cell_type": "code",
   "execution_count": 15,
   "metadata": {},
   "outputs": [],
   "source": [
    "if False: # set to True to generate figure\n",
    "    sns.pairplot(df[numerical_features + ['class']], hue='class');"
   ]
  },
  {
   "cell_type": "markdown",
   "metadata": {},
   "source": [
    "# Preprocessing"
   ]
  },
  {
   "cell_type": "markdown",
   "metadata": {},
   "source": [
    "## NA Cleaning"
   ]
  },
  {
   "cell_type": "code",
   "execution_count": 16,
   "metadata": {},
   "outputs": [
    {
     "data": {
      "text/plain": [
       "39671"
      ]
     },
     "execution_count": 16,
     "metadata": {},
     "output_type": "execute_result"
    }
   ],
   "source": [
    "len(df)"
   ]
  },
  {
   "cell_type": "code",
   "execution_count": 17,
   "metadata": {},
   "outputs": [
    {
     "data": {
      "text/plain": [
       "date                   0\n",
       "org                 1677\n",
       "tld                 1679\n",
       "ccs                    0\n",
       "bcced                  0\n",
       "mail_type             98\n",
       "images                 0\n",
       "urls                   0\n",
       "salutations            0\n",
       "designation            0\n",
       "chars_in_subject      11\n",
       "chars_in_body          0\n",
       "updates                0\n",
       "personal               0\n",
       "promotions             0\n",
       "forums                 0\n",
       "purchases              0\n",
       "travel                 0\n",
       "spam                   0\n",
       "social                 0\n",
       "class                  0\n",
       "dtype: int64"
      ]
     },
     "execution_count": 17,
     "metadata": {},
     "output_type": "execute_result"
    }
   ],
   "source": [
    "df.isna().sum()"
   ]
  },
  {
   "cell_type": "code",
   "execution_count": 18,
   "metadata": {},
   "outputs": [
    {
     "data": {
      "text/plain": [
       "37939"
      ]
     },
     "execution_count": 18,
     "metadata": {},
     "output_type": "execute_result"
    }
   ],
   "source": [
    "len(df.dropna(how='any'))"
   ]
  },
  {
   "cell_type": "code",
   "execution_count": 19,
   "metadata": {},
   "outputs": [
    {
     "data": {
      "text/plain": [
       "0.9563409039348643"
      ]
     },
     "execution_count": 19,
     "metadata": {},
     "output_type": "execute_result"
    }
   ],
   "source": [
    "len(df.dropna(how='any')) / len(df)"
   ]
  },
  {
   "cell_type": "code",
   "execution_count": 20,
   "metadata": {},
   "outputs": [
    {
     "data": {
      "text/plain": [
       "date                0\n",
       "org                 0\n",
       "tld                 0\n",
       "ccs                 0\n",
       "bcced               0\n",
       "mail_type           0\n",
       "images              0\n",
       "urls                0\n",
       "salutations         0\n",
       "designation         0\n",
       "chars_in_subject    0\n",
       "chars_in_body       0\n",
       "updates             0\n",
       "personal            0\n",
       "promotions          0\n",
       "forums              0\n",
       "purchases           0\n",
       "travel              0\n",
       "spam                0\n",
       "social              0\n",
       "class               0\n",
       "dtype: int64"
      ]
     },
     "execution_count": 20,
     "metadata": {},
     "output_type": "execute_result"
    }
   ],
   "source": [
    "df = df.dropna(how='any')\n",
    "df.isna().sum()"
   ]
  },
  {
   "cell_type": "markdown",
   "metadata": {},
   "source": [
    "## Date"
   ]
  },
  {
   "cell_type": "markdown",
   "metadata": {},
   "source": [
    "### Regex parsing for date extraction"
   ]
  },
  {
   "cell_type": "markdown",
   "metadata": {},
   "source": [
    "For one example:"
   ]
  },
  {
   "cell_type": "code",
   "execution_count": 21,
   "metadata": {},
   "outputs": [],
   "source": [
    "string = \"Mon, 15 Oct 2018 08:03:09 +0000 (UTC)\"\n",
    "pattern = r'(\\d{1,2}.*\\d{2}:\\d{2}:\\d{2}) ([+-]\\d{2}\\d{2})'\n",
    "ans = re.search(pattern, string)"
   ]
  },
  {
   "cell_type": "code",
   "execution_count": 22,
   "metadata": {},
   "outputs": [
    {
     "data": {
      "text/plain": [
       "'15 Oct 2018 08:03:09+0000'"
      ]
     },
     "execution_count": 22,
     "metadata": {},
     "output_type": "execute_result"
    }
   ],
   "source": [
    "date = ''.join([ans.group(1), ans.group(2)])\n",
    "date"
   ]
  },
  {
   "cell_type": "code",
   "execution_count": 23,
   "metadata": {},
   "outputs": [
    {
     "data": {
      "text/plain": [
       "Timestamp('2018-10-15 08:03:09+0000', tz='UTC')"
      ]
     },
     "execution_count": 23,
     "metadata": {},
     "output_type": "execute_result"
    }
   ],
   "source": [
    "pd.to_datetime(date)"
   ]
  },
  {
   "cell_type": "markdown",
   "metadata": {},
   "source": [
    "### Applying transformation to the dataset"
   ]
  },
  {
   "cell_type": "markdown",
   "metadata": {},
   "source": [
    "Now let's apply the transformation to the dataset:"
   ]
  },
  {
   "cell_type": "code",
   "execution_count": 24,
   "metadata": {},
   "outputs": [],
   "source": [
    "def format_date(row):\n",
    "    pattern = r'(\\d{1,2}.*\\d{2}:\\d{2}:\\d{2}) ([+-]\\d{2}\\d{2})'\n",
    "    \n",
    "    ans = re.search(pattern, string=row)\n",
    "    \n",
    "    if ans:\n",
    "        if ans.group(1)[1] == ' ':\n",
    "            return ''.join(['0', ans.group(1), ans.group(2)])\n",
    "        else:\n",
    "            return ''.join([ans.group(1), ans.group(2)])\n",
    "    else:\n",
    "        return np.nan"
   ]
  },
  {
   "cell_type": "code",
   "execution_count": 25,
   "metadata": {
    "scrolled": false
   },
   "outputs": [
    {
     "data": {
      "text/plain": [
       "0       2018-10-15 08:03:09+00:00\n",
       "1       2014-04-17 16:12:33+00:00\n",
       "2       2016-10-27 01:36:28+00:00\n",
       "3       2020-10-16 08:06:31+00:00\n",
       "4       2015-07-02 10:16:46+00:00\n",
       "                   ...           \n",
       "39665   2019-10-16 06:20:00+00:00\n",
       "39666   2019-10-08 18:58:39+00:00\n",
       "39668   2017-04-03 13:25:47+00:00\n",
       "39669   2018-06-14 00:46:51+00:00\n",
       "39670   2020-04-17 14:06:27+00:00\n",
       "Name: date, Length: 37939, dtype: datetime64[ns, UTC]"
      ]
     },
     "execution_count": 25,
     "metadata": {},
     "output_type": "execute_result"
    }
   ],
   "source": [
    "df['date'] = pd.to_datetime(df['date'].apply(format_date), utc=True)\n",
    "df['date']"
   ]
  },
  {
   "cell_type": "code",
   "execution_count": 26,
   "metadata": {},
   "outputs": [
    {
     "data": {
      "text/plain": [
       "Timestamp('2018-10-15 08:03:09+0000', tz='UTC')"
      ]
     },
     "execution_count": 26,
     "metadata": {},
     "output_type": "execute_result"
    }
   ],
   "source": [
    "df['date'].iloc[0]"
   ]
  },
  {
   "cell_type": "code",
   "execution_count": 27,
   "metadata": {},
   "outputs": [
    {
     "data": {
      "text/html": [
       "<div>\n",
       "<style scoped>\n",
       "    .dataframe tbody tr th:only-of-type {\n",
       "        vertical-align: middle;\n",
       "    }\n",
       "\n",
       "    .dataframe tbody tr th {\n",
       "        vertical-align: top;\n",
       "    }\n",
       "\n",
       "    .dataframe thead th {\n",
       "        text-align: right;\n",
       "    }\n",
       "</style>\n",
       "<table border=\"1\" class=\"dataframe\">\n",
       "  <thead>\n",
       "    <tr style=\"text-align: right;\">\n",
       "      <th></th>\n",
       "      <th>date</th>\n",
       "      <th>org</th>\n",
       "      <th>tld</th>\n",
       "      <th>ccs</th>\n",
       "      <th>bcced</th>\n",
       "      <th>mail_type</th>\n",
       "      <th>images</th>\n",
       "      <th>urls</th>\n",
       "      <th>salutations</th>\n",
       "      <th>designation</th>\n",
       "      <th>...</th>\n",
       "      <th>chars_in_body</th>\n",
       "      <th>updates</th>\n",
       "      <th>personal</th>\n",
       "      <th>promotions</th>\n",
       "      <th>forums</th>\n",
       "      <th>purchases</th>\n",
       "      <th>travel</th>\n",
       "      <th>spam</th>\n",
       "      <th>social</th>\n",
       "      <th>class</th>\n",
       "    </tr>\n",
       "  </thead>\n",
       "  <tbody>\n",
       "    <tr>\n",
       "      <th>0</th>\n",
       "      <td>2018-10-15 08:03:09+00:00</td>\n",
       "      <td>researchgatemail</td>\n",
       "      <td>net</td>\n",
       "      <td>0</td>\n",
       "      <td>0</td>\n",
       "      <td>multipart/alternative</td>\n",
       "      <td>4</td>\n",
       "      <td>28</td>\n",
       "      <td>0</td>\n",
       "      <td>1</td>\n",
       "      <td>...</td>\n",
       "      <td>25556</td>\n",
       "      <td>0</td>\n",
       "      <td>1</td>\n",
       "      <td>0</td>\n",
       "      <td>0</td>\n",
       "      <td>0</td>\n",
       "      <td>0</td>\n",
       "      <td>0</td>\n",
       "      <td>1</td>\n",
       "      <td>personal</td>\n",
       "    </tr>\n",
       "    <tr>\n",
       "      <th>1</th>\n",
       "      <td>2014-04-17 16:12:33+00:00</td>\n",
       "      <td>no-ip</td>\n",
       "      <td>com</td>\n",
       "      <td>0</td>\n",
       "      <td>0</td>\n",
       "      <td>multipart/alternative</td>\n",
       "      <td>6</td>\n",
       "      <td>32</td>\n",
       "      <td>0</td>\n",
       "      <td>0</td>\n",
       "      <td>...</td>\n",
       "      <td>19930</td>\n",
       "      <td>1</td>\n",
       "      <td>1</td>\n",
       "      <td>0</td>\n",
       "      <td>0</td>\n",
       "      <td>0</td>\n",
       "      <td>0</td>\n",
       "      <td>0</td>\n",
       "      <td>0</td>\n",
       "      <td>updates</td>\n",
       "    </tr>\n",
       "    <tr>\n",
       "      <th>2</th>\n",
       "      <td>2016-10-27 01:36:28+00:00</td>\n",
       "      <td>mail</td>\n",
       "      <td>goodreads.com</td>\n",
       "      <td>0</td>\n",
       "      <td>0</td>\n",
       "      <td>multipart/mixed</td>\n",
       "      <td>0</td>\n",
       "      <td>0</td>\n",
       "      <td>0</td>\n",
       "      <td>0</td>\n",
       "      <td>...</td>\n",
       "      <td>4</td>\n",
       "      <td>0</td>\n",
       "      <td>1</td>\n",
       "      <td>0</td>\n",
       "      <td>0</td>\n",
       "      <td>0</td>\n",
       "      <td>0</td>\n",
       "      <td>0</td>\n",
       "      <td>1</td>\n",
       "      <td>personal</td>\n",
       "    </tr>\n",
       "    <tr>\n",
       "      <th>3</th>\n",
       "      <td>2020-10-16 08:06:31+00:00</td>\n",
       "      <td>insideapple</td>\n",
       "      <td>apple.com</td>\n",
       "      <td>0</td>\n",
       "      <td>0</td>\n",
       "      <td>multipart/alternative</td>\n",
       "      <td>108</td>\n",
       "      <td>171</td>\n",
       "      <td>0</td>\n",
       "      <td>0</td>\n",
       "      <td>...</td>\n",
       "      <td>96568</td>\n",
       "      <td>0</td>\n",
       "      <td>0</td>\n",
       "      <td>1</td>\n",
       "      <td>0</td>\n",
       "      <td>0</td>\n",
       "      <td>0</td>\n",
       "      <td>0</td>\n",
       "      <td>0</td>\n",
       "      <td>promotions</td>\n",
       "    </tr>\n",
       "    <tr>\n",
       "      <th>4</th>\n",
       "      <td>2015-07-02 10:16:46+00:00</td>\n",
       "      <td>twitter</td>\n",
       "      <td>com</td>\n",
       "      <td>0</td>\n",
       "      <td>0</td>\n",
       "      <td>multipart/alternative</td>\n",
       "      <td>20</td>\n",
       "      <td>166</td>\n",
       "      <td>0</td>\n",
       "      <td>0</td>\n",
       "      <td>...</td>\n",
       "      <td>95131</td>\n",
       "      <td>0</td>\n",
       "      <td>1</td>\n",
       "      <td>0</td>\n",
       "      <td>0</td>\n",
       "      <td>0</td>\n",
       "      <td>0</td>\n",
       "      <td>0</td>\n",
       "      <td>1</td>\n",
       "      <td>personal</td>\n",
       "    </tr>\n",
       "  </tbody>\n",
       "</table>\n",
       "<p>5 rows × 21 columns</p>\n",
       "</div>"
      ],
      "text/plain": [
       "                       date               org            tld  ccs  bcced  \\\n",
       "0 2018-10-15 08:03:09+00:00  researchgatemail            net    0      0   \n",
       "1 2014-04-17 16:12:33+00:00             no-ip            com    0      0   \n",
       "2 2016-10-27 01:36:28+00:00              mail  goodreads.com    0      0   \n",
       "3 2020-10-16 08:06:31+00:00       insideapple      apple.com    0      0   \n",
       "4 2015-07-02 10:16:46+00:00           twitter            com    0      0   \n",
       "\n",
       "               mail_type  images  urls  salutations  designation  ...  \\\n",
       "0  multipart/alternative       4    28            0            1  ...   \n",
       "1  multipart/alternative       6    32            0            0  ...   \n",
       "2        multipart/mixed       0     0            0            0  ...   \n",
       "3  multipart/alternative     108   171            0            0  ...   \n",
       "4  multipart/alternative      20   166            0            0  ...   \n",
       "\n",
       "   chars_in_body  updates  personal  promotions  forums  purchases  travel  \\\n",
       "0          25556        0         1           0       0          0       0   \n",
       "1          19930        1         1           0       0          0       0   \n",
       "2              4        0         1           0       0          0       0   \n",
       "3          96568        0         0           1       0          0       0   \n",
       "4          95131        0         1           0       0          0       0   \n",
       "\n",
       "   spam  social       class  \n",
       "0     0       1    personal  \n",
       "1     0       0     updates  \n",
       "2     0       1    personal  \n",
       "3     0       0  promotions  \n",
       "4     0       1    personal  \n",
       "\n",
       "[5 rows x 21 columns]"
      ]
     },
     "execution_count": 27,
     "metadata": {},
     "output_type": "execute_result"
    }
   ],
   "source": [
    "df.head()"
   ]
  },
  {
   "cell_type": "markdown",
   "metadata": {},
   "source": [
    "### Creating date features"
   ]
  },
  {
   "cell_type": "code",
   "execution_count": 28,
   "metadata": {},
   "outputs": [
    {
     "data": {
      "text/plain": [
       "0        2018-10-15\n",
       "1        2014-04-17\n",
       "2        2016-10-27\n",
       "3        2020-10-16\n",
       "4        2015-07-02\n",
       "            ...    \n",
       "39665    2019-10-16\n",
       "39666    2019-10-08\n",
       "39668    2017-04-03\n",
       "39669    2018-06-14\n",
       "39670    2020-04-17\n",
       "Name: date_day, Length: 37939, dtype: object"
      ]
     },
     "execution_count": 28,
     "metadata": {},
     "output_type": "execute_result"
    }
   ],
   "source": [
    "df['date_day'] = df['date'].dt.date\n",
    "df['date_day']"
   ]
  },
  {
   "cell_type": "code",
   "execution_count": 29,
   "metadata": {},
   "outputs": [
    {
     "data": {
      "text/plain": [
       "2017-04-07    94\n",
       "2017-04-06    85\n",
       "2016-07-06    71\n",
       "2016-07-08    58\n",
       "2016-07-09    55\n",
       "              ..\n",
       "2013-02-12     1\n",
       "2013-01-25     1\n",
       "2013-04-06     1\n",
       "2013-04-21     1\n",
       "2012-09-11     1\n",
       "Name: date_day, Length: 2847, dtype: int64"
      ]
     },
     "execution_count": 29,
     "metadata": {},
     "output_type": "execute_result"
    }
   ],
   "source": [
    "df['date_day'].value_counts()"
   ]
  },
  {
   "cell_type": "code",
   "execution_count": 30,
   "metadata": {
    "scrolled": false
   },
   "outputs": [
    {
     "data": {
      "image/png": "[encoded data removed]",
      "text/plain": [
       "<Figure size 1440x864 with 1 Axes>"
      ]
     },
     "metadata": {
      "needs_background": "light"
     },
     "output_type": "display_data"
    }
   ],
   "source": [
    "plt.figure(figsize=(20,12))\n",
    "df['date_day'].value_counts().head(40).plot.bar();"
   ]
  },
  {
   "cell_type": "code",
   "execution_count": 31,
   "metadata": {},
   "outputs": [
    {
     "data": {
      "text/plain": [
       "0        2018-10-15\n",
       "1        2014-04-17\n",
       "2        2016-10-27\n",
       "3        2020-10-16\n",
       "4        2015-07-02\n",
       "            ...    \n",
       "39665    2019-10-16\n",
       "39666    2019-10-08\n",
       "39668    2017-04-03\n",
       "39669    2018-06-14\n",
       "39670    2020-04-17\n",
       "Name: date_day, Length: 37939, dtype: object"
      ]
     },
     "execution_count": 31,
     "metadata": {},
     "output_type": "execute_result"
    }
   ],
   "source": [
    "df['date_day'] = df['date'].dt.date\n",
    "df['date_day']"
   ]
  },
  {
   "cell_type": "code",
   "execution_count": 32,
   "metadata": {},
   "outputs": [
    {
     "data": {
      "text/plain": [
       "0        10.0\n",
       "1         4.0\n",
       "2        10.0\n",
       "3        10.0\n",
       "4         7.0\n",
       "         ... \n",
       "39665    10.0\n",
       "39666    10.0\n",
       "39668     4.0\n",
       "39669     6.0\n",
       "39670     4.0\n",
       "Name: month, Length: 37939, dtype: float64"
      ]
     },
     "execution_count": 32,
     "metadata": {},
     "output_type": "execute_result"
    }
   ],
   "source": [
    "df['month'] = df['date'].dt.month\n",
    "df['month']"
   ]
  },
  {
   "cell_type": "code",
   "execution_count": 33,
   "metadata": {},
   "outputs": [
    {
     "data": {
      "text/plain": [
       "0        0.0\n",
       "1        3.0\n",
       "2        3.0\n",
       "3        4.0\n",
       "4        3.0\n",
       "        ... \n",
       "39665    2.0\n",
       "39666    1.0\n",
       "39668    0.0\n",
       "39669    3.0\n",
       "39670    4.0\n",
       "Name: weekday, Length: 37939, dtype: float64"
      ]
     },
     "execution_count": 33,
     "metadata": {},
     "output_type": "execute_result"
    }
   ],
   "source": [
    "df['weekday'] = df['date'].dt.weekday\n",
    "df['weekday']"
   ]
  },
  {
   "cell_type": "code",
   "execution_count": 34,
   "metadata": {},
   "outputs": [
    {
     "data": {
      "text/plain": [
       "0         8.0\n",
       "1        16.0\n",
       "2         1.0\n",
       "3         8.0\n",
       "4        10.0\n",
       "         ... \n",
       "39665     6.0\n",
       "39666    18.0\n",
       "39668    13.0\n",
       "39669     0.0\n",
       "39670    14.0\n",
       "Name: hour, Length: 37939, dtype: float64"
      ]
     },
     "execution_count": 34,
     "metadata": {},
     "output_type": "execute_result"
    }
   ],
   "source": [
    "df['hour'] = df['date'].dt.hour\n",
    "df['hour']"
   ]
  },
  {
   "cell_type": "code",
   "execution_count": 35,
   "metadata": {},
   "outputs": [
    {
     "name": "stdout",
     "output_type": "stream",
     "text": [
      "<class 'pandas.core.frame.DataFrame'>\n",
      "Int64Index: 37939 entries, 0 to 39670\n",
      "Data columns (total 25 columns):\n",
      " #   Column            Non-Null Count  Dtype              \n",
      "---  ------            --------------  -----              \n",
      " 0   date              37893 non-null  datetime64[ns, UTC]\n",
      " 1   org               37939 non-null  object             \n",
      " 2   tld               37939 non-null  object             \n",
      " 3   ccs               37939 non-null  int64              \n",
      " 4   bcced             37939 non-null  int64              \n",
      " 5   mail_type         37939 non-null  object             \n",
      " 6   images            37939 non-null  int64              \n",
      " 7   urls              37939 non-null  int64              \n",
      " 8   salutations       37939 non-null  int64              \n",
      " 9   designation       37939 non-null  int64              \n",
      " 10  chars_in_subject  37939 non-null  float64            \n",
      " 11  chars_in_body     37939 non-null  int64              \n",
      " 12  updates           37939 non-null  int64              \n",
      " 13  personal          37939 non-null  int64              \n",
      " 14  promotions        37939 non-null  int64              \n",
      " 15  forums            37939 non-null  int64              \n",
      " 16  purchases         37939 non-null  int64              \n",
      " 17  travel            37939 non-null  int64              \n",
      " 18  spam              37939 non-null  int64              \n",
      " 19  social            37939 non-null  int64              \n",
      " 20  class             37939 non-null  object             \n",
      " 21  date_day          37893 non-null  object             \n",
      " 22  month             37893 non-null  float64            \n",
      " 23  weekday           37893 non-null  float64            \n",
      " 24  hour              37893 non-null  float64            \n",
      "dtypes: datetime64[ns, UTC](1), float64(4), int64(15), object(5)\n",
      "memory usage: 7.5+ MB\n"
     ]
    }
   ],
   "source": [
    "df.info()"
   ]
  },
  {
   "cell_type": "markdown",
   "metadata": {},
   "source": [
    "## Categorical encoding"
   ]
  },
  {
   "cell_type": "markdown",
   "metadata": {},
   "source": [
    "### org -> Target Encoding"
   ]
  },
  {
   "cell_type": "code",
   "execution_count": 36,
   "metadata": {},
   "outputs": [
    {
     "data": {
      "text/plain": [
       "964"
      ]
     },
     "execution_count": 36,
     "metadata": {},
     "output_type": "execute_result"
    }
   ],
   "source": [
    "len(df['org'].unique())"
   ]
  },
  {
   "cell_type": "code",
   "execution_count": 37,
   "metadata": {
    "scrolled": false
   },
   "outputs": [
    {
     "data": {
      "text/plain": [
       "iiitd          8930\n",
       "google         2201\n",
       "usebackpack    1699\n",
       "amazon         1523\n",
       "quora          1241\n",
       "Name: org, dtype: int64"
      ]
     },
     "execution_count": 37,
     "metadata": {},
     "output_type": "execute_result"
    }
   ],
   "source": [
    "df['org'].value_counts().nlargest(5)"
   ]
  },
  {
   "cell_type": "code",
   "execution_count": 38,
   "metadata": {},
   "outputs": [
    {
     "data": {
      "text/html": [
       "<div>\n",
       "<style scoped>\n",
       "    .dataframe tbody tr th:only-of-type {\n",
       "        vertical-align: middle;\n",
       "    }\n",
       "\n",
       "    .dataframe tbody tr th {\n",
       "        vertical-align: top;\n",
       "    }\n",
       "\n",
       "    .dataframe thead th {\n",
       "        text-align: right;\n",
       "    }\n",
       "</style>\n",
       "<table border=\"1\" class=\"dataframe\">\n",
       "  <thead>\n",
       "    <tr style=\"text-align: right;\">\n",
       "      <th></th>\n",
       "      <th>updates</th>\n",
       "      <th>personal</th>\n",
       "      <th>promotions</th>\n",
       "      <th>forums</th>\n",
       "      <th>purchases</th>\n",
       "      <th>travel</th>\n",
       "      <th>spam</th>\n",
       "      <th>social</th>\n",
       "    </tr>\n",
       "    <tr>\n",
       "      <th>org</th>\n",
       "      <th></th>\n",
       "      <th></th>\n",
       "      <th></th>\n",
       "      <th></th>\n",
       "      <th></th>\n",
       "      <th></th>\n",
       "      <th></th>\n",
       "      <th></th>\n",
       "    </tr>\n",
       "  </thead>\n",
       "  <tbody>\n",
       "    <tr>\n",
       "      <th>000webhost</th>\n",
       "      <td>1.0</td>\n",
       "      <td>1.0</td>\n",
       "      <td>0.0</td>\n",
       "      <td>0.000000</td>\n",
       "      <td>0.0</td>\n",
       "      <td>0.0</td>\n",
       "      <td>0.0</td>\n",
       "      <td>0.0</td>\n",
       "    </tr>\n",
       "    <tr>\n",
       "      <th>10xrecruit</th>\n",
       "      <td>0.0</td>\n",
       "      <td>1.0</td>\n",
       "      <td>0.0</td>\n",
       "      <td>0.000000</td>\n",
       "      <td>0.0</td>\n",
       "      <td>0.0</td>\n",
       "      <td>0.0</td>\n",
       "      <td>0.0</td>\n",
       "    </tr>\n",
       "    <tr>\n",
       "      <th>126</th>\n",
       "      <td>0.0</td>\n",
       "      <td>1.0</td>\n",
       "      <td>0.0</td>\n",
       "      <td>0.012821</td>\n",
       "      <td>0.0</td>\n",
       "      <td>0.0</td>\n",
       "      <td>0.0</td>\n",
       "      <td>0.0</td>\n",
       "    </tr>\n",
       "  </tbody>\n",
       "</table>\n",
       "</div>"
      ],
      "text/plain": [
       "            updates  personal  promotions    forums  purchases  travel  spam  \\\n",
       "org                                                                            \n",
       "000webhost      1.0       1.0         0.0  0.000000        0.0     0.0   0.0   \n",
       "10xrecruit      0.0       1.0         0.0  0.000000        0.0     0.0   0.0   \n",
       "126             0.0       1.0         0.0  0.012821        0.0     0.0   0.0   \n",
       "\n",
       "            social  \n",
       "org                 \n",
       "000webhost     0.0  \n",
       "10xrecruit     0.0  \n",
       "126            0.0  "
      ]
     },
     "execution_count": 38,
     "metadata": {},
     "output_type": "execute_result"
    }
   ],
   "source": [
    "means_by_org = df.groupby('org')[list_classes].mean()\n",
    "means_by_org.head(3)"
   ]
  },
  {
   "cell_type": "code",
   "execution_count": 39,
   "metadata": {},
   "outputs": [
    {
     "data": {
      "text/html": [
       "<div>\n",
       "<style scoped>\n",
       "    .dataframe tbody tr th:only-of-type {\n",
       "        vertical-align: middle;\n",
       "    }\n",
       "\n",
       "    .dataframe tbody tr th {\n",
       "        vertical-align: top;\n",
       "    }\n",
       "\n",
       "    .dataframe thead th {\n",
       "        text-align: right;\n",
       "    }\n",
       "</style>\n",
       "<table border=\"1\" class=\"dataframe\">\n",
       "  <thead>\n",
       "    <tr style=\"text-align: right;\">\n",
       "      <th></th>\n",
       "      <th>org_target_updates</th>\n",
       "      <th>org_target_personal</th>\n",
       "      <th>org_target_promotions</th>\n",
       "      <th>org_target_forums</th>\n",
       "      <th>org_target_purchases</th>\n",
       "      <th>org_target_travel</th>\n",
       "      <th>org_target_spam</th>\n",
       "      <th>org_target_social</th>\n",
       "    </tr>\n",
       "  </thead>\n",
       "  <tbody>\n",
       "    <tr>\n",
       "      <th>0</th>\n",
       "      <td>0.000000</td>\n",
       "      <td>1.000000</td>\n",
       "      <td>0.000000</td>\n",
       "      <td>0.0</td>\n",
       "      <td>0.000000</td>\n",
       "      <td>0.0</td>\n",
       "      <td>0.000000</td>\n",
       "      <td>1.000000</td>\n",
       "    </tr>\n",
       "    <tr>\n",
       "      <th>1</th>\n",
       "      <td>1.000000</td>\n",
       "      <td>1.000000</td>\n",
       "      <td>0.000000</td>\n",
       "      <td>0.0</td>\n",
       "      <td>0.000000</td>\n",
       "      <td>0.0</td>\n",
       "      <td>0.000000</td>\n",
       "      <td>0.000000</td>\n",
       "    </tr>\n",
       "    <tr>\n",
       "      <th>2</th>\n",
       "      <td>0.160156</td>\n",
       "      <td>0.613281</td>\n",
       "      <td>0.492188</td>\n",
       "      <td>0.0</td>\n",
       "      <td>0.003906</td>\n",
       "      <td>0.0</td>\n",
       "      <td>0.007812</td>\n",
       "      <td>0.351562</td>\n",
       "    </tr>\n",
       "    <tr>\n",
       "      <th>3</th>\n",
       "      <td>0.218750</td>\n",
       "      <td>0.062500</td>\n",
       "      <td>0.781250</td>\n",
       "      <td>0.0</td>\n",
       "      <td>0.000000</td>\n",
       "      <td>0.0</td>\n",
       "      <td>0.000000</td>\n",
       "      <td>0.000000</td>\n",
       "    </tr>\n",
       "    <tr>\n",
       "      <th>4</th>\n",
       "      <td>0.001850</td>\n",
       "      <td>0.828862</td>\n",
       "      <td>0.002775</td>\n",
       "      <td>0.0</td>\n",
       "      <td>0.000000</td>\n",
       "      <td>0.0</td>\n",
       "      <td>0.000000</td>\n",
       "      <td>0.965772</td>\n",
       "    </tr>\n",
       "  </tbody>\n",
       "</table>\n",
       "</div>"
      ],
      "text/plain": [
       "   org_target_updates  org_target_personal  org_target_promotions  \\\n",
       "0            0.000000             1.000000               0.000000   \n",
       "1            1.000000             1.000000               0.000000   \n",
       "2            0.160156             0.613281               0.492188   \n",
       "3            0.218750             0.062500               0.781250   \n",
       "4            0.001850             0.828862               0.002775   \n",
       "\n",
       "   org_target_forums  org_target_purchases  org_target_travel  \\\n",
       "0                0.0              0.000000                0.0   \n",
       "1                0.0              0.000000                0.0   \n",
       "2                0.0              0.003906                0.0   \n",
       "3                0.0              0.000000                0.0   \n",
       "4                0.0              0.000000                0.0   \n",
       "\n",
       "   org_target_spam  org_target_social  \n",
       "0         0.000000           1.000000  \n",
       "1         0.000000           0.000000  \n",
       "2         0.007812           0.351562  \n",
       "3         0.000000           0.000000  \n",
       "4         0.000000           0.965772  "
      ]
     },
     "execution_count": 39,
     "metadata": {},
     "output_type": "execute_result"
    }
   ],
   "source": [
    "list_org_target_classes = []\n",
    "for col in list_classes:\n",
    "    new_col_name = f'org_target_{col}'\n",
    "    \n",
    "    list_org_target_classes.append(new_col_name)\n",
    "    df[new_col_name] = df['org'].map(means_by_org[col])\n",
    "\n",
    "df[list_org_target_classes].head()"
   ]
  },
  {
   "cell_type": "code",
   "execution_count": 40,
   "metadata": {},
   "outputs": [],
   "source": [
    "df = df.drop(columns=['org'])"
   ]
  },
  {
   "cell_type": "markdown",
   "metadata": {},
   "source": [
    "### tld -> Target Encoding"
   ]
  },
  {
   "cell_type": "code",
   "execution_count": 41,
   "metadata": {},
   "outputs": [
    {
     "data": {
      "text/plain": [
       "268"
      ]
     },
     "execution_count": 41,
     "metadata": {},
     "output_type": "execute_result"
    }
   ],
   "source": [
    "len(df['tld'].unique())"
   ]
  },
  {
   "cell_type": "code",
   "execution_count": 42,
   "metadata": {
    "scrolled": true
   },
   "outputs": [
    {
     "data": {
      "text/plain": [
       "com                      17668\n",
       "ac.in                     8992\n",
       "in                        1816\n",
       "org                       1734\n",
       "fr                        1044\n",
       "                         ...  \n",
       "gitguardian.com              1\n",
       "foursquare.com               1\n",
       "ch                           1\n",
       "scientific-direct.net        1\n",
       "swiggy.in                    1\n",
       "Name: tld, Length: 268, dtype: int64"
      ]
     },
     "execution_count": 42,
     "metadata": {},
     "output_type": "execute_result"
    }
   ],
   "source": [
    "df['tld'].value_counts()"
   ]
  },
  {
   "cell_type": "code",
   "execution_count": 43,
   "metadata": {},
   "outputs": [
    {
     "data": {
      "text/html": [
       "<div>\n",
       "<style scoped>\n",
       "    .dataframe tbody tr th:only-of-type {\n",
       "        vertical-align: middle;\n",
       "    }\n",
       "\n",
       "    .dataframe tbody tr th {\n",
       "        vertical-align: top;\n",
       "    }\n",
       "\n",
       "    .dataframe thead th {\n",
       "        text-align: right;\n",
       "    }\n",
       "</style>\n",
       "<table border=\"1\" class=\"dataframe\">\n",
       "  <thead>\n",
       "    <tr style=\"text-align: right;\">\n",
       "      <th></th>\n",
       "      <th>updates</th>\n",
       "      <th>personal</th>\n",
       "      <th>promotions</th>\n",
       "      <th>forums</th>\n",
       "      <th>purchases</th>\n",
       "      <th>travel</th>\n",
       "      <th>spam</th>\n",
       "      <th>social</th>\n",
       "    </tr>\n",
       "    <tr>\n",
       "      <th>tld</th>\n",
       "      <th></th>\n",
       "      <th></th>\n",
       "      <th></th>\n",
       "      <th></th>\n",
       "      <th></th>\n",
       "      <th></th>\n",
       "      <th></th>\n",
       "      <th></th>\n",
       "    </tr>\n",
       "  </thead>\n",
       "  <tbody>\n",
       "    <tr>\n",
       "      <th>21cf.com</th>\n",
       "      <td>0.5</td>\n",
       "      <td>1.000000</td>\n",
       "      <td>0.5</td>\n",
       "      <td>0.0</td>\n",
       "      <td>0.0</td>\n",
       "      <td>0.0</td>\n",
       "      <td>0.0</td>\n",
       "      <td>0.0</td>\n",
       "    </tr>\n",
       "    <tr>\n",
       "      <th>33mail.com</th>\n",
       "      <td>1.0</td>\n",
       "      <td>0.058824</td>\n",
       "      <td>0.0</td>\n",
       "      <td>0.0</td>\n",
       "      <td>0.0</td>\n",
       "      <td>0.0</td>\n",
       "      <td>0.0</td>\n",
       "      <td>0.0</td>\n",
       "    </tr>\n",
       "    <tr>\n",
       "      <th>4shared.com</th>\n",
       "      <td>1.0</td>\n",
       "      <td>1.000000</td>\n",
       "      <td>0.0</td>\n",
       "      <td>0.0</td>\n",
       "      <td>0.0</td>\n",
       "      <td>0.0</td>\n",
       "      <td>0.0</td>\n",
       "      <td>0.0</td>\n",
       "    </tr>\n",
       "  </tbody>\n",
       "</table>\n",
       "</div>"
      ],
      "text/plain": [
       "             updates  personal  promotions  forums  purchases  travel  spam  \\\n",
       "tld                                                                           \n",
       "21cf.com         0.5  1.000000         0.5     0.0        0.0     0.0   0.0   \n",
       "33mail.com       1.0  0.058824         0.0     0.0        0.0     0.0   0.0   \n",
       "4shared.com      1.0  1.000000         0.0     0.0        0.0     0.0   0.0   \n",
       "\n",
       "             social  \n",
       "tld                  \n",
       "21cf.com        0.0  \n",
       "33mail.com      0.0  \n",
       "4shared.com     0.0  "
      ]
     },
     "execution_count": 43,
     "metadata": {},
     "output_type": "execute_result"
    }
   ],
   "source": [
    "means_by_tld = df.groupby('tld')[list_classes].mean()\n",
    "means_by_tld.head(3)"
   ]
  },
  {
   "cell_type": "code",
   "execution_count": 44,
   "metadata": {},
   "outputs": [
    {
     "data": {
      "text/html": [
       "<div>\n",
       "<style scoped>\n",
       "    .dataframe tbody tr th:only-of-type {\n",
       "        vertical-align: middle;\n",
       "    }\n",
       "\n",
       "    .dataframe tbody tr th {\n",
       "        vertical-align: top;\n",
       "    }\n",
       "\n",
       "    .dataframe thead th {\n",
       "        text-align: right;\n",
       "    }\n",
       "</style>\n",
       "<table border=\"1\" class=\"dataframe\">\n",
       "  <thead>\n",
       "    <tr style=\"text-align: right;\">\n",
       "      <th></th>\n",
       "      <th>tld_target_updates</th>\n",
       "      <th>tld_target_personal</th>\n",
       "      <th>tld_target_promotions</th>\n",
       "      <th>tld_target_forums</th>\n",
       "      <th>tld_target_purchases</th>\n",
       "      <th>tld_target_travel</th>\n",
       "      <th>tld_target_spam</th>\n",
       "      <th>tld_target_social</th>\n",
       "    </tr>\n",
       "  </thead>\n",
       "  <tbody>\n",
       "    <tr>\n",
       "      <th>0</th>\n",
       "      <td>0.327731</td>\n",
       "      <td>0.911765</td>\n",
       "      <td>0.063025</td>\n",
       "      <td>0.000000</td>\n",
       "      <td>0.000000</td>\n",
       "      <td>0.000000</td>\n",
       "      <td>0.004202</td>\n",
       "      <td>0.563025</td>\n",
       "    </tr>\n",
       "    <tr>\n",
       "      <th>1</th>\n",
       "      <td>0.475379</td>\n",
       "      <td>0.720851</td>\n",
       "      <td>0.195947</td>\n",
       "      <td>0.065259</td>\n",
       "      <td>0.003396</td>\n",
       "      <td>0.001868</td>\n",
       "      <td>0.002377</td>\n",
       "      <td>0.202570</td>\n",
       "    </tr>\n",
       "    <tr>\n",
       "      <th>2</th>\n",
       "      <td>0.017241</td>\n",
       "      <td>1.000000</td>\n",
       "      <td>0.000000</td>\n",
       "      <td>0.000000</td>\n",
       "      <td>0.000000</td>\n",
       "      <td>0.000000</td>\n",
       "      <td>0.000000</td>\n",
       "      <td>0.982759</td>\n",
       "    </tr>\n",
       "    <tr>\n",
       "      <th>3</th>\n",
       "      <td>0.704545</td>\n",
       "      <td>0.329545</td>\n",
       "      <td>0.284091</td>\n",
       "      <td>0.000000</td>\n",
       "      <td>0.238636</td>\n",
       "      <td>0.000000</td>\n",
       "      <td>0.000000</td>\n",
       "      <td>0.000000</td>\n",
       "    </tr>\n",
       "    <tr>\n",
       "      <th>4</th>\n",
       "      <td>0.475379</td>\n",
       "      <td>0.720851</td>\n",
       "      <td>0.195947</td>\n",
       "      <td>0.065259</td>\n",
       "      <td>0.003396</td>\n",
       "      <td>0.001868</td>\n",
       "      <td>0.002377</td>\n",
       "      <td>0.202570</td>\n",
       "    </tr>\n",
       "  </tbody>\n",
       "</table>\n",
       "</div>"
      ],
      "text/plain": [
       "   tld_target_updates  tld_target_personal  tld_target_promotions  \\\n",
       "0            0.327731             0.911765               0.063025   \n",
       "1            0.475379             0.720851               0.195947   \n",
       "2            0.017241             1.000000               0.000000   \n",
       "3            0.704545             0.329545               0.284091   \n",
       "4            0.475379             0.720851               0.195947   \n",
       "\n",
       "   tld_target_forums  tld_target_purchases  tld_target_travel  \\\n",
       "0           0.000000              0.000000           0.000000   \n",
       "1           0.065259              0.003396           0.001868   \n",
       "2           0.000000              0.000000           0.000000   \n",
       "3           0.000000              0.238636           0.000000   \n",
       "4           0.065259              0.003396           0.001868   \n",
       "\n",
       "   tld_target_spam  tld_target_social  \n",
       "0         0.004202           0.563025  \n",
       "1         0.002377           0.202570  \n",
       "2         0.000000           0.982759  \n",
       "3         0.000000           0.000000  \n",
       "4         0.002377           0.202570  "
      ]
     },
     "execution_count": 44,
     "metadata": {},
     "output_type": "execute_result"
    }
   ],
   "source": [
    "list_tld_target_classes = []\n",
    "for col in list_classes:\n",
    "    new_col_name = f'tld_target_{col}'\n",
    "    \n",
    "    list_tld_target_classes.append(new_col_name)\n",
    "    df[new_col_name] = df['tld'].map(means_by_tld[col])\n",
    "\n",
    "df[list_tld_target_classes].head()"
   ]
  },
  {
   "cell_type": "code",
   "execution_count": 45,
   "metadata": {},
   "outputs": [
    {
     "data": {
      "text/plain": [
       "['tld_target_updates',\n",
       " 'tld_target_personal',\n",
       " 'tld_target_promotions',\n",
       " 'tld_target_forums',\n",
       " 'tld_target_purchases',\n",
       " 'tld_target_travel',\n",
       " 'tld_target_spam',\n",
       " 'tld_target_social']"
      ]
     },
     "execution_count": 45,
     "metadata": {},
     "output_type": "execute_result"
    }
   ],
   "source": [
    "list_tld_target_classes"
   ]
  },
  {
   "cell_type": "code",
   "execution_count": 46,
   "metadata": {},
   "outputs": [],
   "source": [
    "df = df.drop(columns=['tld'])"
   ]
  },
  {
   "cell_type": "markdown",
   "metadata": {},
   "source": [
    "### mail_type -> One-Hot Encoding"
   ]
  },
  {
   "cell_type": "code",
   "execution_count": 47,
   "metadata": {},
   "outputs": [
    {
     "data": {
      "text/plain": [
       "11"
      ]
     },
     "execution_count": 47,
     "metadata": {},
     "output_type": "execute_result"
    }
   ],
   "source": [
    "len(df['mail_type'].unique())"
   ]
  },
  {
   "cell_type": "code",
   "execution_count": 48,
   "metadata": {},
   "outputs": [
    {
     "data": {
      "text/plain": [
       "multipart/alternative    27505\n",
       "text/html                 5306\n",
       "multipart/mixed           3178\n",
       "text/plain                 956\n",
       "multipart/related          892\n",
       "text/html                   40\n",
       "multipart/signed            23\n",
       "Multipart/Mixed             21\n",
       "multipart/report            10\n",
       "Text/Html                    6\n",
       "Multipart/Alternative        2\n",
       "Name: mail_type, dtype: int64"
      ]
     },
     "execution_count": 48,
     "metadata": {},
     "output_type": "execute_result"
    }
   ],
   "source": [
    "df['mail_type'].value_counts()"
   ]
  },
  {
   "cell_type": "code",
   "execution_count": 49,
   "metadata": {},
   "outputs": [
    {
     "data": {
      "text/html": [
       "<div>\n",
       "<style scoped>\n",
       "    .dataframe tbody tr th:only-of-type {\n",
       "        vertical-align: middle;\n",
       "    }\n",
       "\n",
       "    .dataframe tbody tr th {\n",
       "        vertical-align: top;\n",
       "    }\n",
       "\n",
       "    .dataframe thead th {\n",
       "        text-align: right;\n",
       "    }\n",
       "</style>\n",
       "<table border=\"1\" class=\"dataframe\">\n",
       "  <thead>\n",
       "    <tr style=\"text-align: right;\">\n",
       "      <th></th>\n",
       "      <th>mail_type__Multipart/Alternative</th>\n",
       "      <th>mail_type__Multipart/Mixed</th>\n",
       "      <th>mail_type__Text/Html</th>\n",
       "      <th>mail_type__multipart/alternative</th>\n",
       "      <th>mail_type__multipart/mixed</th>\n",
       "      <th>mail_type__multipart/related</th>\n",
       "      <th>mail_type__multipart/report</th>\n",
       "      <th>mail_type__multipart/signed</th>\n",
       "      <th>mail_type__text/html</th>\n",
       "      <th>mail_type__text/html</th>\n",
       "      <th>mail_type__text/plain</th>\n",
       "    </tr>\n",
       "  </thead>\n",
       "  <tbody>\n",
       "    <tr>\n",
       "      <th>0</th>\n",
       "      <td>0</td>\n",
       "      <td>0</td>\n",
       "      <td>0</td>\n",
       "      <td>1</td>\n",
       "      <td>0</td>\n",
       "      <td>0</td>\n",
       "      <td>0</td>\n",
       "      <td>0</td>\n",
       "      <td>0</td>\n",
       "      <td>0</td>\n",
       "      <td>0</td>\n",
       "    </tr>\n",
       "    <tr>\n",
       "      <th>1</th>\n",
       "      <td>0</td>\n",
       "      <td>0</td>\n",
       "      <td>0</td>\n",
       "      <td>1</td>\n",
       "      <td>0</td>\n",
       "      <td>0</td>\n",
       "      <td>0</td>\n",
       "      <td>0</td>\n",
       "      <td>0</td>\n",
       "      <td>0</td>\n",
       "      <td>0</td>\n",
       "    </tr>\n",
       "    <tr>\n",
       "      <th>2</th>\n",
       "      <td>0</td>\n",
       "      <td>0</td>\n",
       "      <td>0</td>\n",
       "      <td>0</td>\n",
       "      <td>1</td>\n",
       "      <td>0</td>\n",
       "      <td>0</td>\n",
       "      <td>0</td>\n",
       "      <td>0</td>\n",
       "      <td>0</td>\n",
       "      <td>0</td>\n",
       "    </tr>\n",
       "  </tbody>\n",
       "</table>\n",
       "</div>"
      ],
      "text/plain": [
       "   mail_type__Multipart/Alternative  mail_type__Multipart/Mixed  \\\n",
       "0                                 0                           0   \n",
       "1                                 0                           0   \n",
       "2                                 0                           0   \n",
       "\n",
       "   mail_type__Text/Html  mail_type__multipart/alternative  \\\n",
       "0                     0                                 1   \n",
       "1                     0                                 1   \n",
       "2                     0                                 0   \n",
       "\n",
       "   mail_type__multipart/mixed  mail_type__multipart/related  \\\n",
       "0                           0                             0   \n",
       "1                           0                             0   \n",
       "2                           1                             0   \n",
       "\n",
       "   mail_type__multipart/report  mail_type__multipart/signed  \\\n",
       "0                            0                            0   \n",
       "1                            0                            0   \n",
       "2                            0                            0   \n",
       "\n",
       "   mail_type__text/html  mail_type__text/html   mail_type__text/plain  \n",
       "0                     0                      0                      0  \n",
       "1                     0                      0                      0  \n",
       "2                     0                      0                      0  "
      ]
     },
     "execution_count": 49,
     "metadata": {},
     "output_type": "execute_result"
    }
   ],
   "source": [
    "pd.get_dummies(df['mail_type'], prefix='mail_type_').head(3)"
   ]
  },
  {
   "cell_type": "code",
   "execution_count": 50,
   "metadata": {
    "scrolled": true
   },
   "outputs": [
    {
     "data": {
      "text/html": [
       "<div>\n",
       "<style scoped>\n",
       "    .dataframe tbody tr th:only-of-type {\n",
       "        vertical-align: middle;\n",
       "    }\n",
       "\n",
       "    .dataframe tbody tr th {\n",
       "        vertical-align: top;\n",
       "    }\n",
       "\n",
       "    .dataframe thead th {\n",
       "        text-align: right;\n",
       "    }\n",
       "</style>\n",
       "<table border=\"1\" class=\"dataframe\">\n",
       "  <thead>\n",
       "    <tr style=\"text-align: right;\">\n",
       "      <th></th>\n",
       "      <th>date</th>\n",
       "      <th>ccs</th>\n",
       "      <th>bcced</th>\n",
       "      <th>images</th>\n",
       "      <th>urls</th>\n",
       "      <th>salutations</th>\n",
       "      <th>designation</th>\n",
       "      <th>chars_in_subject</th>\n",
       "      <th>chars_in_body</th>\n",
       "      <th>updates</th>\n",
       "      <th>...</th>\n",
       "      <th>mail_type__Multipart/Mixed</th>\n",
       "      <th>mail_type__Text/Html</th>\n",
       "      <th>mail_type__multipart/alternative</th>\n",
       "      <th>mail_type__multipart/mixed</th>\n",
       "      <th>mail_type__multipart/related</th>\n",
       "      <th>mail_type__multipart/report</th>\n",
       "      <th>mail_type__multipart/signed</th>\n",
       "      <th>mail_type__text/html</th>\n",
       "      <th>mail_type__text/html</th>\n",
       "      <th>mail_type__text/plain</th>\n",
       "    </tr>\n",
       "  </thead>\n",
       "  <tbody>\n",
       "    <tr>\n",
       "      <th>0</th>\n",
       "      <td>2018-10-15 08:03:09+00:00</td>\n",
       "      <td>0</td>\n",
       "      <td>0</td>\n",
       "      <td>4</td>\n",
       "      <td>28</td>\n",
       "      <td>0</td>\n",
       "      <td>1</td>\n",
       "      <td>47.0</td>\n",
       "      <td>25556</td>\n",
       "      <td>0</td>\n",
       "      <td>...</td>\n",
       "      <td>0</td>\n",
       "      <td>0</td>\n",
       "      <td>1</td>\n",
       "      <td>0</td>\n",
       "      <td>0</td>\n",
       "      <td>0</td>\n",
       "      <td>0</td>\n",
       "      <td>0</td>\n",
       "      <td>0</td>\n",
       "      <td>0</td>\n",
       "    </tr>\n",
       "    <tr>\n",
       "      <th>1</th>\n",
       "      <td>2014-04-17 16:12:33+00:00</td>\n",
       "      <td>0</td>\n",
       "      <td>0</td>\n",
       "      <td>6</td>\n",
       "      <td>32</td>\n",
       "      <td>0</td>\n",
       "      <td>0</td>\n",
       "      <td>46.0</td>\n",
       "      <td>19930</td>\n",
       "      <td>1</td>\n",
       "      <td>...</td>\n",
       "      <td>0</td>\n",
       "      <td>0</td>\n",
       "      <td>1</td>\n",
       "      <td>0</td>\n",
       "      <td>0</td>\n",
       "      <td>0</td>\n",
       "      <td>0</td>\n",
       "      <td>0</td>\n",
       "      <td>0</td>\n",
       "      <td>0</td>\n",
       "    </tr>\n",
       "    <tr>\n",
       "      <th>2</th>\n",
       "      <td>2016-10-27 01:36:28+00:00</td>\n",
       "      <td>0</td>\n",
       "      <td>0</td>\n",
       "      <td>0</td>\n",
       "      <td>0</td>\n",
       "      <td>0</td>\n",
       "      <td>0</td>\n",
       "      <td>21.0</td>\n",
       "      <td>4</td>\n",
       "      <td>0</td>\n",
       "      <td>...</td>\n",
       "      <td>0</td>\n",
       "      <td>0</td>\n",
       "      <td>0</td>\n",
       "      <td>1</td>\n",
       "      <td>0</td>\n",
       "      <td>0</td>\n",
       "      <td>0</td>\n",
       "      <td>0</td>\n",
       "      <td>0</td>\n",
       "      <td>0</td>\n",
       "    </tr>\n",
       "  </tbody>\n",
       "</table>\n",
       "<p>3 rows × 49 columns</p>\n",
       "</div>"
      ],
      "text/plain": [
       "                       date  ccs  bcced  images  urls  salutations  \\\n",
       "0 2018-10-15 08:03:09+00:00    0      0       4    28            0   \n",
       "1 2014-04-17 16:12:33+00:00    0      0       6    32            0   \n",
       "2 2016-10-27 01:36:28+00:00    0      0       0     0            0   \n",
       "\n",
       "   designation  chars_in_subject  chars_in_body  updates  ...  \\\n",
       "0            1              47.0          25556        0  ...   \n",
       "1            0              46.0          19930        1  ...   \n",
       "2            0              21.0              4        0  ...   \n",
       "\n",
       "   mail_type__Multipart/Mixed  mail_type__Text/Html  \\\n",
       "0                           0                     0   \n",
       "1                           0                     0   \n",
       "2                           0                     0   \n",
       "\n",
       "   mail_type__multipart/alternative  mail_type__multipart/mixed  \\\n",
       "0                                 1                           0   \n",
       "1                                 1                           0   \n",
       "2                                 0                           1   \n",
       "\n",
       "   mail_type__multipart/related  mail_type__multipart/report  \\\n",
       "0                             0                            0   \n",
       "1                             0                            0   \n",
       "2                             0                            0   \n",
       "\n",
       "   mail_type__multipart/signed mail_type__text/html mail_type__text/html   \\\n",
       "0                            0                    0                     0   \n",
       "1                            0                    0                     0   \n",
       "2                            0                    0                     0   \n",
       "\n",
       "   mail_type__text/plain  \n",
       "0                      0  \n",
       "1                      0  \n",
       "2                      0  \n",
       "\n",
       "[3 rows x 49 columns]"
      ]
     },
     "execution_count": 50,
     "metadata": {},
     "output_type": "execute_result"
    }
   ],
   "source": [
    "df = pd.concat([df, pd.get_dummies(df['mail_type'], prefix='mail_type_')], axis=1).drop(columns=['mail_type'])\n",
    "df.head(3)"
   ]
  },
  {
   "cell_type": "markdown",
   "metadata": {},
   "source": [
    "## Dropping classes"
   ]
  },
  {
   "cell_type": "code",
   "execution_count": 51,
   "metadata": {},
   "outputs": [],
   "source": [
    "cols_to_drop = [\"date\", \"date_day\", \"class\"]\n",
    "\n",
    "df = df.drop(columns=cols_to_drop)"
   ]
  },
  {
   "cell_type": "markdown",
   "metadata": {},
   "source": [
    "# Final dataset overview"
   ]
  },
  {
   "cell_type": "code",
   "execution_count": 52,
   "metadata": {
    "scrolled": false
   },
   "outputs": [
    {
     "data": {
      "text/html": [
       "<div>\n",
       "<style scoped>\n",
       "    .dataframe tbody tr th:only-of-type {\n",
       "        vertical-align: middle;\n",
       "    }\n",
       "\n",
       "    .dataframe tbody tr th {\n",
       "        vertical-align: top;\n",
       "    }\n",
       "\n",
       "    .dataframe thead th {\n",
       "        text-align: right;\n",
       "    }\n",
       "</style>\n",
       "<table border=\"1\" class=\"dataframe\">\n",
       "  <thead>\n",
       "    <tr style=\"text-align: right;\">\n",
       "      <th></th>\n",
       "      <th>0</th>\n",
       "      <th>1</th>\n",
       "      <th>2</th>\n",
       "    </tr>\n",
       "  </thead>\n",
       "  <tbody>\n",
       "    <tr>\n",
       "      <th>ccs</th>\n",
       "      <td>0.000000</td>\n",
       "      <td>0.000000</td>\n",
       "      <td>0.000000</td>\n",
       "    </tr>\n",
       "    <tr>\n",
       "      <th>bcced</th>\n",
       "      <td>0.000000</td>\n",
       "      <td>0.000000</td>\n",
       "      <td>0.000000</td>\n",
       "    </tr>\n",
       "    <tr>\n",
       "      <th>images</th>\n",
       "      <td>4.000000</td>\n",
       "      <td>6.000000</td>\n",
       "      <td>0.000000</td>\n",
       "    </tr>\n",
       "    <tr>\n",
       "      <th>urls</th>\n",
       "      <td>28.000000</td>\n",
       "      <td>32.000000</td>\n",
       "      <td>0.000000</td>\n",
       "    </tr>\n",
       "    <tr>\n",
       "      <th>salutations</th>\n",
       "      <td>0.000000</td>\n",
       "      <td>0.000000</td>\n",
       "      <td>0.000000</td>\n",
       "    </tr>\n",
       "    <tr>\n",
       "      <th>designation</th>\n",
       "      <td>1.000000</td>\n",
       "      <td>0.000000</td>\n",
       "      <td>0.000000</td>\n",
       "    </tr>\n",
       "    <tr>\n",
       "      <th>chars_in_subject</th>\n",
       "      <td>47.000000</td>\n",
       "      <td>46.000000</td>\n",
       "      <td>21.000000</td>\n",
       "    </tr>\n",
       "    <tr>\n",
       "      <th>chars_in_body</th>\n",
       "      <td>25556.000000</td>\n",
       "      <td>19930.000000</td>\n",
       "      <td>4.000000</td>\n",
       "    </tr>\n",
       "    <tr>\n",
       "      <th>updates</th>\n",
       "      <td>0.000000</td>\n",
       "      <td>1.000000</td>\n",
       "      <td>0.000000</td>\n",
       "    </tr>\n",
       "    <tr>\n",
       "      <th>personal</th>\n",
       "      <td>1.000000</td>\n",
       "      <td>1.000000</td>\n",
       "      <td>1.000000</td>\n",
       "    </tr>\n",
       "    <tr>\n",
       "      <th>promotions</th>\n",
       "      <td>0.000000</td>\n",
       "      <td>0.000000</td>\n",
       "      <td>0.000000</td>\n",
       "    </tr>\n",
       "    <tr>\n",
       "      <th>forums</th>\n",
       "      <td>0.000000</td>\n",
       "      <td>0.000000</td>\n",
       "      <td>0.000000</td>\n",
       "    </tr>\n",
       "    <tr>\n",
       "      <th>purchases</th>\n",
       "      <td>0.000000</td>\n",
       "      <td>0.000000</td>\n",
       "      <td>0.000000</td>\n",
       "    </tr>\n",
       "    <tr>\n",
       "      <th>travel</th>\n",
       "      <td>0.000000</td>\n",
       "      <td>0.000000</td>\n",
       "      <td>0.000000</td>\n",
       "    </tr>\n",
       "    <tr>\n",
       "      <th>spam</th>\n",
       "      <td>0.000000</td>\n",
       "      <td>0.000000</td>\n",
       "      <td>0.000000</td>\n",
       "    </tr>\n",
       "    <tr>\n",
       "      <th>social</th>\n",
       "      <td>1.000000</td>\n",
       "      <td>0.000000</td>\n",
       "      <td>1.000000</td>\n",
       "    </tr>\n",
       "    <tr>\n",
       "      <th>month</th>\n",
       "      <td>10.000000</td>\n",
       "      <td>4.000000</td>\n",
       "      <td>10.000000</td>\n",
       "    </tr>\n",
       "    <tr>\n",
       "      <th>weekday</th>\n",
       "      <td>0.000000</td>\n",
       "      <td>3.000000</td>\n",
       "      <td>3.000000</td>\n",
       "    </tr>\n",
       "    <tr>\n",
       "      <th>hour</th>\n",
       "      <td>8.000000</td>\n",
       "      <td>16.000000</td>\n",
       "      <td>1.000000</td>\n",
       "    </tr>\n",
       "    <tr>\n",
       "      <th>org_target_updates</th>\n",
       "      <td>0.000000</td>\n",
       "      <td>1.000000</td>\n",
       "      <td>0.160156</td>\n",
       "    </tr>\n",
       "    <tr>\n",
       "      <th>org_target_personal</th>\n",
       "      <td>1.000000</td>\n",
       "      <td>1.000000</td>\n",
       "      <td>0.613281</td>\n",
       "    </tr>\n",
       "    <tr>\n",
       "      <th>org_target_promotions</th>\n",
       "      <td>0.000000</td>\n",
       "      <td>0.000000</td>\n",
       "      <td>0.492188</td>\n",
       "    </tr>\n",
       "    <tr>\n",
       "      <th>org_target_forums</th>\n",
       "      <td>0.000000</td>\n",
       "      <td>0.000000</td>\n",
       "      <td>0.000000</td>\n",
       "    </tr>\n",
       "    <tr>\n",
       "      <th>org_target_purchases</th>\n",
       "      <td>0.000000</td>\n",
       "      <td>0.000000</td>\n",
       "      <td>0.003906</td>\n",
       "    </tr>\n",
       "    <tr>\n",
       "      <th>org_target_travel</th>\n",
       "      <td>0.000000</td>\n",
       "      <td>0.000000</td>\n",
       "      <td>0.000000</td>\n",
       "    </tr>\n",
       "    <tr>\n",
       "      <th>org_target_spam</th>\n",
       "      <td>0.000000</td>\n",
       "      <td>0.000000</td>\n",
       "      <td>0.007812</td>\n",
       "    </tr>\n",
       "    <tr>\n",
       "      <th>org_target_social</th>\n",
       "      <td>1.000000</td>\n",
       "      <td>0.000000</td>\n",
       "      <td>0.351562</td>\n",
       "    </tr>\n",
       "    <tr>\n",
       "      <th>tld_target_updates</th>\n",
       "      <td>0.327731</td>\n",
       "      <td>0.475379</td>\n",
       "      <td>0.017241</td>\n",
       "    </tr>\n",
       "    <tr>\n",
       "      <th>tld_target_personal</th>\n",
       "      <td>0.911765</td>\n",
       "      <td>0.720851</td>\n",
       "      <td>1.000000</td>\n",
       "    </tr>\n",
       "    <tr>\n",
       "      <th>tld_target_promotions</th>\n",
       "      <td>0.063025</td>\n",
       "      <td>0.195947</td>\n",
       "      <td>0.000000</td>\n",
       "    </tr>\n",
       "    <tr>\n",
       "      <th>tld_target_forums</th>\n",
       "      <td>0.000000</td>\n",
       "      <td>0.065259</td>\n",
       "      <td>0.000000</td>\n",
       "    </tr>\n",
       "    <tr>\n",
       "      <th>tld_target_purchases</th>\n",
       "      <td>0.000000</td>\n",
       "      <td>0.003396</td>\n",
       "      <td>0.000000</td>\n",
       "    </tr>\n",
       "    <tr>\n",
       "      <th>tld_target_travel</th>\n",
       "      <td>0.000000</td>\n",
       "      <td>0.001868</td>\n",
       "      <td>0.000000</td>\n",
       "    </tr>\n",
       "    <tr>\n",
       "      <th>tld_target_spam</th>\n",
       "      <td>0.004202</td>\n",
       "      <td>0.002377</td>\n",
       "      <td>0.000000</td>\n",
       "    </tr>\n",
       "    <tr>\n",
       "      <th>tld_target_social</th>\n",
       "      <td>0.563025</td>\n",
       "      <td>0.202570</td>\n",
       "      <td>0.982759</td>\n",
       "    </tr>\n",
       "    <tr>\n",
       "      <th>mail_type__Multipart/Alternative</th>\n",
       "      <td>0.000000</td>\n",
       "      <td>0.000000</td>\n",
       "      <td>0.000000</td>\n",
       "    </tr>\n",
       "    <tr>\n",
       "      <th>mail_type__Multipart/Mixed</th>\n",
       "      <td>0.000000</td>\n",
       "      <td>0.000000</td>\n",
       "      <td>0.000000</td>\n",
       "    </tr>\n",
       "    <tr>\n",
       "      <th>mail_type__Text/Html</th>\n",
       "      <td>0.000000</td>\n",
       "      <td>0.000000</td>\n",
       "      <td>0.000000</td>\n",
       "    </tr>\n",
       "    <tr>\n",
       "      <th>mail_type__multipart/alternative</th>\n",
       "      <td>1.000000</td>\n",
       "      <td>1.000000</td>\n",
       "      <td>0.000000</td>\n",
       "    </tr>\n",
       "    <tr>\n",
       "      <th>mail_type__multipart/mixed</th>\n",
       "      <td>0.000000</td>\n",
       "      <td>0.000000</td>\n",
       "      <td>1.000000</td>\n",
       "    </tr>\n",
       "    <tr>\n",
       "      <th>mail_type__multipart/related</th>\n",
       "      <td>0.000000</td>\n",
       "      <td>0.000000</td>\n",
       "      <td>0.000000</td>\n",
       "    </tr>\n",
       "    <tr>\n",
       "      <th>mail_type__multipart/report</th>\n",
       "      <td>0.000000</td>\n",
       "      <td>0.000000</td>\n",
       "      <td>0.000000</td>\n",
       "    </tr>\n",
       "    <tr>\n",
       "      <th>mail_type__multipart/signed</th>\n",
       "      <td>0.000000</td>\n",
       "      <td>0.000000</td>\n",
       "      <td>0.000000</td>\n",
       "    </tr>\n",
       "    <tr>\n",
       "      <th>mail_type__text/html</th>\n",
       "      <td>0.000000</td>\n",
       "      <td>0.000000</td>\n",
       "      <td>0.000000</td>\n",
       "    </tr>\n",
       "    <tr>\n",
       "      <th>mail_type__text/html</th>\n",
       "      <td>0.000000</td>\n",
       "      <td>0.000000</td>\n",
       "      <td>0.000000</td>\n",
       "    </tr>\n",
       "    <tr>\n",
       "      <th>mail_type__text/plain</th>\n",
       "      <td>0.000000</td>\n",
       "      <td>0.000000</td>\n",
       "      <td>0.000000</td>\n",
       "    </tr>\n",
       "  </tbody>\n",
       "</table>\n",
       "</div>"
      ],
      "text/plain": [
       "                                             0             1          2\n",
       "ccs                                   0.000000      0.000000   0.000000\n",
       "bcced                                 0.000000      0.000000   0.000000\n",
       "images                                4.000000      6.000000   0.000000\n",
       "urls                                 28.000000     32.000000   0.000000\n",
       "salutations                           0.000000      0.000000   0.000000\n",
       "designation                           1.000000      0.000000   0.000000\n",
       "chars_in_subject                     47.000000     46.000000  21.000000\n",
       "chars_in_body                     25556.000000  19930.000000   4.000000\n",
       "updates                               0.000000      1.000000   0.000000\n",
       "personal                              1.000000      1.000000   1.000000\n",
       "promotions                            0.000000      0.000000   0.000000\n",
       "forums                                0.000000      0.000000   0.000000\n",
       "purchases                             0.000000      0.000000   0.000000\n",
       "travel                                0.000000      0.000000   0.000000\n",
       "spam                                  0.000000      0.000000   0.000000\n",
       "social                                1.000000      0.000000   1.000000\n",
       "month                                10.000000      4.000000  10.000000\n",
       "weekday                               0.000000      3.000000   3.000000\n",
       "hour                                  8.000000     16.000000   1.000000\n",
       "org_target_updates                    0.000000      1.000000   0.160156\n",
       "org_target_personal                   1.000000      1.000000   0.613281\n",
       "org_target_promotions                 0.000000      0.000000   0.492188\n",
       "org_target_forums                     0.000000      0.000000   0.000000\n",
       "org_target_purchases                  0.000000      0.000000   0.003906\n",
       "org_target_travel                     0.000000      0.000000   0.000000\n",
       "org_target_spam                       0.000000      0.000000   0.007812\n",
       "org_target_social                     1.000000      0.000000   0.351562\n",
       "tld_target_updates                    0.327731      0.475379   0.017241\n",
       "tld_target_personal                   0.911765      0.720851   1.000000\n",
       "tld_target_promotions                 0.063025      0.195947   0.000000\n",
       "tld_target_forums                     0.000000      0.065259   0.000000\n",
       "tld_target_purchases                  0.000000      0.003396   0.000000\n",
       "tld_target_travel                     0.000000      0.001868   0.000000\n",
       "tld_target_spam                       0.004202      0.002377   0.000000\n",
       "tld_target_social                     0.563025      0.202570   0.982759\n",
       "mail_type__Multipart/Alternative      0.000000      0.000000   0.000000\n",
       "mail_type__Multipart/Mixed            0.000000      0.000000   0.000000\n",
       "mail_type__Text/Html                  0.000000      0.000000   0.000000\n",
       "mail_type__multipart/alternative      1.000000      1.000000   0.000000\n",
       "mail_type__multipart/mixed            0.000000      0.000000   1.000000\n",
       "mail_type__multipart/related          0.000000      0.000000   0.000000\n",
       "mail_type__multipart/report           0.000000      0.000000   0.000000\n",
       "mail_type__multipart/signed           0.000000      0.000000   0.000000\n",
       "mail_type__text/html                  0.000000      0.000000   0.000000\n",
       "mail_type__text/html                  0.000000      0.000000   0.000000\n",
       "mail_type__text/plain                 0.000000      0.000000   0.000000"
      ]
     },
     "execution_count": 52,
     "metadata": {},
     "output_type": "execute_result"
    }
   ],
   "source": [
    "df.head(3).T"
   ]
  },
  {
   "cell_type": "code",
   "execution_count": 53,
   "metadata": {},
   "outputs": [
    {
     "name": "stdout",
     "output_type": "stream",
     "text": [
      "<class 'pandas.core.frame.DataFrame'>\n",
      "Int64Index: 37939 entries, 0 to 39670\n",
      "Data columns (total 46 columns):\n",
      " #   Column                            Non-Null Count  Dtype  \n",
      "---  ------                            --------------  -----  \n",
      " 0   ccs                               37939 non-null  int64  \n",
      " 1   bcced                             37939 non-null  int64  \n",
      " 2   images                            37939 non-null  int64  \n",
      " 3   urls                              37939 non-null  int64  \n",
      " 4   salutations                       37939 non-null  int64  \n",
      " 5   designation                       37939 non-null  int64  \n",
      " 6   chars_in_subject                  37939 non-null  float64\n",
      " 7   chars_in_body                     37939 non-null  int64  \n",
      " 8   updates                           37939 non-null  int64  \n",
      " 9   personal                          37939 non-null  int64  \n",
      " 10  promotions                        37939 non-null  int64  \n",
      " 11  forums                            37939 non-null  int64  \n",
      " 12  purchases                         37939 non-null  int64  \n",
      " 13  travel                            37939 non-null  int64  \n",
      " 14  spam                              37939 non-null  int64  \n",
      " 15  social                            37939 non-null  int64  \n",
      " 16  month                             37893 non-null  float64\n",
      " 17  weekday                           37893 non-null  float64\n",
      " 18  hour                              37893 non-null  float64\n",
      " 19  org_target_updates                37939 non-null  float64\n",
      " 20  org_target_personal               37939 non-null  float64\n",
      " 21  org_target_promotions             37939 non-null  float64\n",
      " 22  org_target_forums                 37939 non-null  float64\n",
      " 23  org_target_purchases              37939 non-null  float64\n",
      " 24  org_target_travel                 37939 non-null  float64\n",
      " 25  org_target_spam                   37939 non-null  float64\n",
      " 26  org_target_social                 37939 non-null  float64\n",
      " 27  tld_target_updates                37939 non-null  float64\n",
      " 28  tld_target_personal               37939 non-null  float64\n",
      " 29  tld_target_promotions             37939 non-null  float64\n",
      " 30  tld_target_forums                 37939 non-null  float64\n",
      " 31  tld_target_purchases              37939 non-null  float64\n",
      " 32  tld_target_travel                 37939 non-null  float64\n",
      " 33  tld_target_spam                   37939 non-null  float64\n",
      " 34  tld_target_social                 37939 non-null  float64\n",
      " 35  mail_type__Multipart/Alternative  37939 non-null  uint8  \n",
      " 36  mail_type__Multipart/Mixed        37939 non-null  uint8  \n",
      " 37  mail_type__Text/Html              37939 non-null  uint8  \n",
      " 38  mail_type__multipart/alternative  37939 non-null  uint8  \n",
      " 39  mail_type__multipart/mixed        37939 non-null  uint8  \n",
      " 40  mail_type__multipart/related      37939 non-null  uint8  \n",
      " 41  mail_type__multipart/report       37939 non-null  uint8  \n",
      " 42  mail_type__multipart/signed       37939 non-null  uint8  \n",
      " 43  mail_type__text/html              37939 non-null  uint8  \n",
      " 44  mail_type__text/html              37939 non-null  uint8  \n",
      " 45  mail_type__text/plain             37939 non-null  uint8  \n",
      "dtypes: float64(20), int64(15), uint8(11)\n",
      "memory usage: 10.8 MB\n"
     ]
    }
   ],
   "source": [
    "df.info()"
   ]
  },
  {
   "cell_type": "markdown",
   "metadata": {},
   "source": [
    "# Model"
   ]
  },
  {
   "cell_type": "markdown",
   "metadata": {},
   "source": [
    "## For one class first"
   ]
  },
  {
   "cell_type": "code",
   "execution_count": 54,
   "metadata": {},
   "outputs": [
    {
     "name": "stdout",
     "output_type": "stream",
     "text": [
      "Current class: updates\n"
     ]
    }
   ],
   "source": [
    "k = 0\n",
    "print(f\"Current class: {list_classes[k]}\")"
   ]
  },
  {
   "cell_type": "markdown",
   "metadata": {},
   "source": [
    "### Splitting train / test"
   ]
  },
  {
   "cell_type": "code",
   "execution_count": 55,
   "metadata": {},
   "outputs": [],
   "source": [
    "X = df.drop(columns=list_classes)\n",
    "y = df[list_classes[k]]"
   ]
  },
  {
   "cell_type": "code",
   "execution_count": 62,
   "metadata": {},
   "outputs": [
    {
     "data": {
      "text/plain": [
       "0        0\n",
       "1        1\n",
       "2        0\n",
       "3        0\n",
       "4        0\n",
       "        ..\n",
       "39665    1\n",
       "39666    0\n",
       "39668    0\n",
       "39669    1\n",
       "39670    1\n",
       "Name: updates, Length: 37939, dtype: int64"
      ]
     },
     "execution_count": 62,
     "metadata": {},
     "output_type": "execute_result"
    }
   ],
   "source": [
    "y"
   ]
  },
  {
   "cell_type": "code",
   "execution_count": 56,
   "metadata": {},
   "outputs": [],
   "source": [
    "X_train, X_test, y_train, y_test = train_test_split(\n",
    "    X, y, test_size=0.2, random_state=0, stratify=y)"
   ]
  },
  {
   "cell_type": "code",
   "execution_count": 57,
   "metadata": {},
   "outputs": [
    {
     "data": {
      "text/plain": [
       "0.2"
      ]
     },
     "execution_count": 57,
     "metadata": {},
     "output_type": "execute_result"
    }
   ],
   "source": [
    "y_test.sum(axis=0) / (y_train.sum(axis=0) + y_test.sum(axis=0))"
   ]
  },
  {
   "cell_type": "markdown",
   "metadata": {},
   "source": [
    "For XGBoost:"
   ]
  },
  {
   "cell_type": "code",
   "execution_count": 58,
   "metadata": {},
   "outputs": [],
   "source": [
    "D_train = xgb.DMatrix(X_train, label=y_train)\n",
    "D_test = xgb.DMatrix(X_test, label=y_test)"
   ]
  },
  {
   "cell_type": "markdown",
   "metadata": {},
   "source": [
    "### Prediction"
   ]
  },
  {
   "cell_type": "code",
   "execution_count": 64,
   "metadata": {},
   "outputs": [
    {
     "name": "stderr",
     "output_type": "stream",
     "text": [
      "/Users/Tony/opt/anaconda3/envs/ml/lib/python3.8/site-packages/xgboost/sklearn.py:888: UserWarning: The use of label encoder in XGBClassifier is deprecated and will be removed in a future release. To remove this warning, do the following: 1) Pass option use_label_encoder=False when constructing XGBClassifier object; and 2) Encode your labels (y) as integers starting with 0, i.e. 0, 1, 2, ..., [num_class - 1].\n",
      "  warnings.warn(label_encoder_deprecation_msg, UserWarning)\n"
     ]
    },
    {
     "name": "stdout",
     "output_type": "stream",
     "text": [
      "[12:25:39] WARNING: /Users/runner/miniforge3/conda-bld/xgboost_1607604592557/work/src/learner.cc:1061: Starting in XGBoost 1.3.0, the default evaluation metric used with the objective 'binary:logistic' was changed from 'error' to 'logloss'. Explicitly set eval_metric if you'd like to restore the old behavior.\n"
     ]
    },
    {
     "data": {
      "text/plain": [
       "XGBClassifier(base_score=0.5, booster='gbtree', colsample_bylevel=1,\n",
       "              colsample_bynode=1, colsample_bytree=1, gamma=0, gpu_id=-1,\n",
       "              importance_type='gain', interaction_constraints='',\n",
       "              learning_rate=0.300000012, max_delta_step=0, max_depth=6,\n",
       "              min_child_weight=1, missing=nan, monotone_constraints='()',\n",
       "              n_estimators=100, n_jobs=8, num_parallel_tree=1, random_state=0,\n",
       "              reg_alpha=0, reg_lambda=1, scale_pos_weight=1, subsample=1,\n",
       "              tree_method='exact', validate_parameters=1, verbosity=None)"
      ]
     },
     "execution_count": 64,
     "metadata": {},
     "output_type": "execute_result"
    }
   ],
   "source": [
    "model = xgb.XGBClassifier(n_estimators=100)\n",
    "\n",
    "\n",
    "model.fit(X_train, y_train)"
   ]
  },
  {
   "cell_type": "code",
   "execution_count": 67,
   "metadata": {},
   "outputs": [],
   "source": [
    "y_preds = model.predict(X_test)"
   ]
  },
  {
   "cell_type": "code",
   "execution_count": 69,
   "metadata": {},
   "outputs": [
    {
     "name": "stdout",
     "output_type": "stream",
     "text": [
      "              precision    recall  f1-score   support\n",
      "\n",
      "           0       0.95      0.96      0.95      4984\n",
      "           1       0.92      0.90      0.91      2604\n",
      "\n",
      "    accuracy                           0.94      7588\n",
      "   macro avg       0.94      0.93      0.93      7588\n",
      "weighted avg       0.94      0.94      0.94      7588\n",
      "\n"
     ]
    }
   ],
   "source": [
    "print(classification_report(y_test, y_preds))"
   ]
  },
  {
   "cell_type": "code",
   "execution_count": null,
   "metadata": {},
   "outputs": [],
   "source": []
  }
 ],
 "metadata": {
  "kernelspec": {
   "display_name": "Python 3",
   "language": "python",
   "name": "python3"
  },
  "language_info": {
   "codemirror_mode": {
    "name": "ipython",
    "version": 3
   },
   "file_extension": ".py",
   "mimetype": "text/x-python",
   "name": "python",
   "nbconvert_exporter": "python",
   "pygments_lexer": "ipython3",
   "version": "3.8.5"
  },
  "toc": {
   "base_numbering": 1,
   "nav_menu": {},
   "number_sections": true,
   "sideBar": true,
   "skip_h1_title": false,
   "title_cell": "Table of Contents",
   "title_sidebar": "Contents",
   "toc_cell": true,
   "toc_position": {
    "height": "calc(100% - 180px)",
    "left": "10px",
    "top": "150px",
    "width": "256px"
   },
   "toc_section_display": true,
   "toc_window_display": true
  },
  "varInspector": {
   "cols": {
    "lenName": 16,
    "lenType": 16,
    "lenVar": 40
   },
   "kernels_config": {
    "python": {
     "delete_cmd_postfix": "",
     "delete_cmd_prefix": "del ",
     "library": "var_list.py",
     "varRefreshCmd": "print(var_dic_list())"
    },
    "r": {
     "delete_cmd_postfix": ") ",
     "delete_cmd_prefix": "rm(",
     "library": "var_list.r",
     "varRefreshCmd": "cat(var_dic_list()) "
    }
   },
   "types_to_exclude": [
    "module",
    "function",
    "builtin_function_or_method",
    "instance",
    "_Feature"
   ],
   "window_display": false
  }
 },
 "nbformat": 4,
 "nbformat_minor": 4
}
