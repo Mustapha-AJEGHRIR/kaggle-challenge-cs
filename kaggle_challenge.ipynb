{
 "cells": [
  {
   "cell_type": "markdown",
   "metadata": {},
   "source": [
    "<center> <font size=6> Kaggle challenge </font> </center>\n",
    "<center> <i> Team ?? </i> </center>"
   ]
  },
  {
   "cell_type": "markdown",
   "metadata": {
    "toc": true
   },
   "source": [
    "<h1>Table of Contents<span class=\"tocSkip\"></span></h1>\n",
    "<div class=\"toc\"><ul class=\"toc-item\"><li><span><a href=\"#Import-modules\" data-toc-modified-id=\"Import-modules-1\"><span class=\"toc-item-num\">1&nbsp;&nbsp;</span>Import modules</a></span></li><li><span><a href=\"#Import-data\" data-toc-modified-id=\"Import-data-2\"><span class=\"toc-item-num\">2&nbsp;&nbsp;</span>Import data</a></span></li><li><span><a href=\"#Information-about-the-dataset\" data-toc-modified-id=\"Information-about-the-dataset-3\"><span class=\"toc-item-num\">3&nbsp;&nbsp;</span>Information about the dataset</a></span><ul class=\"toc-item\"><li><span><a href=\"#Dataset-Features\" data-toc-modified-id=\"Dataset-Features-3.1\"><span class=\"toc-item-num\">3.1&nbsp;&nbsp;</span>Dataset Features</a></span></li><li><span><a href=\"#Class-Labels-(8-Classes)\" data-toc-modified-id=\"Class-Labels-(8-Classes)-3.2\"><span class=\"toc-item-num\">3.2&nbsp;&nbsp;</span>Class Labels (8 Classes)</a></span></li><li><span><a href=\"#Profile-Report\" data-toc-modified-id=\"Profile-Report-3.3\"><span class=\"toc-item-num\">3.3&nbsp;&nbsp;</span>Profile Report</a></span></li></ul></li><li><span><a href=\"#Preprocessing\" data-toc-modified-id=\"Preprocessing-4\"><span class=\"toc-item-num\">4&nbsp;&nbsp;</span>Preprocessing</a></span><ul class=\"toc-item\"><li><span><a href=\"#Date\" data-toc-modified-id=\"Date-4.1\"><span class=\"toc-item-num\">4.1&nbsp;&nbsp;</span>Date</a></span><ul class=\"toc-item\"><li><span><a href=\"#Regex-parsing-for-date-extraction\" data-toc-modified-id=\"Regex-parsing-for-date-extraction-4.1.1\"><span class=\"toc-item-num\">4.1.1&nbsp;&nbsp;</span>Regex parsing for date extraction</a></span></li><li><span><a href=\"#Applying-transformation-to-the-dataset\" data-toc-modified-id=\"Applying-transformation-to-the-dataset-4.1.2\"><span class=\"toc-item-num\">4.1.2&nbsp;&nbsp;</span>Applying transformation to the dataset</a></span></li></ul></li></ul></li><li><span><a href=\"#Data-Analysis\" data-toc-modified-id=\"Data-Analysis-5\"><span class=\"toc-item-num\">5&nbsp;&nbsp;</span>Data Analysis</a></span></li><li><span><a href=\"#LightGBM\" data-toc-modified-id=\"LightGBM-6\"><span class=\"toc-item-num\">6&nbsp;&nbsp;</span>LightGBM</a></span><ul class=\"toc-item\"><li><span><a href=\"#NA-Cleaning\" data-toc-modified-id=\"NA-Cleaning-6.1\"><span class=\"toc-item-num\">6.1&nbsp;&nbsp;</span>NA Cleaning</a></span></li><li><span><a href=\"#For-one-class-first\" data-toc-modified-id=\"For-one-class-first-6.2\"><span class=\"toc-item-num\">6.2&nbsp;&nbsp;</span>For one class first</a></span></li></ul></li></ul></div>"
   ]
  },
  {
   "cell_type": "markdown",
   "metadata": {},
   "source": [
    "# Import modules"
   ]
  },
  {
   "cell_type": "code",
   "execution_count": 77,
   "metadata": {},
   "outputs": [],
   "source": [
    "import os\n",
    "\n",
    "import numpy as np\n",
    "\n",
    "import pandas as pd\n",
    "from pandas_profiling import ProfileReport\n",
    "\n",
    "import matplotlib.pyplot as plt\n",
    "import seaborn as sns\n",
    "\n",
    "import re\n",
    "\n",
    "from sklearn.model_selection import train_test_split\n",
    "from sklearn.preprocessing import OrdinalEncoder\n",
    "\n",
    "import lightgbm as lgb"
   ]
  },
  {
   "cell_type": "markdown",
   "metadata": {},
   "source": [
    "# Import data"
   ]
  },
  {
   "cell_type": "code",
   "execution_count": 2,
   "metadata": {},
   "outputs": [
    {
     "data": {
      "text/plain": [
       "['skeleton_code_ml.py',\n",
       " 'LICENSE',\n",
       " 'profile_report.html',\n",
       " 'sample_submission_ml.csv',\n",
       " '2EL1730-ML-Kaggle_Challenge_Description.pdf',\n",
       " 'test_ml.csv',\n",
       " 'README.md',\n",
       " 'train_ml.csv',\n",
       " '.gitignore',\n",
       " '.ipynb_checkpoints',\n",
       " '2EL1730-ML-Kaggle_Challenge_Instructions.pdf',\n",
       " '.git',\n",
       " 'kaggle_challenge.ipynb']"
      ]
     },
     "execution_count": 2,
     "metadata": {},
     "output_type": "execute_result"
    }
   ],
   "source": [
    "os.listdir()"
   ]
  },
  {
   "cell_type": "code",
   "execution_count": 3,
   "metadata": {
    "scrolled": true
   },
   "outputs": [
    {
     "data": {
      "text/html": [
       "<div>\n",
       "<style scoped>\n",
       "    .dataframe tbody tr th:only-of-type {\n",
       "        vertical-align: middle;\n",
       "    }\n",
       "\n",
       "    .dataframe tbody tr th {\n",
       "        vertical-align: top;\n",
       "    }\n",
       "\n",
       "    .dataframe thead th {\n",
       "        text-align: right;\n",
       "    }\n",
       "</style>\n",
       "<table border=\"1\" class=\"dataframe\">\n",
       "  <thead>\n",
       "    <tr style=\"text-align: right;\">\n",
       "      <th></th>\n",
       "      <th>date</th>\n",
       "      <th>org</th>\n",
       "      <th>tld</th>\n",
       "      <th>ccs</th>\n",
       "      <th>bcced</th>\n",
       "      <th>mail_type</th>\n",
       "      <th>images</th>\n",
       "      <th>urls</th>\n",
       "      <th>salutations</th>\n",
       "      <th>designation</th>\n",
       "      <th>chars_in_subject</th>\n",
       "      <th>chars_in_body</th>\n",
       "      <th>updates</th>\n",
       "      <th>personal</th>\n",
       "      <th>promotions</th>\n",
       "      <th>forums</th>\n",
       "      <th>purchases</th>\n",
       "      <th>travel</th>\n",
       "      <th>spam</th>\n",
       "      <th>social</th>\n",
       "    </tr>\n",
       "  </thead>\n",
       "  <tbody>\n",
       "    <tr>\n",
       "      <th>0</th>\n",
       "      <td>Mon, 15 Oct 2018 08:03:09 +0000 (UTC)</td>\n",
       "      <td>researchgatemail</td>\n",
       "      <td>net</td>\n",
       "      <td>0</td>\n",
       "      <td>0</td>\n",
       "      <td>multipart/alternative</td>\n",
       "      <td>4</td>\n",
       "      <td>28</td>\n",
       "      <td>0</td>\n",
       "      <td>1</td>\n",
       "      <td>47.0</td>\n",
       "      <td>25556</td>\n",
       "      <td>0</td>\n",
       "      <td>1</td>\n",
       "      <td>0</td>\n",
       "      <td>0</td>\n",
       "      <td>0</td>\n",
       "      <td>0</td>\n",
       "      <td>0</td>\n",
       "      <td>1</td>\n",
       "    </tr>\n",
       "    <tr>\n",
       "      <th>1</th>\n",
       "      <td>Thu, 17 Apr 2014 09:12:33 -0700 (PDT)</td>\n",
       "      <td>no-ip</td>\n",
       "      <td>com</td>\n",
       "      <td>0</td>\n",
       "      <td>0</td>\n",
       "      <td>multipart/alternative</td>\n",
       "      <td>6</td>\n",
       "      <td>32</td>\n",
       "      <td>0</td>\n",
       "      <td>0</td>\n",
       "      <td>46.0</td>\n",
       "      <td>19930</td>\n",
       "      <td>1</td>\n",
       "      <td>1</td>\n",
       "      <td>0</td>\n",
       "      <td>0</td>\n",
       "      <td>0</td>\n",
       "      <td>0</td>\n",
       "      <td>0</td>\n",
       "      <td>0</td>\n",
       "    </tr>\n",
       "    <tr>\n",
       "      <th>2</th>\n",
       "      <td>Thu, 27 Oct 2016 01:36:28 +0000</td>\n",
       "      <td>mail</td>\n",
       "      <td>goodreads.com</td>\n",
       "      <td>0</td>\n",
       "      <td>0</td>\n",
       "      <td>multipart/mixed</td>\n",
       "      <td>0</td>\n",
       "      <td>0</td>\n",
       "      <td>0</td>\n",
       "      <td>0</td>\n",
       "      <td>21.0</td>\n",
       "      <td>4</td>\n",
       "      <td>0</td>\n",
       "      <td>1</td>\n",
       "      <td>0</td>\n",
       "      <td>0</td>\n",
       "      <td>0</td>\n",
       "      <td>0</td>\n",
       "      <td>0</td>\n",
       "      <td>1</td>\n",
       "    </tr>\n",
       "    <tr>\n",
       "      <th>3</th>\n",
       "      <td>Fri, 16 Oct 2020 08:06:31 +0000 (GMT)</td>\n",
       "      <td>insideapple</td>\n",
       "      <td>apple.com</td>\n",
       "      <td>0</td>\n",
       "      <td>0</td>\n",
       "      <td>multipart/alternative</td>\n",
       "      <td>108</td>\n",
       "      <td>171</td>\n",
       "      <td>0</td>\n",
       "      <td>0</td>\n",
       "      <td>52.0</td>\n",
       "      <td>96568</td>\n",
       "      <td>0</td>\n",
       "      <td>0</td>\n",
       "      <td>1</td>\n",
       "      <td>0</td>\n",
       "      <td>0</td>\n",
       "      <td>0</td>\n",
       "      <td>0</td>\n",
       "      <td>0</td>\n",
       "    </tr>\n",
       "    <tr>\n",
       "      <th>4</th>\n",
       "      <td>Thu, 02 Jul 2015 10:16:46 +0000</td>\n",
       "      <td>twitter</td>\n",
       "      <td>com</td>\n",
       "      <td>0</td>\n",
       "      <td>0</td>\n",
       "      <td>multipart/alternative</td>\n",
       "      <td>20</td>\n",
       "      <td>166</td>\n",
       "      <td>0</td>\n",
       "      <td>0</td>\n",
       "      <td>81.0</td>\n",
       "      <td>95131</td>\n",
       "      <td>0</td>\n",
       "      <td>1</td>\n",
       "      <td>0</td>\n",
       "      <td>0</td>\n",
       "      <td>0</td>\n",
       "      <td>0</td>\n",
       "      <td>0</td>\n",
       "      <td>1</td>\n",
       "    </tr>\n",
       "  </tbody>\n",
       "</table>\n",
       "</div>"
      ],
      "text/plain": [
       "                                    date               org            tld  \\\n",
       "0  Mon, 15 Oct 2018 08:03:09 +0000 (UTC)  researchgatemail            net   \n",
       "1  Thu, 17 Apr 2014 09:12:33 -0700 (PDT)             no-ip            com   \n",
       "2        Thu, 27 Oct 2016 01:36:28 +0000              mail  goodreads.com   \n",
       "3  Fri, 16 Oct 2020 08:06:31 +0000 (GMT)       insideapple      apple.com   \n",
       "4        Thu, 02 Jul 2015 10:16:46 +0000           twitter            com   \n",
       "\n",
       "   ccs  bcced              mail_type  images  urls  salutations  designation  \\\n",
       "0    0      0  multipart/alternative       4    28            0            1   \n",
       "1    0      0  multipart/alternative       6    32            0            0   \n",
       "2    0      0        multipart/mixed       0     0            0            0   \n",
       "3    0      0  multipart/alternative     108   171            0            0   \n",
       "4    0      0  multipart/alternative      20   166            0            0   \n",
       "\n",
       "   chars_in_subject  chars_in_body  updates  personal  promotions  forums  \\\n",
       "0              47.0          25556        0         1           0       0   \n",
       "1              46.0          19930        1         1           0       0   \n",
       "2              21.0              4        0         1           0       0   \n",
       "3              52.0          96568        0         0           1       0   \n",
       "4              81.0          95131        0         1           0       0   \n",
       "\n",
       "   purchases  travel  spam  social  \n",
       "0          0       0     0       1  \n",
       "1          0       0     0       0  \n",
       "2          0       0     0       1  \n",
       "3          0       0     0       0  \n",
       "4          0       0     0       1  "
      ]
     },
     "execution_count": 3,
     "metadata": {},
     "output_type": "execute_result"
    }
   ],
   "source": [
    "df = pd.read_csv('train_ml.csv').drop(columns=['Unnamed: 0'])\n",
    "df_test = pd.read_csv('test_ml.csv').drop(columns=['Unnamed: 0'])\n",
    "\n",
    "df.head()"
   ]
  },
  {
   "cell_type": "code",
   "execution_count": 4,
   "metadata": {},
   "outputs": [
    {
     "name": "stdout",
     "output_type": "stream",
     "text": [
      "<class 'pandas.core.frame.DataFrame'>\n",
      "RangeIndex: 39671 entries, 0 to 39670\n",
      "Data columns (total 20 columns):\n",
      " #   Column            Non-Null Count  Dtype  \n",
      "---  ------            --------------  -----  \n",
      " 0   date              39671 non-null  object \n",
      " 1   org               37994 non-null  object \n",
      " 2   tld               37992 non-null  object \n",
      " 3   ccs               39671 non-null  int64  \n",
      " 4   bcced             39671 non-null  int64  \n",
      " 5   mail_type         39573 non-null  object \n",
      " 6   images            39671 non-null  int64  \n",
      " 7   urls              39671 non-null  int64  \n",
      " 8   salutations       39671 non-null  int64  \n",
      " 9   designation       39671 non-null  int64  \n",
      " 10  chars_in_subject  39660 non-null  float64\n",
      " 11  chars_in_body     39671 non-null  int64  \n",
      " 12  updates           39671 non-null  int64  \n",
      " 13  personal          39671 non-null  int64  \n",
      " 14  promotions        39671 non-null  int64  \n",
      " 15  forums            39671 non-null  int64  \n",
      " 16  purchases         39671 non-null  int64  \n",
      " 17  travel            39671 non-null  int64  \n",
      " 18  spam              39671 non-null  int64  \n",
      " 19  social            39671 non-null  int64  \n",
      "dtypes: float64(1), int64(15), object(4)\n",
      "memory usage: 6.1+ MB\n"
     ]
    }
   ],
   "source": [
    "df.info()"
   ]
  },
  {
   "cell_type": "markdown",
   "metadata": {},
   "source": [
    "# Information about the dataset"
   ]
  },
  {
   "cell_type": "markdown",
   "metadata": {},
   "source": [
    "## Dataset Features\n",
    "\n",
    "- date - unix style date format, date-time on which the email was received, e.g. Sat, 2 Jul 2016 11:02:58 +0530\n",
    "- org - organisation of the sender, e.g. centralesupelec, facebook, and google.\n",
    "- tld - top level domain of the organisation, eg. com, ac.in, fr, and org.\n",
    "- ccs - number of emails cced with this email, e.g. 0, 2, and 10.\n",
    "- bcced - is the receiver bcc'd in the email. Can take two values: 0 or 1.\n",
    "- mail_type - type of the mail body, e.g. text/plain and text/html.\n",
    "- images - number of images in the mail body, e.g. 0, 1, and 100.\n",
    "- urls - number of urls in the mail body, e.g. 0, 1, and 50.\n",
    "- salutations - is salutation used in the email? Either 0 or 1.\n",
    "- designation - is designation of the sender mentioned in the email. Either 0 or 1.\n",
    "- chars_in_subject - number of characters in the mail subject, e.g. 0, 1, and 10.\n",
    "- chars_in_body - number of characters in the mail body, e.g. 10 and 10000.\n",
    "- labels - last eight columns represent eight classes, 0 means that label is not present for this row and 1 means that label is present, multiple label columsn can be 1. Label columns are only present in train.csv. test.csv has features only."
   ]
  },
  {
   "cell_type": "markdown",
   "metadata": {},
   "source": [
    "## Class Labels (8 Classes)\n",
    "- updates\n",
    "- personal\n",
    "- promotions\n",
    "- forums\n",
    "- purchases\n",
    "- travel\n",
    "- spam\n",
    "- social"
   ]
  },
  {
   "cell_type": "code",
   "execution_count": 5,
   "metadata": {
    "scrolled": true
   },
   "outputs": [
    {
     "data": {
      "text/plain": [
       "date                   0\n",
       "org                 1677\n",
       "tld                 1679\n",
       "ccs                    0\n",
       "bcced                  0\n",
       "mail_type             98\n",
       "images                 0\n",
       "urls                   0\n",
       "salutations            0\n",
       "designation            0\n",
       "chars_in_subject      11\n",
       "chars_in_body          0\n",
       "updates                0\n",
       "personal               0\n",
       "promotions             0\n",
       "forums                 0\n",
       "purchases              0\n",
       "travel                 0\n",
       "spam                   0\n",
       "social                 0\n",
       "dtype: int64"
      ]
     },
     "execution_count": 5,
     "metadata": {},
     "output_type": "execute_result"
    }
   ],
   "source": [
    "df.isnull().sum()"
   ]
  },
  {
   "cell_type": "markdown",
   "metadata": {},
   "source": [
    "## Profile Report"
   ]
  },
  {
   "cell_type": "code",
   "execution_count": 6,
   "metadata": {
    "scrolled": false
   },
   "outputs": [],
   "source": [
    "# profile = ProfileReport(df, title='Profiling Report')\n",
    "# profile.to_file(\"profile_report.html\")"
   ]
  },
  {
   "cell_type": "markdown",
   "metadata": {},
   "source": [
    "# Preprocessing"
   ]
  },
  {
   "cell_type": "markdown",
   "metadata": {},
   "source": [
    "## Date"
   ]
  },
  {
   "cell_type": "markdown",
   "metadata": {},
   "source": [
    "### Regex parsing for date extraction"
   ]
  },
  {
   "cell_type": "markdown",
   "metadata": {},
   "source": [
    "For one example:"
   ]
  },
  {
   "cell_type": "code",
   "execution_count": 7,
   "metadata": {},
   "outputs": [],
   "source": [
    "string = \"Mon, 15 Oct 2018 08:03:09 +0000 (UTC)\"\n",
    "pattern = r'(\\d{1,2}.*\\d{2}:\\d{2}:\\d{2}) ([+-]\\d{2}\\d{2})'\n",
    "ans = re.search(pattern, string)"
   ]
  },
  {
   "cell_type": "code",
   "execution_count": 8,
   "metadata": {},
   "outputs": [
    {
     "data": {
      "text/plain": [
       "'15 Oct 2018 08:03:09+0000'"
      ]
     },
     "execution_count": 8,
     "metadata": {},
     "output_type": "execute_result"
    }
   ],
   "source": [
    "date = ''.join([ans.group(1), ans.group(2)])\n",
    "date"
   ]
  },
  {
   "cell_type": "code",
   "execution_count": 9,
   "metadata": {},
   "outputs": [
    {
     "data": {
      "text/plain": [
       "Timestamp('2018-10-15 08:03:09+0000', tz='UTC')"
      ]
     },
     "execution_count": 9,
     "metadata": {},
     "output_type": "execute_result"
    }
   ],
   "source": [
    "pd.to_datetime(date)"
   ]
  },
  {
   "cell_type": "markdown",
   "metadata": {},
   "source": [
    "### Applying transformation to the dataset"
   ]
  },
  {
   "cell_type": "markdown",
   "metadata": {},
   "source": [
    "Now let's apply the transformation to the dataset:"
   ]
  },
  {
   "cell_type": "code",
   "execution_count": 10,
   "metadata": {},
   "outputs": [],
   "source": [
    "def format_date(row):\n",
    "    pattern = r'(\\d{1,2}.*\\d{2}:\\d{2}:\\d{2}) ([+-]\\d{2}\\d{2})'\n",
    "    \n",
    "    ans = re.search(pattern, string=row)\n",
    "    \n",
    "    if ans:\n",
    "        if ans.group(1)[1] == ' ':\n",
    "            return ''.join(['0', ans.group(1), ans.group(2)])\n",
    "        else:\n",
    "            return ''.join([ans.group(1), ans.group(2)])\n",
    "    else:\n",
    "        return np.nan"
   ]
  },
  {
   "cell_type": "code",
   "execution_count": 11,
   "metadata": {
    "scrolled": false
   },
   "outputs": [
    {
     "data": {
      "text/plain": [
       "0       2018-10-15 08:03:09+00:00\n",
       "1       2014-04-17 16:12:33+00:00\n",
       "2       2016-10-27 01:36:28+00:00\n",
       "3       2020-10-16 08:06:31+00:00\n",
       "4       2015-07-02 10:16:46+00:00\n",
       "                   ...           \n",
       "39666   2019-10-08 18:58:39+00:00\n",
       "39667   2018-04-03 10:37:48+00:00\n",
       "39668   2017-04-03 13:25:47+00:00\n",
       "39669   2018-06-14 00:46:51+00:00\n",
       "39670   2020-04-17 14:06:27+00:00\n",
       "Name: date, Length: 39671, dtype: datetime64[ns, UTC]"
      ]
     },
     "execution_count": 11,
     "metadata": {},
     "output_type": "execute_result"
    }
   ],
   "source": [
    "df['date'] = pd.to_datetime(df['date'].apply(format_date), utc=True)\n",
    "df['date']"
   ]
  },
  {
   "cell_type": "code",
   "execution_count": 12,
   "metadata": {},
   "outputs": [
    {
     "data": {
      "text/plain": [
       "Timestamp('2018-10-15 08:03:09+0000', tz='UTC')"
      ]
     },
     "execution_count": 12,
     "metadata": {},
     "output_type": "execute_result"
    }
   ],
   "source": [
    "df['date'].iloc[0]"
   ]
  },
  {
   "cell_type": "code",
   "execution_count": 13,
   "metadata": {},
   "outputs": [
    {
     "data": {
      "text/html": [
       "<div>\n",
       "<style scoped>\n",
       "    .dataframe tbody tr th:only-of-type {\n",
       "        vertical-align: middle;\n",
       "    }\n",
       "\n",
       "    .dataframe tbody tr th {\n",
       "        vertical-align: top;\n",
       "    }\n",
       "\n",
       "    .dataframe thead th {\n",
       "        text-align: right;\n",
       "    }\n",
       "</style>\n",
       "<table border=\"1\" class=\"dataframe\">\n",
       "  <thead>\n",
       "    <tr style=\"text-align: right;\">\n",
       "      <th></th>\n",
       "      <th>date</th>\n",
       "      <th>org</th>\n",
       "      <th>tld</th>\n",
       "      <th>ccs</th>\n",
       "      <th>bcced</th>\n",
       "      <th>mail_type</th>\n",
       "      <th>images</th>\n",
       "      <th>urls</th>\n",
       "      <th>salutations</th>\n",
       "      <th>designation</th>\n",
       "      <th>chars_in_subject</th>\n",
       "      <th>chars_in_body</th>\n",
       "      <th>updates</th>\n",
       "      <th>personal</th>\n",
       "      <th>promotions</th>\n",
       "      <th>forums</th>\n",
       "      <th>purchases</th>\n",
       "      <th>travel</th>\n",
       "      <th>spam</th>\n",
       "      <th>social</th>\n",
       "    </tr>\n",
       "  </thead>\n",
       "  <tbody>\n",
       "    <tr>\n",
       "      <th>0</th>\n",
       "      <td>2018-10-15 08:03:09+00:00</td>\n",
       "      <td>researchgatemail</td>\n",
       "      <td>net</td>\n",
       "      <td>0</td>\n",
       "      <td>0</td>\n",
       "      <td>multipart/alternative</td>\n",
       "      <td>4</td>\n",
       "      <td>28</td>\n",
       "      <td>0</td>\n",
       "      <td>1</td>\n",
       "      <td>47.0</td>\n",
       "      <td>25556</td>\n",
       "      <td>0</td>\n",
       "      <td>1</td>\n",
       "      <td>0</td>\n",
       "      <td>0</td>\n",
       "      <td>0</td>\n",
       "      <td>0</td>\n",
       "      <td>0</td>\n",
       "      <td>1</td>\n",
       "    </tr>\n",
       "    <tr>\n",
       "      <th>1</th>\n",
       "      <td>2014-04-17 16:12:33+00:00</td>\n",
       "      <td>no-ip</td>\n",
       "      <td>com</td>\n",
       "      <td>0</td>\n",
       "      <td>0</td>\n",
       "      <td>multipart/alternative</td>\n",
       "      <td>6</td>\n",
       "      <td>32</td>\n",
       "      <td>0</td>\n",
       "      <td>0</td>\n",
       "      <td>46.0</td>\n",
       "      <td>19930</td>\n",
       "      <td>1</td>\n",
       "      <td>1</td>\n",
       "      <td>0</td>\n",
       "      <td>0</td>\n",
       "      <td>0</td>\n",
       "      <td>0</td>\n",
       "      <td>0</td>\n",
       "      <td>0</td>\n",
       "    </tr>\n",
       "    <tr>\n",
       "      <th>2</th>\n",
       "      <td>2016-10-27 01:36:28+00:00</td>\n",
       "      <td>mail</td>\n",
       "      <td>goodreads.com</td>\n",
       "      <td>0</td>\n",
       "      <td>0</td>\n",
       "      <td>multipart/mixed</td>\n",
       "      <td>0</td>\n",
       "      <td>0</td>\n",
       "      <td>0</td>\n",
       "      <td>0</td>\n",
       "      <td>21.0</td>\n",
       "      <td>4</td>\n",
       "      <td>0</td>\n",
       "      <td>1</td>\n",
       "      <td>0</td>\n",
       "      <td>0</td>\n",
       "      <td>0</td>\n",
       "      <td>0</td>\n",
       "      <td>0</td>\n",
       "      <td>1</td>\n",
       "    </tr>\n",
       "    <tr>\n",
       "      <th>3</th>\n",
       "      <td>2020-10-16 08:06:31+00:00</td>\n",
       "      <td>insideapple</td>\n",
       "      <td>apple.com</td>\n",
       "      <td>0</td>\n",
       "      <td>0</td>\n",
       "      <td>multipart/alternative</td>\n",
       "      <td>108</td>\n",
       "      <td>171</td>\n",
       "      <td>0</td>\n",
       "      <td>0</td>\n",
       "      <td>52.0</td>\n",
       "      <td>96568</td>\n",
       "      <td>0</td>\n",
       "      <td>0</td>\n",
       "      <td>1</td>\n",
       "      <td>0</td>\n",
       "      <td>0</td>\n",
       "      <td>0</td>\n",
       "      <td>0</td>\n",
       "      <td>0</td>\n",
       "    </tr>\n",
       "    <tr>\n",
       "      <th>4</th>\n",
       "      <td>2015-07-02 10:16:46+00:00</td>\n",
       "      <td>twitter</td>\n",
       "      <td>com</td>\n",
       "      <td>0</td>\n",
       "      <td>0</td>\n",
       "      <td>multipart/alternative</td>\n",
       "      <td>20</td>\n",
       "      <td>166</td>\n",
       "      <td>0</td>\n",
       "      <td>0</td>\n",
       "      <td>81.0</td>\n",
       "      <td>95131</td>\n",
       "      <td>0</td>\n",
       "      <td>1</td>\n",
       "      <td>0</td>\n",
       "      <td>0</td>\n",
       "      <td>0</td>\n",
       "      <td>0</td>\n",
       "      <td>0</td>\n",
       "      <td>1</td>\n",
       "    </tr>\n",
       "  </tbody>\n",
       "</table>\n",
       "</div>"
      ],
      "text/plain": [
       "                       date               org            tld  ccs  bcced  \\\n",
       "0 2018-10-15 08:03:09+00:00  researchgatemail            net    0      0   \n",
       "1 2014-04-17 16:12:33+00:00             no-ip            com    0      0   \n",
       "2 2016-10-27 01:36:28+00:00              mail  goodreads.com    0      0   \n",
       "3 2020-10-16 08:06:31+00:00       insideapple      apple.com    0      0   \n",
       "4 2015-07-02 10:16:46+00:00           twitter            com    0      0   \n",
       "\n",
       "               mail_type  images  urls  salutations  designation  \\\n",
       "0  multipart/alternative       4    28            0            1   \n",
       "1  multipart/alternative       6    32            0            0   \n",
       "2        multipart/mixed       0     0            0            0   \n",
       "3  multipart/alternative     108   171            0            0   \n",
       "4  multipart/alternative      20   166            0            0   \n",
       "\n",
       "   chars_in_subject  chars_in_body  updates  personal  promotions  forums  \\\n",
       "0              47.0          25556        0         1           0       0   \n",
       "1              46.0          19930        1         1           0       0   \n",
       "2              21.0              4        0         1           0       0   \n",
       "3              52.0          96568        0         0           1       0   \n",
       "4              81.0          95131        0         1           0       0   \n",
       "\n",
       "   purchases  travel  spam  social  \n",
       "0          0       0     0       1  \n",
       "1          0       0     0       0  \n",
       "2          0       0     0       1  \n",
       "3          0       0     0       0  \n",
       "4          0       0     0       1  "
      ]
     },
     "execution_count": 13,
     "metadata": {},
     "output_type": "execute_result"
    }
   ],
   "source": [
    "df.head()"
   ]
  },
  {
   "cell_type": "code",
   "execution_count": 14,
   "metadata": {},
   "outputs": [
    {
     "data": {
      "text/plain": [
       "0        2018-10-15\n",
       "1        2014-04-17\n",
       "2        2016-10-27\n",
       "3        2020-10-16\n",
       "4        2015-07-02\n",
       "            ...    \n",
       "39666    2019-10-08\n",
       "39667    2018-04-03\n",
       "39668    2017-04-03\n",
       "39669    2018-06-14\n",
       "39670    2020-04-17\n",
       "Name: date_day, Length: 39671, dtype: object"
      ]
     },
     "execution_count": 14,
     "metadata": {},
     "output_type": "execute_result"
    }
   ],
   "source": [
    "df['date_day'] = df['date'].dt.date\n",
    "df['date_day']"
   ]
  },
  {
   "cell_type": "code",
   "execution_count": 15,
   "metadata": {},
   "outputs": [
    {
     "data": {
      "text/plain": [
       "2017-04-07    95\n",
       "2017-04-06    86\n",
       "2016-07-06    71\n",
       "2016-07-08    58\n",
       "2016-07-09    56\n",
       "              ..\n",
       "2014-01-15     1\n",
       "2013-08-17     1\n",
       "2014-05-18     1\n",
       "2012-12-01     1\n",
       "2012-06-23     1\n",
       "Name: date_day, Length: 2922, dtype: int64"
      ]
     },
     "execution_count": 15,
     "metadata": {},
     "output_type": "execute_result"
    }
   ],
   "source": [
    "df['date_day'].value_counts()"
   ]
  },
  {
   "cell_type": "code",
   "execution_count": 16,
   "metadata": {},
   "outputs": [
    {
     "data": {
      "image/png": "[encoded data removed]",
      "text/plain": [
       "<Figure size 1440x864 with 1 Axes>"
      ]
     },
     "metadata": {
      "needs_background": "light"
     },
     "output_type": "display_data"
    }
   ],
   "source": [
    "plt.figure(figsize=(20,12))\n",
    "df['date_day'].value_counts().head(40).plot.bar();"
   ]
  },
  {
   "cell_type": "markdown",
   "metadata": {},
   "source": [
    "# Data Analysis"
   ]
  },
  {
   "cell_type": "code",
   "execution_count": 17,
   "metadata": {},
   "outputs": [
    {
     "data": {
      "text/plain": [
       "Index(['date', 'org', 'tld', 'ccs', 'bcced', 'mail_type', 'images', 'urls',\n",
       "       'salutations', 'designation', 'chars_in_subject', 'chars_in_body',\n",
       "       'updates', 'personal', 'promotions', 'forums', 'purchases', 'travel',\n",
       "       'spam', 'social', 'date_day'],\n",
       "      dtype='object')"
      ]
     },
     "execution_count": 17,
     "metadata": {},
     "output_type": "execute_result"
    }
   ],
   "source": [
    "df.columns"
   ]
  },
  {
   "cell_type": "code",
   "execution_count": 18,
   "metadata": {},
   "outputs": [],
   "source": [
    "list_classes = ['updates', 'personal', 'promotions', 'forums', 'purchases', 'travel',\n",
    "       'spam', 'social']"
   ]
  },
  {
   "cell_type": "code",
   "execution_count": 19,
   "metadata": {},
   "outputs": [
    {
     "data": {
      "text/plain": [
       "personal      21767\n",
       "updates       14377\n",
       "promotions     1747\n",
       "forums         1361\n",
       "social          419\n",
       "dtype: int64"
      ]
     },
     "execution_count": 19,
     "metadata": {},
     "output_type": "execute_result"
    }
   ],
   "source": [
    "df[list_classes].idxmax(axis=1).value_counts()"
   ]
  },
  {
   "cell_type": "code",
   "execution_count": 20,
   "metadata": {},
   "outputs": [
    {
     "data": {
      "image/png": "[encoded data removed]",
      "text/plain": [
       "<Figure size 432x288 with 1 Axes>"
      ]
     },
     "metadata": {
      "needs_background": "light"
     },
     "output_type": "display_data"
    }
   ],
   "source": [
    "df[list_classes].idxmax(axis=1).value_counts().plot.bar();"
   ]
  },
  {
   "cell_type": "code",
   "execution_count": 21,
   "metadata": {
    "scrolled": true
   },
   "outputs": [
    {
     "data": {
      "text/html": [
       "<div>\n",
       "<style scoped>\n",
       "    .dataframe tbody tr th:only-of-type {\n",
       "        vertical-align: middle;\n",
       "    }\n",
       "\n",
       "    .dataframe tbody tr th {\n",
       "        vertical-align: top;\n",
       "    }\n",
       "\n",
       "    .dataframe thead th {\n",
       "        text-align: right;\n",
       "    }\n",
       "</style>\n",
       "<table border=\"1\" class=\"dataframe\">\n",
       "  <thead>\n",
       "    <tr style=\"text-align: right;\">\n",
       "      <th></th>\n",
       "      <th>ccs</th>\n",
       "      <th>images</th>\n",
       "      <th>urls</th>\n",
       "      <th>chars_in_subject</th>\n",
       "      <th>chars_in_body</th>\n",
       "    </tr>\n",
       "  </thead>\n",
       "  <tbody>\n",
       "    <tr>\n",
       "      <th>0</th>\n",
       "      <td>0</td>\n",
       "      <td>4</td>\n",
       "      <td>28</td>\n",
       "      <td>47.0</td>\n",
       "      <td>25556</td>\n",
       "    </tr>\n",
       "    <tr>\n",
       "      <th>1</th>\n",
       "      <td>0</td>\n",
       "      <td>6</td>\n",
       "      <td>32</td>\n",
       "      <td>46.0</td>\n",
       "      <td>19930</td>\n",
       "    </tr>\n",
       "    <tr>\n",
       "      <th>2</th>\n",
       "      <td>0</td>\n",
       "      <td>0</td>\n",
       "      <td>0</td>\n",
       "      <td>21.0</td>\n",
       "      <td>4</td>\n",
       "    </tr>\n",
       "    <tr>\n",
       "      <th>3</th>\n",
       "      <td>0</td>\n",
       "      <td>108</td>\n",
       "      <td>171</td>\n",
       "      <td>52.0</td>\n",
       "      <td>96568</td>\n",
       "    </tr>\n",
       "    <tr>\n",
       "      <th>4</th>\n",
       "      <td>0</td>\n",
       "      <td>20</td>\n",
       "      <td>166</td>\n",
       "      <td>81.0</td>\n",
       "      <td>95131</td>\n",
       "    </tr>\n",
       "    <tr>\n",
       "      <th>...</th>\n",
       "      <td>...</td>\n",
       "      <td>...</td>\n",
       "      <td>...</td>\n",
       "      <td>...</td>\n",
       "      <td>...</td>\n",
       "    </tr>\n",
       "    <tr>\n",
       "      <th>39666</th>\n",
       "      <td>0</td>\n",
       "      <td>11</td>\n",
       "      <td>31</td>\n",
       "      <td>32.0</td>\n",
       "      <td>44952</td>\n",
       "    </tr>\n",
       "    <tr>\n",
       "      <th>39667</th>\n",
       "      <td>0</td>\n",
       "      <td>0</td>\n",
       "      <td>0</td>\n",
       "      <td>57.0</td>\n",
       "      <td>721</td>\n",
       "    </tr>\n",
       "    <tr>\n",
       "      <th>39668</th>\n",
       "      <td>0</td>\n",
       "      <td>0</td>\n",
       "      <td>0</td>\n",
       "      <td>28.0</td>\n",
       "      <td>571</td>\n",
       "    </tr>\n",
       "    <tr>\n",
       "      <th>39669</th>\n",
       "      <td>0</td>\n",
       "      <td>27</td>\n",
       "      <td>136</td>\n",
       "      <td>24.0</td>\n",
       "      <td>92847</td>\n",
       "    </tr>\n",
       "    <tr>\n",
       "      <th>39670</th>\n",
       "      <td>0</td>\n",
       "      <td>0</td>\n",
       "      <td>2</td>\n",
       "      <td>77.0</td>\n",
       "      <td>694</td>\n",
       "    </tr>\n",
       "  </tbody>\n",
       "</table>\n",
       "<p>39671 rows × 5 columns</p>\n",
       "</div>"
      ],
      "text/plain": [
       "       ccs  images  urls  chars_in_subject  chars_in_body\n",
       "0        0       4    28              47.0          25556\n",
       "1        0       6    32              46.0          19930\n",
       "2        0       0     0              21.0              4\n",
       "3        0     108   171              52.0          96568\n",
       "4        0      20   166              81.0          95131\n",
       "...    ...     ...   ...               ...            ...\n",
       "39666    0      11    31              32.0          44952\n",
       "39667    0       0     0              57.0            721\n",
       "39668    0       0     0              28.0            571\n",
       "39669    0      27   136              24.0          92847\n",
       "39670    0       0     2              77.0            694\n",
       "\n",
       "[39671 rows x 5 columns]"
      ]
     },
     "execution_count": 21,
     "metadata": {},
     "output_type": "execute_result"
    }
   ],
   "source": [
    "numerical_features = [\"ccs\", \"images\", \"urls\", \"chars_in_subject\", \"chars_in_body\"]\n",
    "df[numerical_features]"
   ]
  },
  {
   "cell_type": "code",
   "execution_count": 22,
   "metadata": {},
   "outputs": [
    {
     "data": {
      "text/html": [
       "<div>\n",
       "<style scoped>\n",
       "    .dataframe tbody tr th:only-of-type {\n",
       "        vertical-align: middle;\n",
       "    }\n",
       "\n",
       "    .dataframe tbody tr th {\n",
       "        vertical-align: top;\n",
       "    }\n",
       "\n",
       "    .dataframe thead th {\n",
       "        text-align: right;\n",
       "    }\n",
       "</style>\n",
       "<table border=\"1\" class=\"dataframe\">\n",
       "  <thead>\n",
       "    <tr style=\"text-align: right;\">\n",
       "      <th></th>\n",
       "      <th>ccs</th>\n",
       "      <th>images</th>\n",
       "      <th>urls</th>\n",
       "      <th>chars_in_subject</th>\n",
       "      <th>chars_in_body</th>\n",
       "    </tr>\n",
       "  </thead>\n",
       "  <tbody>\n",
       "    <tr>\n",
       "      <th>count</th>\n",
       "      <td>39671.000000</td>\n",
       "      <td>39671.000000</td>\n",
       "      <td>39671.000000</td>\n",
       "      <td>39660.000000</td>\n",
       "      <td>3.967100e+04</td>\n",
       "    </tr>\n",
       "    <tr>\n",
       "      <th>mean</th>\n",
       "      <td>0.378967</td>\n",
       "      <td>9.806332</td>\n",
       "      <td>36.731088</td>\n",
       "      <td>51.442032</td>\n",
       "      <td>2.321781e+05</td>\n",
       "    </tr>\n",
       "    <tr>\n",
       "      <th>std</th>\n",
       "      <td>2.530353</td>\n",
       "      <td>440.393286</td>\n",
       "      <td>144.379127</td>\n",
       "      <td>34.142227</td>\n",
       "      <td>2.251044e+06</td>\n",
       "    </tr>\n",
       "    <tr>\n",
       "      <th>min</th>\n",
       "      <td>0.000000</td>\n",
       "      <td>0.000000</td>\n",
       "      <td>0.000000</td>\n",
       "      <td>0.000000</td>\n",
       "      <td>4.000000e+00</td>\n",
       "    </tr>\n",
       "    <tr>\n",
       "      <th>25%</th>\n",
       "      <td>0.000000</td>\n",
       "      <td>0.000000</td>\n",
       "      <td>4.500000</td>\n",
       "      <td>31.000000</td>\n",
       "      <td>4.903000e+03</td>\n",
       "    </tr>\n",
       "    <tr>\n",
       "      <th>50%</th>\n",
       "      <td>0.000000</td>\n",
       "      <td>2.000000</td>\n",
       "      <td>18.000000</td>\n",
       "      <td>43.000000</td>\n",
       "      <td>2.000500e+04</td>\n",
       "    </tr>\n",
       "    <tr>\n",
       "      <th>75%</th>\n",
       "      <td>0.000000</td>\n",
       "      <td>9.000000</td>\n",
       "      <td>47.000000</td>\n",
       "      <td>63.000000</td>\n",
       "      <td>4.800100e+04</td>\n",
       "    </tr>\n",
       "    <tr>\n",
       "      <th>max</th>\n",
       "      <td>155.000000</td>\n",
       "      <td>83480.000000</td>\n",
       "      <td>21540.000000</td>\n",
       "      <td>528.000000</td>\n",
       "      <td>7.438108e+07</td>\n",
       "    </tr>\n",
       "  </tbody>\n",
       "</table>\n",
       "</div>"
      ],
      "text/plain": [
       "                ccs        images          urls  chars_in_subject  \\\n",
       "count  39671.000000  39671.000000  39671.000000      39660.000000   \n",
       "mean       0.378967      9.806332     36.731088         51.442032   \n",
       "std        2.530353    440.393286    144.379127         34.142227   \n",
       "min        0.000000      0.000000      0.000000          0.000000   \n",
       "25%        0.000000      0.000000      4.500000         31.000000   \n",
       "50%        0.000000      2.000000     18.000000         43.000000   \n",
       "75%        0.000000      9.000000     47.000000         63.000000   \n",
       "max      155.000000  83480.000000  21540.000000        528.000000   \n",
       "\n",
       "       chars_in_body  \n",
       "count   3.967100e+04  \n",
       "mean    2.321781e+05  \n",
       "std     2.251044e+06  \n",
       "min     4.000000e+00  \n",
       "25%     4.903000e+03  \n",
       "50%     2.000500e+04  \n",
       "75%     4.800100e+04  \n",
       "max     7.438108e+07  "
      ]
     },
     "execution_count": 22,
     "metadata": {},
     "output_type": "execute_result"
    }
   ],
   "source": [
    "df[numerical_features].describe()"
   ]
  },
  {
   "cell_type": "code",
   "execution_count": 23,
   "metadata": {},
   "outputs": [
    {
     "data": {
      "image/png": "[encoded data removed]",
      "text/plain": [
       "<Figure size 1080x864 with 6 Axes>"
      ]
     },
     "metadata": {
      "needs_background": "light"
     },
     "output_type": "display_data"
    }
   ],
   "source": [
    "fig, axs = plt.subplots(3, 2, figsize=(15, 12), sharey=False)\n",
    "\n",
    "for idx, (col, ax) in enumerate(zip(numerical_features, axs.ravel())):\n",
    "    df[numerical_features].boxplot(col, ax=ax)"
   ]
  },
  {
   "cell_type": "code",
   "execution_count": 24,
   "metadata": {},
   "outputs": [
    {
     "data": {
      "text/html": [
       "<div>\n",
       "<style scoped>\n",
       "    .dataframe tbody tr th:only-of-type {\n",
       "        vertical-align: middle;\n",
       "    }\n",
       "\n",
       "    .dataframe tbody tr th {\n",
       "        vertical-align: top;\n",
       "    }\n",
       "\n",
       "    .dataframe thead th {\n",
       "        text-align: right;\n",
       "    }\n",
       "</style>\n",
       "<table border=\"1\" class=\"dataframe\">\n",
       "  <thead>\n",
       "    <tr style=\"text-align: right;\">\n",
       "      <th></th>\n",
       "      <th>date</th>\n",
       "      <th>org</th>\n",
       "      <th>tld</th>\n",
       "      <th>ccs</th>\n",
       "      <th>bcced</th>\n",
       "      <th>mail_type</th>\n",
       "      <th>images</th>\n",
       "      <th>urls</th>\n",
       "      <th>salutations</th>\n",
       "      <th>designation</th>\n",
       "      <th>...</th>\n",
       "      <th>updates</th>\n",
       "      <th>personal</th>\n",
       "      <th>promotions</th>\n",
       "      <th>forums</th>\n",
       "      <th>purchases</th>\n",
       "      <th>travel</th>\n",
       "      <th>spam</th>\n",
       "      <th>social</th>\n",
       "      <th>date_day</th>\n",
       "      <th>class</th>\n",
       "    </tr>\n",
       "  </thead>\n",
       "  <tbody>\n",
       "    <tr>\n",
       "      <th>0</th>\n",
       "      <td>2018-10-15 08:03:09+00:00</td>\n",
       "      <td>researchgatemail</td>\n",
       "      <td>net</td>\n",
       "      <td>0</td>\n",
       "      <td>0</td>\n",
       "      <td>multipart/alternative</td>\n",
       "      <td>4</td>\n",
       "      <td>28</td>\n",
       "      <td>0</td>\n",
       "      <td>1</td>\n",
       "      <td>...</td>\n",
       "      <td>0</td>\n",
       "      <td>1</td>\n",
       "      <td>0</td>\n",
       "      <td>0</td>\n",
       "      <td>0</td>\n",
       "      <td>0</td>\n",
       "      <td>0</td>\n",
       "      <td>1</td>\n",
       "      <td>2018-10-15</td>\n",
       "      <td>personal</td>\n",
       "    </tr>\n",
       "    <tr>\n",
       "      <th>1</th>\n",
       "      <td>2014-04-17 16:12:33+00:00</td>\n",
       "      <td>no-ip</td>\n",
       "      <td>com</td>\n",
       "      <td>0</td>\n",
       "      <td>0</td>\n",
       "      <td>multipart/alternative</td>\n",
       "      <td>6</td>\n",
       "      <td>32</td>\n",
       "      <td>0</td>\n",
       "      <td>0</td>\n",
       "      <td>...</td>\n",
       "      <td>1</td>\n",
       "      <td>1</td>\n",
       "      <td>0</td>\n",
       "      <td>0</td>\n",
       "      <td>0</td>\n",
       "      <td>0</td>\n",
       "      <td>0</td>\n",
       "      <td>0</td>\n",
       "      <td>2014-04-17</td>\n",
       "      <td>updates</td>\n",
       "    </tr>\n",
       "    <tr>\n",
       "      <th>2</th>\n",
       "      <td>2016-10-27 01:36:28+00:00</td>\n",
       "      <td>mail</td>\n",
       "      <td>goodreads.com</td>\n",
       "      <td>0</td>\n",
       "      <td>0</td>\n",
       "      <td>multipart/mixed</td>\n",
       "      <td>0</td>\n",
       "      <td>0</td>\n",
       "      <td>0</td>\n",
       "      <td>0</td>\n",
       "      <td>...</td>\n",
       "      <td>0</td>\n",
       "      <td>1</td>\n",
       "      <td>0</td>\n",
       "      <td>0</td>\n",
       "      <td>0</td>\n",
       "      <td>0</td>\n",
       "      <td>0</td>\n",
       "      <td>1</td>\n",
       "      <td>2016-10-27</td>\n",
       "      <td>personal</td>\n",
       "    </tr>\n",
       "    <tr>\n",
       "      <th>3</th>\n",
       "      <td>2020-10-16 08:06:31+00:00</td>\n",
       "      <td>insideapple</td>\n",
       "      <td>apple.com</td>\n",
       "      <td>0</td>\n",
       "      <td>0</td>\n",
       "      <td>multipart/alternative</td>\n",
       "      <td>108</td>\n",
       "      <td>171</td>\n",
       "      <td>0</td>\n",
       "      <td>0</td>\n",
       "      <td>...</td>\n",
       "      <td>0</td>\n",
       "      <td>0</td>\n",
       "      <td>1</td>\n",
       "      <td>0</td>\n",
       "      <td>0</td>\n",
       "      <td>0</td>\n",
       "      <td>0</td>\n",
       "      <td>0</td>\n",
       "      <td>2020-10-16</td>\n",
       "      <td>promotions</td>\n",
       "    </tr>\n",
       "    <tr>\n",
       "      <th>4</th>\n",
       "      <td>2015-07-02 10:16:46+00:00</td>\n",
       "      <td>twitter</td>\n",
       "      <td>com</td>\n",
       "      <td>0</td>\n",
       "      <td>0</td>\n",
       "      <td>multipart/alternative</td>\n",
       "      <td>20</td>\n",
       "      <td>166</td>\n",
       "      <td>0</td>\n",
       "      <td>0</td>\n",
       "      <td>...</td>\n",
       "      <td>0</td>\n",
       "      <td>1</td>\n",
       "      <td>0</td>\n",
       "      <td>0</td>\n",
       "      <td>0</td>\n",
       "      <td>0</td>\n",
       "      <td>0</td>\n",
       "      <td>1</td>\n",
       "      <td>2015-07-02</td>\n",
       "      <td>personal</td>\n",
       "    </tr>\n",
       "  </tbody>\n",
       "</table>\n",
       "<p>5 rows × 22 columns</p>\n",
       "</div>"
      ],
      "text/plain": [
       "                       date               org            tld  ccs  bcced  \\\n",
       "0 2018-10-15 08:03:09+00:00  researchgatemail            net    0      0   \n",
       "1 2014-04-17 16:12:33+00:00             no-ip            com    0      0   \n",
       "2 2016-10-27 01:36:28+00:00              mail  goodreads.com    0      0   \n",
       "3 2020-10-16 08:06:31+00:00       insideapple      apple.com    0      0   \n",
       "4 2015-07-02 10:16:46+00:00           twitter            com    0      0   \n",
       "\n",
       "               mail_type  images  urls  salutations  designation  ...  \\\n",
       "0  multipart/alternative       4    28            0            1  ...   \n",
       "1  multipart/alternative       6    32            0            0  ...   \n",
       "2        multipart/mixed       0     0            0            0  ...   \n",
       "3  multipart/alternative     108   171            0            0  ...   \n",
       "4  multipart/alternative      20   166            0            0  ...   \n",
       "\n",
       "   updates  personal  promotions  forums  purchases  travel  spam  social  \\\n",
       "0        0         1           0       0          0       0     0       1   \n",
       "1        1         1           0       0          0       0     0       0   \n",
       "2        0         1           0       0          0       0     0       1   \n",
       "3        0         0           1       0          0       0     0       0   \n",
       "4        0         1           0       0          0       0     0       1   \n",
       "\n",
       "     date_day       class  \n",
       "0  2018-10-15    personal  \n",
       "1  2014-04-17     updates  \n",
       "2  2016-10-27    personal  \n",
       "3  2020-10-16  promotions  \n",
       "4  2015-07-02    personal  \n",
       "\n",
       "[5 rows x 22 columns]"
      ]
     },
     "execution_count": 24,
     "metadata": {},
     "output_type": "execute_result"
    }
   ],
   "source": [
    "df['class'] = df[list_classes].idxmax(axis=1)\n",
    "df.head()"
   ]
  },
  {
   "cell_type": "code",
   "execution_count": 25,
   "metadata": {},
   "outputs": [],
   "source": [
    "# sns.pairplot(df[numerical_features + ['class']], hue='class');"
   ]
  },
  {
   "cell_type": "markdown",
   "metadata": {},
   "source": [
    "# LightGBM"
   ]
  },
  {
   "cell_type": "code",
   "execution_count": 28,
   "metadata": {},
   "outputs": [],
   "source": []
  },
  {
   "cell_type": "markdown",
   "metadata": {},
   "source": [
    "## NA Cleaning"
   ]
  },
  {
   "cell_type": "code",
   "execution_count": 33,
   "metadata": {},
   "outputs": [
    {
     "data": {
      "text/plain": [
       "39671"
      ]
     },
     "execution_count": 33,
     "metadata": {},
     "output_type": "execute_result"
    }
   ],
   "source": [
    "len(df)"
   ]
  },
  {
   "cell_type": "code",
   "execution_count": 31,
   "metadata": {},
   "outputs": [
    {
     "data": {
      "text/plain": [
       "date                  59\n",
       "org                 1677\n",
       "tld                 1679\n",
       "ccs                    0\n",
       "bcced                  0\n",
       "mail_type             98\n",
       "images                 0\n",
       "urls                   0\n",
       "salutations            0\n",
       "designation            0\n",
       "chars_in_subject      11\n",
       "chars_in_body          0\n",
       "updates                0\n",
       "personal               0\n",
       "promotions             0\n",
       "forums                 0\n",
       "purchases              0\n",
       "travel                 0\n",
       "spam                   0\n",
       "social                 0\n",
       "date_day              59\n",
       "class                  0\n",
       "dtype: int64"
      ]
     },
     "execution_count": 31,
     "metadata": {},
     "output_type": "execute_result"
    }
   ],
   "source": [
    "df.isna().sum()"
   ]
  },
  {
   "cell_type": "code",
   "execution_count": 32,
   "metadata": {},
   "outputs": [
    {
     "data": {
      "text/plain": [
       "37893"
      ]
     },
     "execution_count": 32,
     "metadata": {},
     "output_type": "execute_result"
    }
   ],
   "source": [
    "len(df.dropna(how='any'))"
   ]
  },
  {
   "cell_type": "code",
   "execution_count": 34,
   "metadata": {},
   "outputs": [
    {
     "data": {
      "text/plain": [
       "0.9551813667414484"
      ]
     },
     "execution_count": 34,
     "metadata": {},
     "output_type": "execute_result"
    }
   ],
   "source": [
    "len(df.dropna(how='any')) / len(df)"
   ]
  },
  {
   "cell_type": "code",
   "execution_count": 35,
   "metadata": {},
   "outputs": [
    {
     "data": {
      "text/plain": [
       "date                0\n",
       "org                 0\n",
       "tld                 0\n",
       "ccs                 0\n",
       "bcced               0\n",
       "mail_type           0\n",
       "images              0\n",
       "urls                0\n",
       "salutations         0\n",
       "designation         0\n",
       "chars_in_subject    0\n",
       "chars_in_body       0\n",
       "updates             0\n",
       "personal            0\n",
       "promotions          0\n",
       "forums              0\n",
       "purchases           0\n",
       "travel              0\n",
       "spam                0\n",
       "social              0\n",
       "date_day            0\n",
       "class               0\n",
       "dtype: int64"
      ]
     },
     "execution_count": 35,
     "metadata": {},
     "output_type": "execute_result"
    }
   ],
   "source": [
    "df = df.dropna(how='any')\n",
    "df.isna().sum()"
   ]
  },
  {
   "cell_type": "markdown",
   "metadata": {},
   "source": [
    "## For one class first"
   ]
  },
  {
   "cell_type": "code",
   "execution_count": 82,
   "metadata": {},
   "outputs": [],
   "source": [
    "categorical_cols = [\"date\", \"org\", \"tld\", \"mail_type\", \"date_day\"]"
   ]
  },
  {
   "cell_type": "code",
   "execution_count": 83,
   "metadata": {},
   "outputs": [],
   "source": [
    "ordinal_encoder = OrdinalEncoder()\n",
    "df[categorical_cols] = ordinal_encoder.fit_transform(df[categorical_cols])"
   ]
  },
  {
   "cell_type": "code",
   "execution_count": 84,
   "metadata": {},
   "outputs": [
    {
     "data": {
      "text/html": [
       "<div>\n",
       "<style scoped>\n",
       "    .dataframe tbody tr th:only-of-type {\n",
       "        vertical-align: middle;\n",
       "    }\n",
       "\n",
       "    .dataframe tbody tr th {\n",
       "        vertical-align: top;\n",
       "    }\n",
       "\n",
       "    .dataframe thead th {\n",
       "        text-align: right;\n",
       "    }\n",
       "</style>\n",
       "<table border=\"1\" class=\"dataframe\">\n",
       "  <thead>\n",
       "    <tr style=\"text-align: right;\">\n",
       "      <th></th>\n",
       "      <th>date</th>\n",
       "      <th>org</th>\n",
       "      <th>tld</th>\n",
       "      <th>ccs</th>\n",
       "      <th>bcced</th>\n",
       "      <th>mail_type</th>\n",
       "      <th>images</th>\n",
       "      <th>urls</th>\n",
       "      <th>salutations</th>\n",
       "      <th>designation</th>\n",
       "      <th>chars_in_subject</th>\n",
       "      <th>chars_in_body</th>\n",
       "      <th>date_day</th>\n",
       "    </tr>\n",
       "  </thead>\n",
       "  <tbody>\n",
       "    <tr>\n",
       "      <th>0</th>\n",
       "      <td>26329.0</td>\n",
       "      <td>712.0</td>\n",
       "      <td>172.0</td>\n",
       "      <td>0</td>\n",
       "      <td>0</td>\n",
       "      <td>3.0</td>\n",
       "      <td>4</td>\n",
       "      <td>28</td>\n",
       "      <td>0</td>\n",
       "      <td>1</td>\n",
       "      <td>47.0</td>\n",
       "      <td>25556</td>\n",
       "      <td>2102.0</td>\n",
       "    </tr>\n",
       "    <tr>\n",
       "      <th>1</th>\n",
       "      <td>1063.0</td>\n",
       "      <td>598.0</td>\n",
       "      <td>59.0</td>\n",
       "      <td>0</td>\n",
       "      <td>0</td>\n",
       "      <td>3.0</td>\n",
       "      <td>6</td>\n",
       "      <td>32</td>\n",
       "      <td>0</td>\n",
       "      <td>0</td>\n",
       "      <td>46.0</td>\n",
       "      <td>19930</td>\n",
       "      <td>466.0</td>\n",
       "    </tr>\n",
       "    <tr>\n",
       "      <th>2</th>\n",
       "      <td>12999.0</td>\n",
       "      <td>511.0</td>\n",
       "      <td>108.0</td>\n",
       "      <td>0</td>\n",
       "      <td>0</td>\n",
       "      <td>4.0</td>\n",
       "      <td>0</td>\n",
       "      <td>0</td>\n",
       "      <td>0</td>\n",
       "      <td>0</td>\n",
       "      <td>21.0</td>\n",
       "      <td>4</td>\n",
       "      <td>1385.0</td>\n",
       "    </tr>\n",
       "    <tr>\n",
       "      <th>3</th>\n",
       "      <td>36079.0</td>\n",
       "      <td>461.0</td>\n",
       "      <td>24.0</td>\n",
       "      <td>0</td>\n",
       "      <td>0</td>\n",
       "      <td>3.0</td>\n",
       "      <td>108</td>\n",
       "      <td>171</td>\n",
       "      <td>0</td>\n",
       "      <td>0</td>\n",
       "      <td>52.0</td>\n",
       "      <td>96568</td>\n",
       "      <td>2834.0</td>\n",
       "    </tr>\n",
       "    <tr>\n",
       "      <th>4</th>\n",
       "      <td>3608.0</td>\n",
       "      <td>859.0</td>\n",
       "      <td>59.0</td>\n",
       "      <td>0</td>\n",
       "      <td>0</td>\n",
       "      <td>3.0</td>\n",
       "      <td>20</td>\n",
       "      <td>166</td>\n",
       "      <td>0</td>\n",
       "      <td>0</td>\n",
       "      <td>81.0</td>\n",
       "      <td>95131</td>\n",
       "      <td>903.0</td>\n",
       "    </tr>\n",
       "  </tbody>\n",
       "</table>\n",
       "</div>"
      ],
      "text/plain": [
       "      date    org    tld  ccs  bcced  mail_type  images  urls  salutations  \\\n",
       "0  26329.0  712.0  172.0    0      0        3.0       4    28            0   \n",
       "1   1063.0  598.0   59.0    0      0        3.0       6    32            0   \n",
       "2  12999.0  511.0  108.0    0      0        4.0       0     0            0   \n",
       "3  36079.0  461.0   24.0    0      0        3.0     108   171            0   \n",
       "4   3608.0  859.0   59.0    0      0        3.0      20   166            0   \n",
       "\n",
       "   designation  chars_in_subject  chars_in_body  date_day  \n",
       "0            1              47.0          25556    2102.0  \n",
       "1            0              46.0          19930     466.0  \n",
       "2            0              21.0              4    1385.0  \n",
       "3            0              52.0          96568    2834.0  \n",
       "4            0              81.0          95131     903.0  "
      ]
     },
     "execution_count": 84,
     "metadata": {},
     "output_type": "execute_result"
    }
   ],
   "source": [
    "X.head()"
   ]
  },
  {
   "cell_type": "code",
   "execution_count": 85,
   "metadata": {},
   "outputs": [],
   "source": [
    "X = df.drop(columns=list_classes+[\"class\"])\n",
    "y = df[list_classes[0]]"
   ]
  },
  {
   "cell_type": "code",
   "execution_count": 86,
   "metadata": {},
   "outputs": [
    {
     "data": {
      "text/plain": [
       "0        0\n",
       "1        1\n",
       "2        0\n",
       "3        0\n",
       "4        0\n",
       "        ..\n",
       "39665    1\n",
       "39666    0\n",
       "39668    0\n",
       "39669    1\n",
       "39670    1\n",
       "Name: updates, Length: 37893, dtype: int64"
      ]
     },
     "execution_count": 86,
     "metadata": {},
     "output_type": "execute_result"
    }
   ],
   "source": [
    "y"
   ]
  },
  {
   "cell_type": "code",
   "execution_count": 87,
   "metadata": {},
   "outputs": [],
   "source": [
    "X_train, X_test, y_train, y_test = train_test_split(\n",
    "    X, y, test_size=0.2, random_state=0, stratify=y)"
   ]
  },
  {
   "cell_type": "code",
   "execution_count": 88,
   "metadata": {},
   "outputs": [
    {
     "data": {
      "text/plain": [
       "0.20001539764416043"
      ]
     },
     "execution_count": 88,
     "metadata": {},
     "output_type": "execute_result"
    }
   ],
   "source": [
    "y_test.sum(axis=0) / (y_train.sum(axis=0) + y_test.sum(axis=0))"
   ]
  },
  {
   "cell_type": "markdown",
   "metadata": {},
   "source": [
    ">**Categorical Feature Support**\n",
    ">\n",
    ">- LightGBM offers good accuracy with integer-encoded categorical features. LightGBM applies Fisher (1958) to find the optimal split over categories as described here. This often performs better than one-hot encoding.\n",
    ">- Use categorical_feature to specify the categorical features. Refer to the parameter categorical_feature in Parameters.\n",
    ">- Categorical features must be encoded as non-negative integers (int) less than Int32.MaxValue (2147483647). It is best to use a contiguous range of integers started from zero.\n",
    ">- Use min_data_per_group, cat_smooth to deal with over-fitting (when #data is small or #category is large).\n",
    ">- For a categorical feature with high cardinality (#category is large), it often works best to treat the feature as numeric, either by simply ignoring the categorical interpretation of the integers or by embedding the categories in a low-dimensional numeric space."
   ]
  },
  {
   "cell_type": "code",
   "execution_count": 103,
   "metadata": {},
   "outputs": [
    {
     "data": {
      "text/plain": [
       "<lightgbm.basic.Dataset at 0x7fcad8119070>"
      ]
     },
     "execution_count": 103,
     "metadata": {},
     "output_type": "execute_result"
    }
   ],
   "source": [
    "d_train = lgb.Dataset(\n",
    "    X_train, \n",
    "    label=y_train, \n",
    "    feature_name='auto',\n",
    "    categorical_feature=[\"date\", \"mail_type\", \"date_day\"]\n",
    ")\n",
    "d_train"
   ]
  },
  {
   "cell_type": "code",
   "execution_count": 104,
   "metadata": {
    "scrolled": true
   },
   "outputs": [
    {
     "name": "stdout",
     "output_type": "stream",
     "text": [
      "[LightGBM] [Info] Number of positive: 10391, number of negative: 19923\n",
      "[LightGBM] [Warning] Auto-choosing row-wise multi-threading, the overhead of testing was 0.002065 seconds.\n",
      "You can set `force_row_wise=true` to remove the overhead.\n",
      "And if memory is not enough, you can set `force_col_wise=true`.\n",
      "[LightGBM] [Info] Total Bins 3905\n",
      "[LightGBM] [Info] Number of data points in the train set: 30314, number of used features: 13\n",
      "[LightGBM] [Info] [binary:BoostFromScore]: pavg=0.342779 -> initscore=-0.650935\n",
      "[LightGBM] [Info] Start training from score -0.650935\n"
     ]
    },
    {
     "name": "stderr",
     "output_type": "stream",
     "text": [
      "/Users/Tony/opt/anaconda3/envs/ml/lib/python3.8/site-packages/lightgbm/basic.py:1551: UserWarning: Using categorical_feature in Dataset.\n",
      "  warnings.warn('Using categorical_feature in Dataset.')\n"
     ]
    }
   ],
   "source": [
    "param = {'num_leaves': 31, 'objective': 'binary'}\n",
    "param['metric'] = 'auc'\n",
    "\n",
    "clf = lgb.train(params, d_train)"
   ]
  },
  {
   "cell_type": "code",
   "execution_count": 105,
   "metadata": {},
   "outputs": [
    {
     "data": {
      "text/plain": [
       "array([0, 0, 0, ..., 0, 0, 0])"
      ]
     },
     "execution_count": 105,
     "metadata": {},
     "output_type": "execute_result"
    }
   ],
   "source": [
    "y_pred = clf.predict(X_test)\n",
    "y_pred = np.where(y_pred > 0.5, 1, 0)\n",
    "\n",
    "\n",
    "y_pred"
   ]
  },
  {
   "cell_type": "code",
   "execution_count": 106,
   "metadata": {},
   "outputs": [
    {
     "data": {
      "text/plain": [
       "{0: 7579}"
      ]
     },
     "execution_count": 106,
     "metadata": {},
     "output_type": "execute_result"
    }
   ],
   "source": [
    "unique, counts = np.unique(y_pred, return_counts=True)\n",
    "dict(zip(unique, counts))"
   ]
  },
  {
   "cell_type": "code",
   "execution_count": null,
   "metadata": {},
   "outputs": [],
   "source": []
  }
 ],
 "metadata": {
  "kernelspec": {
   "display_name": "Python 3",
   "language": "python",
   "name": "python3"
  },
  "language_info": {
   "codemirror_mode": {
    "name": "ipython",
    "version": 3
   },
   "file_extension": ".py",
   "mimetype": "text/x-python",
   "name": "python",
   "nbconvert_exporter": "python",
   "pygments_lexer": "ipython3",
   "version": "3.8.5"
  },
  "toc": {
   "base_numbering": 1,
   "nav_menu": {},
   "number_sections": true,
   "sideBar": true,
   "skip_h1_title": false,
   "title_cell": "Table of Contents",
   "title_sidebar": "Contents",
   "toc_cell": true,
   "toc_position": {
    "height": "calc(100% - 180px)",
    "left": "10px",
    "top": "150px",
    "width": "256px"
   },
   "toc_section_display": true,
   "toc_window_display": true
  },
  "varInspector": {
   "cols": {
    "lenName": 16,
    "lenType": 16,
    "lenVar": 40
   },
   "kernels_config": {
    "python": {
     "delete_cmd_postfix": "",
     "delete_cmd_prefix": "del ",
     "library": "var_list.py",
     "varRefreshCmd": "print(var_dic_list())"
    },
    "r": {
     "delete_cmd_postfix": ") ",
     "delete_cmd_prefix": "rm(",
     "library": "var_list.r",
     "varRefreshCmd": "cat(var_dic_list()) "
    }
   },
   "types_to_exclude": [
    "module",
    "function",
    "builtin_function_or_method",
    "instance",
    "_Feature"
   ],
   "window_display": false
  }
 },
 "nbformat": 4,
 "nbformat_minor": 4
}
